{
 "cells": [
  {
   "cell_type": "markdown",
   "id": "1d294010",
   "metadata": {},
   "source": [
    "# Deleting A Node"
   ]
  },
  {
   "cell_type": "code",
   "execution_count": 3,
   "id": "c523083d",
   "metadata": {},
   "outputs": [
    {
     "name": "stdout",
     "output_type": "stream",
     "text": [
      "1\n",
      "2\n",
      "3\n",
      "\n",
      "After Deleting\n",
      "1\n",
      "3\n"
     ]
    }
   ],
   "source": [
    "class  Node:\n",
    "    def __init__(self,data):\n",
    "        self.data=data\n",
    "        self.next=None\n",
    "    \n",
    "class Linked_List:\n",
    "    \n",
    "    def __init__(self):\n",
    "        self.head=None\n",
    "        \n",
    "    def printList(self):\n",
    "        temp=self.head\n",
    "        while(temp):\n",
    "            print(temp.data)\n",
    "            temp=temp.next\n",
    "            \n",
    "    def delete(self,key):\n",
    "        \n",
    "        temp=self.head\n",
    "        if(temp is not None):\n",
    "            if(temp.data==key):\n",
    "                self.head=temp.next\n",
    "                temp=None\n",
    "                return\n",
    "        \n",
    "        while(temp is not None):\n",
    "            if temp.data==key:\n",
    "                break\n",
    "            prev=temp\n",
    "            temp=temp.next\n",
    "            \n",
    "        if(temp==None):\n",
    "            return\n",
    "        \n",
    "        prev.next=temp.next\n",
    "        temp=None\n",
    " \n",
    "if __name__=='__main__':\n",
    "    l=Linked_List()\n",
    "    l.head=Node(1)\n",
    "    second=Node(2)\n",
    "    third=Node(3)\n",
    "    \n",
    "    l.head.next=second\n",
    "    second.next=third\n",
    "    \n",
    "    l.printList()\n",
    "    \n",
    "    print(\"\\nAfter Deleting\")\n",
    "    \n",
    "    l.delete(2)\n",
    "    \n",
    "    l.printList()"
   ]
  },
  {
   "cell_type": "markdown",
   "id": "e24aed15",
   "metadata": {},
   "source": [
    "# Deleting from the given position"
   ]
  },
  {
   "cell_type": "code",
   "execution_count": 4,
   "id": "54125d41",
   "metadata": {},
   "outputs": [
    {
     "name": "stdout",
     "output_type": "stream",
     "text": [
      "9\n",
      "3\n",
      "8\n",
      "4\n",
      "List Created\n",
      "\n",
      "Deleting node in first position\n",
      "9\n",
      "8\n",
      "4\n"
     ]
    }
   ],
   "source": [
    "class Node:\n",
    "    def __init__(self,data):\n",
    "        self.data=data\n",
    "        self.next=None\n",
    "    \n",
    "class LinkedList:\n",
    "    def __init__(self):\n",
    "        self.head=None\n",
    "    \n",
    "    def push(self,new_data):\n",
    "        new_node=Node(new_data)\n",
    "        new_node.next=self.head\n",
    "        self.head=new_node\n",
    "        \n",
    "    def delete_node(self,position):\n",
    "        if self.head==None:\n",
    "            return\n",
    "        \n",
    "        temp=self.head\n",
    "        \n",
    "        if position==0:\n",
    "            self.head=temp.next\n",
    "            return\n",
    "        \n",
    "        for i in range(position-1):\n",
    "            temp=temp.next\n",
    "            if  temp is None:\n",
    "                break\n",
    "        \n",
    "        if temp is None:\n",
    "            return\n",
    "        if temp.next is None:\n",
    "            return\n",
    "        \n",
    "        next_one=temp.next.next\n",
    "        \n",
    "        temp.next=None\n",
    "        temp.next=next_one\n",
    "    \n",
    "    def print_list(self):\n",
    "        temp=self.head\n",
    "        while(temp):\n",
    "            print(temp.data)\n",
    "            temp=temp.next\n",
    "\n",
    "l=LinkedList()\n",
    "l.push(4)\n",
    "l.push(8)\n",
    "l.push(3)\n",
    "l.push(9)\n",
    "l.print_list()\n",
    "print(\"List Created\")\n",
    "print(\"\\nDeleting node in first position\")\n",
    "l.delete_node(1)\n",
    "l.print_list()"
   ]
  },
  {
   "cell_type": "code",
   "execution_count": null,
   "id": "39a5e0e3",
   "metadata": {},
   "outputs": [],
   "source": []
  },
  {
   "cell_type": "code",
   "execution_count": null,
   "id": "3f802ea8",
   "metadata": {},
   "outputs": [],
   "source": []
  }
 ],
 "metadata": {
  "kernelspec": {
   "display_name": "Python 3",
   "language": "python",
   "name": "python3"
  },
  "language_info": {
   "codemirror_mode": {
    "name": "ipython",
    "version": 3
   },
   "file_extension": ".py",
   "mimetype": "text/x-python",
   "name": "python",
   "nbconvert_exporter": "python",
   "pygments_lexer": "ipython3",
   "version": "3.8.8"
  }
 },
 "nbformat": 4,
 "nbformat_minor": 5
}
