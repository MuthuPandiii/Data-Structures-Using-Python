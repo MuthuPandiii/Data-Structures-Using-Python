{
 "cells": [
  {
   "cell_type": "code",
   "execution_count": 9,
   "id": "0efd11d2",
   "metadata": {},
   "outputs": [
    {
     "name": "stdout",
     "output_type": "stream",
     "text": [
      "5 -> 6 -> 7 -> 8 -> 9 -> None\n",
      "After Moving Last element to first\n",
      "9 -> 6 -> 7 -> 8 -> 5 -> None\n"
     ]
    }
   ],
   "source": [
    "class Node:\n",
    "    def __init__(self,data):\n",
    "        self.data=data\n",
    "        self.next=None\n",
    "    \n",
    "class LinkedList:\n",
    "    def __init__(self):\n",
    "        self.head=None\n",
    "        \n",
    "    def push(self,new_data):\n",
    "        new_node=Node(new_data)\n",
    "        while self.head is None:\n",
    "            self.head=new_node\n",
    "            return\n",
    "        new_node.next=self.head\n",
    "        self.head=new_node\n",
    "\n",
    "    def print_list(self):\n",
    "        temp=self.head\n",
    "        while temp:\n",
    "            print(temp.data,\"->\",end=\" \")\n",
    "            temp=temp.next\n",
    "        print(\"None\")\n",
    "            \n",
    "    def move_to_last(self):\n",
    "        head=self.head\n",
    "        last=self.head\n",
    "        while last.next:\n",
    "            last=last.next\n",
    "        head.data,last.data=last.data,head.data\n",
    "                    \n",
    "l=LinkedList()\n",
    "l.push(9)\n",
    "l.push(8)\n",
    "l.push(7)\n",
    "l.push(6)\n",
    "l.push(5)\n",
    "l.print_list()\n",
    "print(\"After Moving Last element to first\")\n",
    "l.move_to_last()\n",
    "l.print_list()\n",
    "\n",
    "        \n",
    "        "
   ]
  },
  {
   "cell_type": "code",
   "execution_count": null,
   "id": "993ccca5",
   "metadata": {},
   "outputs": [],
   "source": []
  }
 ],
 "metadata": {
  "kernelspec": {
   "display_name": "Python 3",
   "language": "python",
   "name": "python3"
  },
  "language_info": {
   "codemirror_mode": {
    "name": "ipython",
    "version": 3
   },
   "file_extension": ".py",
   "mimetype": "text/x-python",
   "name": "python",
   "nbconvert_exporter": "python",
   "pygments_lexer": "ipython3",
   "version": "3.8.8"
  }
 },
 "nbformat": 4,
 "nbformat_minor": 5
}
