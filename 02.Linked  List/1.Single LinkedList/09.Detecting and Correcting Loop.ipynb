{
 "cells": [
  {
   "cell_type": "markdown",
   "id": "e7366124",
   "metadata": {},
   "source": [
    "# Detecting and Removing  Loop using Flyod Cycle"
   ]
  },
  {
   "cell_type": "code",
   "execution_count": 6,
   "id": "e7252629",
   "metadata": {},
   "outputs": [
    {
     "name": "stdout",
     "output_type": "stream",
     "text": [
      "9\n",
      "8\n",
      "7\n",
      "5\n",
      "Loop Detected and Removed\n",
      "9\n",
      "8\n",
      "7\n",
      "5\n"
     ]
    }
   ],
   "source": [
    "class Node:\n",
    "    def __init__(self,data):\n",
    "        self.data=data\n",
    "        self.next=None\n",
    "\n",
    "class LinkedList:\n",
    "    def __init__(self):\n",
    "        self.head=None\n",
    "    \n",
    "    def append(self,new_data):\n",
    "        new_node=Node(new_data)\n",
    "        if self.head is None:\n",
    "                self.head=new_node\n",
    "                return\n",
    "        temp=self.head\n",
    "        while temp.next:\n",
    "            temp=temp.next\n",
    "        temp.next=new_node\n",
    "        \n",
    "    def print_list(self):\n",
    "        temp=self.head\n",
    "        s=set()\n",
    "        while temp:\n",
    "            if temp in s:\n",
    "                break\n",
    "            s.add(temp)\n",
    "            print(temp.data)\n",
    "            temp=temp.next\n",
    "    \n",
    "    def print_without_set(self):\n",
    "        temp=self.head\n",
    "        while temp:\n",
    "            print(temp.data)\n",
    "            temp=temp.next\n",
    "    \n",
    "    def detect_loop_flyods_cycle(self):\n",
    "        slow=self.head\n",
    "        fast=self.head\n",
    "        while slow and fast and fast.next:\n",
    "            prev=slow\n",
    "            slow=slow.next\n",
    "            fast=fast.next.next\n",
    "            if slow==fast:\n",
    "                print(\"Loop Detected and Removed\")\n",
    "                prev.next=None\n",
    "                return \n",
    "        print(\"No Loop Detected\")\n",
    "                \n",
    "l=LinkedList()\n",
    "l.append(9)\n",
    "l.append(8)\n",
    "l.append(7)\n",
    "l.append(5)\n",
    "l.head.next.next.next.next=l.head\n",
    "l.print_list()\n",
    "l.detect_loop_flyods_cycle()\n",
    "l.print_without_set()"
   ]
  },
  {
   "cell_type": "markdown",
   "id": "ec31dff3",
   "metadata": {},
   "source": [
    "# Simplified Flyod Cycle"
   ]
  },
  {
   "cell_type": "code",
   "execution_count": 9,
   "id": "a49e3d40",
   "metadata": {},
   "outputs": [
    {
     "name": "stdout",
     "output_type": "stream",
     "text": [
      "9\n",
      "8\n",
      "7\n",
      "5\n",
      "No Loop Detected\n"
     ]
    }
   ],
   "source": [
    "class Node:\n",
    "    def __init__(self,data):\n",
    "        self.data=data\n",
    "        self.next=None\n",
    "\n",
    "class LinkedList:\n",
    "    def __init__(self):\n",
    "        self.head=None\n",
    "    \n",
    "    def append(self,new_data):\n",
    "        new_node=Node(new_data)\n",
    "        if self.head is None:\n",
    "                self.head=new_node\n",
    "                return\n",
    "        temp=self.head\n",
    "        while temp.next:\n",
    "            temp=temp.next\n",
    "        temp.next=new_node\n",
    "        \n",
    "    def print_list(self):\n",
    "        temp=self.head\n",
    "        s=set()\n",
    "        while temp:\n",
    "            if temp in s:\n",
    "                break\n",
    "            s.add(temp)\n",
    "            print(temp.data)\n",
    "            temp=temp.next\n",
    "    \n",
    "    def print_without_set(self):\n",
    "        temp=self.head\n",
    "        while temp:\n",
    "            print(temp.data)\n",
    "            temp=temp.next\n",
    "    \n",
    "    def detect_loop_flyods_cycle(self):\n",
    "        slow=self.head\n",
    "        fast=self.head\n",
    "        while slow and fast and fast.next:\n",
    "            slow=slow.next\n",
    "            fast=fast.next.next\n",
    "            if slow==fast:\n",
    "                self.remove_loop(slow)\n",
    "                return \n",
    "        print(\"No Loop Detected\")\n",
    "    \n",
    "    def remove_loop(self,slow_pointer):\n",
    "        ptr1=slow_pointer\n",
    "        ptr2=slow_pointer\n",
    "        while(ptr2.next!=ptr1):\n",
    "            ptr2=ptr2.next\n",
    "        ptr2.next=None\n",
    "        print(\"Loop Detected and Removed\")\n",
    "                \n",
    "l=LinkedList()\n",
    "l.append(9)\n",
    "l.append(8)\n",
    "l.append(7)\n",
    "l.append(5)\n",
    "#l.head.next.next.next.next=l.head\n",
    "l.print_list()\n",
    "l.detect_loop_flyods_cycle()"
   ]
  },
  {
   "cell_type": "code",
   "execution_count": null,
   "id": "a9611a32",
   "metadata": {},
   "outputs": [],
   "source": []
  }
 ],
 "metadata": {
  "kernelspec": {
   "display_name": "Python 3",
   "language": "python",
   "name": "python3"
  },
  "language_info": {
   "codemirror_mode": {
    "name": "ipython",
    "version": 3
   },
   "file_extension": ".py",
   "mimetype": "text/x-python",
   "name": "python",
   "nbconvert_exporter": "python",
   "pygments_lexer": "ipython3",
   "version": "3.8.8"
  }
 },
 "nbformat": 4,
 "nbformat_minor": 5
}
