{
 "cells": [
  {
   "cell_type": "markdown",
   "id": "31423b78",
   "metadata": {},
   "source": [
    "# Length Of  LinkedList\n"
   ]
  },
  {
   "cell_type": "code",
   "execution_count": 1,
   "id": "b984ab60",
   "metadata": {},
   "outputs": [
    {
     "name": "stdout",
     "output_type": "stream",
     "text": [
      "9\n",
      "3\n",
      "8\n",
      "7\n",
      "4\n",
      "List Created\n",
      "\n",
      "The length is\n",
      "5\n"
     ]
    }
   ],
   "source": [
    "class Node:\n",
    "    def __init__(self,data):\n",
    "        self.data=data\n",
    "        self.next=None\n",
    "    \n",
    "class LinkedList:\n",
    "    def __init__(self):\n",
    "        self.head=None\n",
    "    \n",
    "    def push(self,new_data):\n",
    "        new_node=Node(new_data)\n",
    "        new_node.next=self.head\n",
    "        self.head=new_node\n",
    "            \n",
    "    \n",
    "    def print_list(self):\n",
    "        temp=self.head\n",
    "        while(temp):\n",
    "            if temp.data==None:\n",
    "                break\n",
    "            print(temp.data)\n",
    "            temp=temp.next\n",
    "            \n",
    "    def length(self):\n",
    "        current=self.head\n",
    "        length=0\n",
    "        while(current):\n",
    "            current=current.next\n",
    "            length+=1\n",
    "        print(length)\n",
    "\n",
    "l=LinkedList()\n",
    "l.push(4)\n",
    "l.push(7)\n",
    "l.push(8)\n",
    "l.push(3)\n",
    "l.push(9)\n",
    "l.print_list()\n",
    "print(\"List Created\")\n",
    "print(\"\\nThe length is\")\n",
    "l.length()"
   ]
  },
  {
   "cell_type": "markdown",
   "id": "75f5a1c2",
   "metadata": {},
   "source": [
    "# Recursive Method"
   ]
  },
  {
   "cell_type": "code",
   "execution_count": 2,
   "id": "52c91bfe",
   "metadata": {},
   "outputs": [
    {
     "name": "stdout",
     "output_type": "stream",
     "text": [
      "10\n",
      "9\n",
      "3\n",
      "8\n",
      "7\n",
      "4\n",
      "List Created\n",
      "\n",
      "The length is\n",
      "6\n"
     ]
    }
   ],
   "source": [
    "class Node:\n",
    "    def __init__(self,data):\n",
    "        self.data=data\n",
    "        self.next=None\n",
    "    \n",
    "class LinkedList:\n",
    "    def __init__(self):\n",
    "        self.head=None\n",
    "    \n",
    "    def push(self,new_data):\n",
    "        new_node=Node(new_data)\n",
    "        new_node.next=self.head\n",
    "        self.head=new_node\n",
    "            \n",
    "    \n",
    "    def print_list(self):\n",
    "        temp=self.head\n",
    "        while(temp):\n",
    "            if temp.data==None:\n",
    "                break\n",
    "            print(temp.data)\n",
    "            temp=temp.next\n",
    "            \n",
    "    def length(self,node):\n",
    "        if(not node):\n",
    "            return 0\n",
    "        else:\n",
    "            return 1+self.length(node.next)\n",
    "    \n",
    "    def len_linked_list(self):\n",
    "        return self.length(self.head)\n",
    "    \n",
    "l=LinkedList()\n",
    "l.push(4)\n",
    "l.push(7)\n",
    "l.push(8)\n",
    "l.push(3)\n",
    "l.push(9)\n",
    "l.push(10)\n",
    "l.print_list()\n",
    "print(\"List Created\")\n",
    "print(\"\\nThe length is\")\n",
    "print(l.len_linked_list())\n"
   ]
  },
  {
   "cell_type": "code",
   "execution_count": null,
   "id": "434ba203",
   "metadata": {},
   "outputs": [],
   "source": []
  }
 ],
 "metadata": {
  "kernelspec": {
   "display_name": "Python 3",
   "language": "python",
   "name": "python3"
  },
  "language_info": {
   "codemirror_mode": {
    "name": "ipython",
    "version": 3
   },
   "file_extension": ".py",
   "mimetype": "text/x-python",
   "name": "python",
   "nbconvert_exporter": "python",
   "pygments_lexer": "ipython3",
   "version": "3.8.8"
  }
 },
 "nbformat": 4,
 "nbformat_minor": 5
}
