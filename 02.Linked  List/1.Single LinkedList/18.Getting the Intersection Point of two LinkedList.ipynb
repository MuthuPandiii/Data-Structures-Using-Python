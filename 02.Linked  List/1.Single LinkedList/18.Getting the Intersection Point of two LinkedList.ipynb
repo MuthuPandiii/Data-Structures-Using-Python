{
 "cells": [
  {
   "cell_type": "markdown",
   "id": "3f13401d",
   "metadata": {},
   "source": [
    "# Two Pointers Method"
   ]
  },
  {
   "cell_type": "code",
   "execution_count": 45,
   "id": "7cd19220",
   "metadata": {},
   "outputs": [
    {
     "name": "stdout",
     "output_type": "stream",
     "text": [
      "The Common Node: 50\n"
     ]
    }
   ],
   "source": [
    "class Node:\n",
    "    def __init__(self,data):\n",
    "        self.data=data\n",
    "        self.next=None\n",
    "    \n",
    "def print_list(head):\n",
    "    temp=head\n",
    "    while temp:\n",
    "        print(temp.data)\n",
    "        temp=temp.next\n",
    "        \n",
    "def intersection_point(head1,head2):\n",
    "    c1=get_count(head1)\n",
    "    c2=get_count(head2)\n",
    "    if c1>c2:\n",
    "        d=c1-c2\n",
    "        return get_intersection_point(d,head1,head2)\n",
    "    else:\n",
    "        d=c2-c1\n",
    "        return get_intersection_point(d,head2,head1)\n",
    "\n",
    "def get_count(node):\n",
    "    current=node\n",
    "    count=0\n",
    "    while current:\n",
    "        count+=1\n",
    "        current=current.next\n",
    "    return count\n",
    "\n",
    "def get_intersection_point(d,head1,head2):\n",
    "    \n",
    "    current1=head1\n",
    "    current2=head2\n",
    "    \n",
    "    for i in range(d):\n",
    "        current1=current1.next\n",
    "    \n",
    "    while current1 and current2:\n",
    "        if current1==current2:\n",
    "            return current1.data\n",
    "\n",
    "        current1=current1.next\n",
    "        current2=current2.next\n",
    "\n",
    "common=Node(50)\n",
    "        \n",
    "head1=Node(10)\n",
    "head1.next=Node(20)\n",
    "head1.next.next=Node(30)\n",
    "head1.next.next.next=Node(40)\n",
    "head1.next.next.next.next=common\n",
    "\n",
    "head2=Node(100)\n",
    "head2.next=Node(90)\n",
    "head2.next.next=common\n",
    "head2.next.next.next=Node(60)\n",
    "head2.next.next.next.next=Node(70)\n",
    "print(\"The Common Node:\",intersection_point(head1,head2))\n",
    "#print(intersection_point(head1,head2))\n",
    "#print(c)"
   ]
  },
  {
   "cell_type": "markdown",
   "id": "e10318fa",
   "metadata": {},
   "source": [
    "# Flyods Cycle Method"
   ]
  },
  {
   "cell_type": "code",
   "execution_count": 46,
   "id": "80917ea3",
   "metadata": {},
   "outputs": [
    {
     "name": "stdout",
     "output_type": "stream",
     "text": [
      "List1:\n",
      "10 -> 20 -> 30 -> 40 -> 50 -> 60 -> 70 -> None\n",
      "List2:\n",
      "100 -> 90 -> 50 -> 60 -> 70 -> 10 -> 20 -> 30 -> 40 -> None\n"
     ]
    },
    {
     "ename": "KeyboardInterrupt",
     "evalue": "",
     "output_type": "error",
     "traceback": [
      "\u001b[1;31m---------------------------------------------------------------------------\u001b[0m",
      "\u001b[1;31mKeyboardInterrupt\u001b[0m                         Traceback (most recent call last)",
      "\u001b[1;32m<ipython-input-46-c4d7dc90e84b>\u001b[0m in \u001b[0;36m<module>\u001b[1;34m\u001b[0m\n\u001b[0;32m     50\u001b[0m \u001b[0mprint\u001b[0m\u001b[1;33m(\u001b[0m\u001b[1;34m\"List2:\"\u001b[0m\u001b[1;33m)\u001b[0m\u001b[1;33m\u001b[0m\u001b[1;33m\u001b[0m\u001b[0m\n\u001b[0;32m     51\u001b[0m \u001b[0mprint_list\u001b[0m\u001b[1;33m(\u001b[0m\u001b[0mhead2\u001b[0m\u001b[1;33m)\u001b[0m\u001b[1;33m\u001b[0m\u001b[1;33m\u001b[0m\u001b[0m\n\u001b[1;32m---> 52\u001b[1;33m \u001b[0mprint\u001b[0m\u001b[1;33m(\u001b[0m\u001b[1;34m\"The Common Intersection Point:\"\u001b[0m\u001b[1;33m,\u001b[0m\u001b[0mloop_and_find_method\u001b[0m\u001b[1;33m(\u001b[0m\u001b[0mhead1\u001b[0m\u001b[1;33m,\u001b[0m\u001b[0mhead2\u001b[0m\u001b[1;33m)\u001b[0m\u001b[1;33m)\u001b[0m\u001b[1;33m\u001b[0m\u001b[1;33m\u001b[0m\u001b[0m\n\u001b[0m",
      "\u001b[1;32m<ipython-input-46-c4d7dc90e84b>\u001b[0m in \u001b[0;36mloop_and_find_method\u001b[1;34m(head1, head2)\u001b[0m\n\u001b[0;32m     19\u001b[0m     \u001b[0mtemp\u001b[0m\u001b[1;33m=\u001b[0m\u001b[0mhead1\u001b[0m\u001b[1;33m\u001b[0m\u001b[1;33m\u001b[0m\u001b[0m\n\u001b[0;32m     20\u001b[0m     \u001b[1;32mwhile\u001b[0m \u001b[0mtemp\u001b[0m\u001b[1;33m.\u001b[0m\u001b[0mnext\u001b[0m\u001b[1;33m:\u001b[0m\u001b[1;33m\u001b[0m\u001b[1;33m\u001b[0m\u001b[0m\n\u001b[1;32m---> 21\u001b[1;33m         \u001b[0mtemp\u001b[0m\u001b[1;33m=\u001b[0m\u001b[0mtemp\u001b[0m\u001b[1;33m.\u001b[0m\u001b[0mnext\u001b[0m\u001b[1;33m\u001b[0m\u001b[1;33m\u001b[0m\u001b[0m\n\u001b[0m\u001b[0;32m     22\u001b[0m     \u001b[0mtemp\u001b[0m\u001b[1;33m.\u001b[0m\u001b[0mnext\u001b[0m\u001b[1;33m=\u001b[0m\u001b[0mhead1\u001b[0m\u001b[1;33m\u001b[0m\u001b[1;33m\u001b[0m\u001b[0m\n\u001b[0;32m     23\u001b[0m \u001b[1;33m\u001b[0m\u001b[0m\n",
      "\u001b[1;31mKeyboardInterrupt\u001b[0m: "
     ]
    }
   ],
   "source": [
    "class Node:\n",
    "    def __init__(self,data):\n",
    "        self.data=data\n",
    "        self.next=None\n",
    "    \n",
    "def print_list(head):\n",
    "    temp=head\n",
    "    s=set()\n",
    "    while temp:\n",
    "        if temp in s:\n",
    "            break\n",
    "        else:\n",
    "            s.add(temp)\n",
    "            print(temp.data,\"->\",end=\" \")\n",
    "        temp=temp.next\n",
    "    print(\"None\")\n",
    "        \n",
    "def loop_and_find_method(head1,head2):\n",
    "    temp=head1\n",
    "    while temp.next:\n",
    "        temp=temp.next\n",
    "    temp.next=head1\n",
    "    \n",
    "    slow=head2\n",
    "    fast=head2\n",
    "    while slow and fast  and fast.next:\n",
    "        slow=slow.next\n",
    "        fast=fast.next.next\n",
    "        if slow==fast:\n",
    "            return slow.data\n",
    "        \n",
    "\n",
    "\n",
    "common=Node(50)\n",
    "        \n",
    "head1=Node(10)\n",
    "head1.next=Node(20)\n",
    "head1.next.next=Node(30)\n",
    "head1.next.next.next=Node(40)\n",
    "head1.next.next.next.next=common\n",
    "\n",
    "head2=Node(100)\n",
    "head2.next=Node(90)\n",
    "head2.next.next=common\n",
    "head2.next.next.next=Node(60)\n",
    "head2.next.next.next.next=Node(70)\n",
    "loop_and_find_method(head1,head2)\n",
    "print(\"List1:\")\n",
    "print_list(head1)\n",
    "print(\"List2:\")\n",
    "print_list(head2)\n",
    "print(\"The Common Intersection Point:\",loop_and_find_method(head1,head2))\n"
   ]
  },
  {
   "cell_type": "code",
   "execution_count": null,
   "id": "93421e8a",
   "metadata": {},
   "outputs": [],
   "source": []
  }
 ],
 "metadata": {
  "kernelspec": {
   "display_name": "Python 3",
   "language": "python",
   "name": "python3"
  },
  "language_info": {
   "codemirror_mode": {
    "name": "ipython",
    "version": 3
   },
   "file_extension": ".py",
   "mimetype": "text/x-python",
   "name": "python",
   "nbconvert_exporter": "python",
   "pygments_lexer": "ipython3",
   "version": "3.8.8"
  }
 },
 "nbformat": 4,
 "nbformat_minor": 5
}
