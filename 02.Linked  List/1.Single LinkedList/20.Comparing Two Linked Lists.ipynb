{
 "cells": [
  {
   "cell_type": "code",
   "execution_count": 2,
   "id": "50eb8ebb",
   "metadata": {},
   "outputs": [],
   "source": [
    "class SinglyLinkedListNode:\n",
    "    def __init__(self, node_data):\n",
    "        self.data = node_data\n",
    "        self.next = None\n",
    "\n",
    "class SinglyLinkedList:\n",
    "    def __init__(self):\n",
    "        self.head = None\n",
    "        self.tail = None\n",
    "\n",
    "    def insert_node(self, node_data):\n",
    "        node = SinglyLinkedListNode(node_data)\n",
    "\n",
    "        if not self.head:\n",
    "            self.head = node\n",
    "        else:\n",
    "            self.tail.next = node\n",
    "\n",
    "\n",
    "        self.tail = node\n",
    "        \n",
    "def print_singly_linked_list(node):\n",
    "    while node:\n",
    "        print(str(node.data),endl=\" \")\n",
    "\n",
    "        node = node.next"
   ]
  },
  {
   "cell_type": "code",
   "execution_count": 25,
   "id": "017c86b9",
   "metadata": {},
   "outputs": [
    {
     "name": "stdout",
     "output_type": "stream",
     "text": [
      "2\n",
      "3\n",
      "3\n",
      "2\n",
      "2\n",
      "3\n",
      "3\n",
      "2\n",
      "2\n",
      "True\n",
      "2\n",
      "2\n",
      "1\n",
      "2\n",
      "1\n",
      "2\n",
      "False\n"
     ]
    }
   ],
   "source": [
    "if __name__ == '__main__':\n",
    "\n",
    "    tests = int(input())\n",
    "\n",
    "    for tests_itr in range(tests):\n",
    "        llist1_count = int(input())\n",
    "\n",
    "        llist1 = SinglyLinkedList()\n",
    "\n",
    "        for _ in range(llist1_count):\n",
    "            llist1_item = int(input())\n",
    "            llist1.insert_node(llist1_item)\n",
    "            \n",
    "        llist2_count = int(input())\n",
    "\n",
    "        llist2 = SinglyLinkedList()\n",
    "\n",
    "        for _ in range(llist2_count):\n",
    "            llist2_item = int(input())\n",
    "            llist2.insert_node(llist2_item)\n",
    "\n",
    "        result = compare_lists(llist1.head, llist2.head)\n",
    "\n",
    "        print(result)"
   ]
  },
  {
   "cell_type": "code",
   "execution_count": null,
   "id": "5e8f90a5",
   "metadata": {},
   "outputs": [],
   "source": [
    "2\n",
    "3\n",
    "3\n",
    "2\n",
    "2\n",
    "3\n",
    "3\n",
    "2\n",
    "2\n",
    "2\n",
    "2\n",
    "1\n",
    "2\n",
    "1\n",
    "2"
   ]
  }
 ],
 "metadata": {
  "kernelspec": {
   "display_name": "Python 3",
   "language": "python",
   "name": "python3"
  },
  "language_info": {
   "codemirror_mode": {
    "name": "ipython",
    "version": 3
   },
   "file_extension": ".py",
   "mimetype": "text/x-python",
   "name": "python",
   "nbconvert_exporter": "python",
   "pygments_lexer": "ipython3",
   "version": "3.8.8"
  }
 },
 "nbformat": 4,
 "nbformat_minor": 5
}
