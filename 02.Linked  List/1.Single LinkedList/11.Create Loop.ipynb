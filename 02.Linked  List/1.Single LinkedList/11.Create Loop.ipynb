{
 "cells": [
  {
   "cell_type": "markdown",
   "id": "470fb47b",
   "metadata": {},
   "source": [
    "# Loop Creation"
   ]
  },
  {
   "cell_type": "code",
   "execution_count": 12,
   "id": "727f398d",
   "metadata": {},
   "outputs": [
    {
     "name": "stdout",
     "output_type": "stream",
     "text": [
      "3\n",
      "1\n",
      "9\n",
      "7\n",
      "8\n",
      "9\n",
      "No Loop Detected\n",
      "Do  you want  to create Loop?[y/n]y\n",
      "From which node should the loop start?2\n",
      "Loop  Detected\n",
      "The length of the loop is 5\n"
     ]
    }
   ],
   "source": [
    "class Node:\n",
    "    def __init__(self,data):\n",
    "        self.data=data\n",
    "        self.next=None\n",
    "    \n",
    "class LinkedList:\n",
    "    def __init__(self):\n",
    "        self.head=None\n",
    "        \n",
    "    def push(self,new_data):\n",
    "        new_node=Node(new_data)\n",
    "        while self.head is None:\n",
    "            self.head=new_node\n",
    "            return\n",
    "        new_node.next=self.head\n",
    "        self.head=new_node\n",
    "\n",
    "    def print_list(self):\n",
    "        temp=self.head\n",
    "        s=set()\n",
    "        while temp:\n",
    "            if temp in s:\n",
    "                break\n",
    "            s.add(temp)\n",
    "            print(temp.data)\n",
    "            temp=temp.next\n",
    "    \n",
    "    def create_loop(self,n):\n",
    "        loop_node=self.head\n",
    "        for i in range(1,n):\n",
    "            loop_node=loop_node.next\n",
    "        \n",
    "        end_node=self.head\n",
    "        while end_node.next:\n",
    "            end_node=end_node.next\n",
    "        end_node.next=loop_node\n",
    "    \n",
    "    def detect_loop(self):\n",
    "        slow=self.head\n",
    "        fast=self.head\n",
    "        while slow and fast and fast.next:\n",
    "            slow=slow.next\n",
    "            fast=fast.next.next\n",
    "            if slow==fast:\n",
    "                print(\"Loop  Detected\")\n",
    "                self.length_of_loop(slow)\n",
    "                return\n",
    "        print(\"No Loop Detected\")\n",
    "    \n",
    "    def length_of_loop(self,slow):\n",
    "        ptr1=slow\n",
    "        ptr2=slow\n",
    "        k=1\n",
    "        while ptr2.next!=ptr1:\n",
    "            ptr2=ptr2.next\n",
    "            k+=1\n",
    "        print(f\"The length of the loop is {k}\")\n",
    "                    \n",
    "            \n",
    "    \n",
    "l=LinkedList()\n",
    "l.push(9)\n",
    "l.push(8)\n",
    "l.push(7)\n",
    "l.push(9)\n",
    "l.push(1)\n",
    "l.push(3)\n",
    "l.print_list()\n",
    "l.detect_loop()\n",
    "choice=input(\"Do  you want  to create Loop?[y/n]\")\n",
    "if choice==\"y\".upper() or \"y\".lower:\n",
    "    n=int(input(\"From which node should the loop start?\"))\n",
    "    l.create_loop(n)\n",
    "    l.detect_loop()\n",
    "else:\n",
    "    print(\"Exit\")\n",
    "\n",
    "        \n",
    "        "
   ]
  },
  {
   "cell_type": "code",
   "execution_count": null,
   "id": "94e8bb1f",
   "metadata": {},
   "outputs": [],
   "source": []
  }
 ],
 "metadata": {
  "kernelspec": {
   "display_name": "Python 3",
   "language": "python",
   "name": "python3"
  },
  "language_info": {
   "codemirror_mode": {
    "name": "ipython",
    "version": 3
   },
   "file_extension": ".py",
   "mimetype": "text/x-python",
   "name": "python",
   "nbconvert_exporter": "python",
   "pygments_lexer": "ipython3",
   "version": "3.8.8"
  }
 },
 "nbformat": 4,
 "nbformat_minor": 5
}
