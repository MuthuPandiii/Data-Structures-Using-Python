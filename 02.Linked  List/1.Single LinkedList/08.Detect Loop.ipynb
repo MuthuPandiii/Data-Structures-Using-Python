{
 "cells": [
  {
   "cell_type": "markdown",
   "id": "8583d93e",
   "metadata": {},
   "source": [
    "# Detecting Loop"
   ]
  },
  {
   "cell_type": "code",
   "execution_count": 24,
   "id": "fbd8e68b",
   "metadata": {},
   "outputs": [
    {
     "name": "stdout",
     "output_type": "stream",
     "text": [
      "No Loop Found\n",
      "After Looping\n",
      "8\n",
      "9\n",
      "2\n",
      "7\n",
      "8\n",
      "9\n",
      "Loop Detected\n"
     ]
    }
   ],
   "source": [
    "class Node:\n",
    "    def __init__(self,data):\n",
    "        self.data=data\n",
    "        self.next=None\n",
    "        \n",
    "class LinkedList:\n",
    "    def __init__(self):\n",
    "        self.head=None\n",
    "        \n",
    "    def push(self,new_data):\n",
    "        new_node=Node(new_data)\n",
    "        if self.head is None:\n",
    "            self.head=new_node\n",
    "            return\n",
    "        new_node.next=self.head\n",
    "        self.head=new_node\n",
    "    \n",
    "    def print_list(self):\n",
    "        temp=self.head\n",
    "        s=set()\n",
    "        while temp:\n",
    "            if temp in s:\n",
    "                break\n",
    "            else:\n",
    "                s.add(temp)\n",
    "                print(temp.data)\n",
    "                temp=temp.next\n",
    "    \n",
    "    def detect_loop(self):\n",
    "        s=set()\n",
    "        temp=self.head\n",
    "        while temp:\n",
    "            if temp in s:\n",
    "                print(\"Loop Detected\")\n",
    "                return\n",
    "            else:\n",
    "                s.add(temp)\n",
    "            temp=temp.next\n",
    "        print(\"No Loop Found\")\n",
    "                \n",
    "        \n",
    "            \n",
    "l=LinkedList()\n",
    "l.push(9)\n",
    "l.push(8)\n",
    "l.push(7)\n",
    "l.push(2)\n",
    "l.push(9)\n",
    "l.push(8)\n",
    "l.detect_loop()\n",
    "print(\"After Looping\")\n",
    "l.head.next.next.next.next.next.next=l.head.next                                                                                                                                                                                                    \n",
    "l.print_list()\n",
    "l.detect_loop()"
   ]
  },
  {
   "cell_type": "markdown",
   "id": "f5ee5906",
   "metadata": {},
   "source": [
    "# Flag Method"
   ]
  },
  {
   "cell_type": "code",
   "execution_count": 2,
   "id": "be60505a",
   "metadata": {},
   "outputs": [
    {
     "name": "stdout",
     "output_type": "stream",
     "text": [
      "8\n",
      "9\n",
      "2\n",
      "7\n",
      "8\n",
      "9\n",
      "Loop Detected\n"
     ]
    }
   ],
   "source": [
    "class Node:\n",
    "    def __init__(self,data,flag):\n",
    "        self.data=data\n",
    "        self.flag=flag\n",
    "        self.next=None\n",
    "        \n",
    "    \n",
    "class LinkedList:\n",
    "    def __init__(self):\n",
    "        self.head=None\n",
    "        \n",
    "    def push(self,new_data):\n",
    "        new_node=Node(new_data,0) \n",
    "        if self.head is None:\n",
    "            self.head=new_node\n",
    "            return\n",
    "        new_node.next=self.head\n",
    "        self.head=new_node\n",
    "    \n",
    "    def print_list(self):\n",
    "        temp=self.head\n",
    "        s=set()\n",
    "        while temp:\n",
    "            if temp in s:\n",
    "                break\n",
    "            else:\n",
    "                s.add(temp)\n",
    "                print(temp.data)\n",
    "                temp=temp.next\n",
    "    \n",
    "    def detect_loop(self):\n",
    "        temp=self.head\n",
    "        while temp:\n",
    "            if temp.flag==1:\n",
    "                print(\"Loop Detected\")\n",
    "                return\n",
    "            temp.flag=1\n",
    "            temp=temp.next\n",
    "        print(\"No Loop Detected\")\n",
    "            \n",
    "    \n",
    "\n",
    "l=LinkedList()\n",
    "l.push(9)\n",
    "l.push(8)\n",
    "l.push(7)\n",
    "l.push(2)\n",
    "l.push(9)\n",
    "l.push(8) \n",
    "l.head.next.next.next.next.next.next=l.head\n",
    "l.print_list()\n",
    "l.detect_loop()"
   ]
  },
  {
   "cell_type": "markdown",
   "id": "ee4bb086",
   "metadata": {},
   "source": [
    "# Flyod's Cycle"
   ]
  },
  {
   "cell_type": "code",
   "execution_count": 2,
   "id": "8da42f59",
   "metadata": {},
   "outputs": [
    {
     "name": "stdout",
     "output_type": "stream",
     "text": [
      "9\n",
      "8\n",
      "7\n",
      "5\n",
      "No Loop Detected\n"
     ]
    }
   ],
   "source": [
    "class Node:\n",
    "    def __init__(self,data):\n",
    "        self.data=data\n",
    "        self.next=None\n",
    "\n",
    "class LinkedList:\n",
    "    def __init__(self):\n",
    "        self.head=None\n",
    "    \n",
    "    def append(self,new_data):\n",
    "        new_node=Node(new_data)\n",
    "        if self.head is None:\n",
    "                self.head=new_node\n",
    "                return\n",
    "        temp=self.head\n",
    "        while temp.next:\n",
    "            temp=temp.next\n",
    "        temp.next=new_node\n",
    "        \n",
    "    def print_list(self):\n",
    "        temp=self.head\n",
    "        s=set()\n",
    "        while temp:\n",
    "            if temp in s:\n",
    "                break\n",
    "            s.add(temp)\n",
    "            print(temp.data)\n",
    "            temp=temp.next\n",
    "    \n",
    "    def detect_loop_flyods_cycle(self):\n",
    "        slow=self.head\n",
    "        fast=self.head\n",
    "        while slow and fast and fast.next:\n",
    "            prev=slow\n",
    "            slow=slow.next\n",
    "            fast=fast.next.next\n",
    "            if slow==fast:\n",
    "                print(\"Loop Detected\")\n",
    "                return \n",
    "        print(\"No Loop Detected\")\n",
    "                \n",
    "l=LinkedList()\n",
    "l.append(9)\n",
    "l.append(8)\n",
    "l.append(7)\n",
    "l.append(5)\n",
    "#l.head.next.next.next.next=l.head\n",
    "l.print_list()\n",
    "l.detect_loop_flyods_cycle()\n",
    "                    "
   ]
  },
  {
   "cell_type": "code",
   "execution_count": null,
   "id": "584290e9",
   "metadata": {},
   "outputs": [],
   "source": []
  }
 ],
 "metadata": {
  "kernelspec": {
   "display_name": "Python 3",
   "language": "python",
   "name": "python3"
  },
  "language_info": {
   "codemirror_mode": {
    "name": "ipython",
    "version": 3
   },
   "file_extension": ".py",
   "mimetype": "text/x-python",
   "name": "python",
   "nbconvert_exporter": "python",
   "pygments_lexer": "ipython3",
   "version": "3.8.8"
  }
 },
 "nbformat": 4,
 "nbformat_minor": 5
}
