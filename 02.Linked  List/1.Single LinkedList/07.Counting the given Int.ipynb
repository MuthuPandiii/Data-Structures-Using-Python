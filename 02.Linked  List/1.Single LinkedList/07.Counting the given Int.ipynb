{
 "cells": [
  {
   "cell_type": "markdown",
   "id": "77a54ab2",
   "metadata": {},
   "source": [
    "# Counting the occurence of the given  int\n"
   ]
  },
  {
   "cell_type": "code",
   "execution_count": 11,
   "id": "029c0b65",
   "metadata": {},
   "outputs": [
    {
     "name": "stdout",
     "output_type": "stream",
     "text": [
      "3\n",
      "5\n",
      "6\n",
      "5\n",
      "5\n",
      "\n",
      "Count: 3\n"
     ]
    }
   ],
   "source": [
    "class Node:\n",
    "    def __init__(self,data):\n",
    "        self.data=data\n",
    "        self.next=None\n",
    "\n",
    "class LinkedList:\n",
    "    def __init__(self):\n",
    "        self.head=None\n",
    "        \n",
    "    def append(self,data):\n",
    "        new_node=Node(data)\n",
    "        temp=self.head\n",
    "        if temp is None:\n",
    "            self.head=new_node\n",
    "            return\n",
    "        while temp.next:\n",
    "            temp=temp.next\n",
    "        temp.next=new_node\n",
    "    \n",
    "    def print_list(self):\n",
    "        temp=self.head\n",
    "        while temp:\n",
    "            print(temp.data)\n",
    "            temp=temp.next\n",
    "            \n",
    "    def count_int(self,key):\n",
    "        count=0\n",
    "        temp=self.head\n",
    "        while temp:\n",
    "            if(temp.data==key):\n",
    "                count+=1\n",
    "            temp=temp.next\n",
    "        print(\"\\nCount:\",count)\n",
    "        \n",
    "    \n",
    "l=LinkedList()\n",
    "l.append(3)\n",
    "l.append(5)\n",
    "l.append(6)\n",
    "l.append(5)\n",
    "l.append(5)\n",
    "l.print_list()\n",
    "l.count_int(5)\n",
    "        \n",
    "        "
   ]
  },
  {
   "cell_type": "markdown",
   "id": "450de33d",
   "metadata": {},
   "source": [
    "# Recursive Method"
   ]
  },
  {
   "cell_type": "code",
   "execution_count": 2,
   "id": "02645476",
   "metadata": {},
   "outputs": [
    {
     "name": "stdout",
     "output_type": "stream",
     "text": [
      "3\n",
      "5\n",
      "6\n",
      "5\n",
      "5\n",
      "Count: 3\n"
     ]
    }
   ],
   "source": [
    "class Node:\n",
    "    def __init__(self,data):\n",
    "        self.data=data\n",
    "        self.next=None\n",
    "\n",
    "class LinkedList:\n",
    "    def __init__(self):\n",
    "        self.head=None\n",
    "        \n",
    "    def append(self,data):\n",
    "        new_node=Node(data)\n",
    "        temp=self.head\n",
    "        if temp is None:\n",
    "            self.head=new_node\n",
    "            return\n",
    "        while temp.next:\n",
    "            temp=temp.next\n",
    "        temp.next=new_node\n",
    "    \n",
    "    def print_list(self):\n",
    "        temp=self.head\n",
    "        while temp:\n",
    "            print(temp.data)\n",
    "            temp=temp.next\n",
    "            \n",
    "    def count_int(self,temp,key):\n",
    "        if temp is None:\n",
    "            return 0\n",
    "        if temp.data==key:\n",
    "            return 1+self.count_int(temp.next,key)\n",
    "        return self.count_int(temp.next,key)\n",
    "        \n",
    "    \n",
    "l=LinkedList()\n",
    "l.append(3)\n",
    "l.append(5)\n",
    "l.append(6)\n",
    "l.append(5)\n",
    "l.append(5)\n",
    "l.print_list()\n",
    "print(\"Count:\",l.count_int(l.head,5))\n",
    "        \n",
    "        "
   ]
  },
  {
   "cell_type": "code",
   "execution_count": null,
   "id": "ea294ae3",
   "metadata": {},
   "outputs": [],
   "source": []
  }
 ],
 "metadata": {
  "kernelspec": {
   "display_name": "Python 3",
   "language": "python",
   "name": "python3"
  },
  "language_info": {
   "codemirror_mode": {
    "name": "ipython",
    "version": 3
   },
   "file_extension": ".py",
   "mimetype": "text/x-python",
   "name": "python",
   "nbconvert_exporter": "python",
   "pygments_lexer": "ipython3",
   "version": "3.8.8"
  }
 },
 "nbformat": 4,
 "nbformat_minor": 5
}
