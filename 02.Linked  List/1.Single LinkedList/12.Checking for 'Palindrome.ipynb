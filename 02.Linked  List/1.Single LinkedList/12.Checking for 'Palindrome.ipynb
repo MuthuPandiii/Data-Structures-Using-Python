{
 "cells": [
  {
   "cell_type": "markdown",
   "id": "5f6e6641",
   "metadata": {},
   "source": [
    "# Stack Method"
   ]
  },
  {
   "cell_type": "code",
   "execution_count": 11,
   "id": "9ceeb866",
   "metadata": {},
   "outputs": [
    {
     "name": "stdout",
     "output_type": "stream",
     "text": [
      "N\n",
      "I\n",
      "B\n",
      "I\n",
      "N\n",
      "Is is Palindromic\n"
     ]
    }
   ],
   "source": [
    "class Node:\n",
    "    def __init__(self,data):\n",
    "        self.data=data\n",
    "        self.next=None\n",
    "    \n",
    "class LinkedList:\n",
    "    def __init__(self):\n",
    "        self.head=None\n",
    "        \n",
    "    def push(self,new_data):\n",
    "        new_node=Node(new_data)\n",
    "        while self.head is None:\n",
    "            self.head=new_node\n",
    "            return\n",
    "        new_node.next=self.head\n",
    "        self.head=new_node\n",
    "\n",
    "    def print_list(self):\n",
    "        temp=self.head\n",
    "        while temp:\n",
    "            print(temp.data)\n",
    "            temp=temp.next\n",
    "    \n",
    "    def check_for_palondrome(self):\n",
    "        Stack=[]\n",
    "        current=self.head\n",
    "        while current:\n",
    "            Stack.append(current.data)\n",
    "            current=current.next\n",
    "            \n",
    "        current=self.head\n",
    "        is_palindrome=False\n",
    "        while current:\n",
    "            i=Stack.pop()\n",
    "            if current.data==i:\n",
    "                is_palindrome=True\n",
    "            else:\n",
    "                is_palindrome=False\n",
    "                break\n",
    "            current=current.next\n",
    "        \n",
    "        if is_palindrome:\n",
    "            print(\"Is is Palindromic\")\n",
    "        else:\n",
    "            print(\"It is not palindromic\")\n",
    "                \n",
    "                \n",
    "    \n",
    "\n",
    "                    \n",
    "    \n",
    "l=LinkedList()\n",
    "l.push(\"N\")\n",
    "l.push(\"I\")\n",
    "l.push(\"B\")\n",
    "l.push(\"I\")\n",
    "l.push(\"N\")\n",
    "l.print_list()\n",
    "l.check_for_palondrome()\n",
    "        "
   ]
  },
  {
   "cell_type": "code",
   "execution_count": null,
   "id": "073cecb3",
   "metadata": {},
   "outputs": [],
   "source": []
  }
 ],
 "metadata": {
  "kernelspec": {
   "display_name": "Python 3",
   "language": "python",
   "name": "python3"
  },
  "language_info": {
   "codemirror_mode": {
    "name": "ipython",
    "version": 3
   },
   "file_extension": ".py",
   "mimetype": "text/x-python",
   "name": "python",
   "nbconvert_exporter": "python",
   "pygments_lexer": "ipython3",
   "version": "3.8.8"
  }
 },
 "nbformat": 4,
 "nbformat_minor": 5
}
