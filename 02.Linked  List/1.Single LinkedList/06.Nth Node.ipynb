{
 "cells": [
  {
   "cell_type": "markdown",
   "id": "7f73c31a",
   "metadata": {},
   "source": [
    "# Selecting Nth Node"
   ]
  },
  {
   "cell_type": "code",
   "execution_count": 1,
   "id": "9da2dcc5",
   "metadata": {},
   "outputs": [
    {
     "name": "stdout",
     "output_type": "stream",
     "text": [
      "8\n",
      "9\n",
      "5\n",
      "4\n",
      "The  element in the 3th is:\n",
      "4\n"
     ]
    }
   ],
   "source": [
    "class Node:\n",
    "    def __init__(self,data):\n",
    "        self.data=data\n",
    "        self.next=None\n",
    "class Linked_List:\n",
    "    def __init__(self):\n",
    "        self.head=None\n",
    "        \n",
    "    def append(self,new_data):\n",
    "        new_node=Node(new_data)\n",
    "        if self.head is None:\n",
    "            self.head=new_node\n",
    "            return\n",
    "        \n",
    "        last=self.head\n",
    "        while(last.next):\n",
    "            last=last.next\n",
    "        \n",
    "        last.next=new_node\n",
    "    \n",
    "    def print_list(self):\n",
    "        temp=self.head\n",
    "        while(temp):\n",
    "            print(temp.data)\n",
    "            temp=temp.next\n",
    "    \n",
    "    def get_nth_Node(self,index):\n",
    "        current=self.head\n",
    "        count=0\n",
    "        \n",
    "        while(current):\n",
    "            if(count==index):\n",
    "                print(current.data)\n",
    "            count+=1\n",
    "            current=current.next\n",
    "\n",
    "l=Linked_List()\n",
    "l.append(8)\n",
    "l.append(9)\n",
    "l.append(5)\n",
    "l.append(4)\n",
    "l.print_list()\n",
    "index=3\n",
    "print(f\"The  element in the {index}th is:\")\n",
    "l.get_nth_Node(index)"
   ]
  },
  {
   "cell_type": "markdown",
   "id": "23f80c94",
   "metadata": {},
   "source": [
    "# Middle Node"
   ]
  },
  {
   "cell_type": "code",
   "execution_count": 2,
   "id": "c5b7d3d0",
   "metadata": {},
   "outputs": [
    {
     "name": "stdout",
     "output_type": "stream",
     "text": [
      "8\n",
      "9\n",
      "5\n",
      "Middle\n",
      "9\n"
     ]
    }
   ],
   "source": [
    "class Node:\n",
    "    def __init__(self,data):\n",
    "        self.data=data\n",
    "        self.next=None\n",
    "class Linked_List:\n",
    "    def __init__(self):\n",
    "        self.head=None\n",
    "        \n",
    "    def append(self,new_data):\n",
    "        new_node=Node(new_data)\n",
    "        if self.head is None:\n",
    "            self.head=new_node\n",
    "            return\n",
    "        \n",
    "        last=self.head\n",
    "        while(last.next):\n",
    "            last=last.next\n",
    "        \n",
    "        last.next=new_node\n",
    "    \n",
    "    def print_list(self):\n",
    "        temp=self.head\n",
    "        while(temp):\n",
    "            print(temp.data)\n",
    "            temp=temp.next\n",
    "        \n",
    "    def search(self):\n",
    "        slow=self.head\n",
    "        fast=self.head\n",
    "        while fast and  fast.next:\n",
    "            slow=slow.next\n",
    "            fast=fast.next.next\n",
    "        print(slow.data)\n",
    "    \n",
    "\n",
    "l=Linked_List()\n",
    "l.append(8)\n",
    "l.append(9)\n",
    "l.append(5)\n",
    "l.print_list()\n",
    "print(\"Middle\")\n",
    "l.search()"
   ]
  },
  {
   "cell_type": "markdown",
   "id": "12b7108b",
   "metadata": {},
   "source": [
    "# Nth Node from Last"
   ]
  },
  {
   "cell_type": "code",
   "execution_count": 3,
   "id": "62969f9f",
   "metadata": {},
   "outputs": [
    {
     "name": "stdout",
     "output_type": "stream",
     "text": [
      "5\n",
      "4\n",
      "3\n",
      "2\n",
      "Enter the Nth Position:3\n",
      "4\n"
     ]
    }
   ],
   "source": [
    "\n",
    "class Node:\n",
    "    def __init__(self,data):\n",
    "        self.data=data\n",
    "        self.next=None\n",
    "\n",
    "class LinkedList:\n",
    "    def __init__(self):\n",
    "        self.head=None\n",
    "        \n",
    "    def printlist(self):\n",
    "        temp=self.head\n",
    "        while(temp):\n",
    "            print(temp.data)\n",
    "            temp=temp.next\n",
    "        \n",
    "    def push(self,new_data):\n",
    "        new_node=Node(new_data)\n",
    "        new_node.next=self.head\n",
    "        self.head=new_node\n",
    "    \n",
    "    def NthNodefromLast(self,n):\n",
    "        temp=self.head\n",
    "        length=0\n",
    "        while temp is not None:\n",
    "            temp=temp.next\n",
    "            length+=1\n",
    "        \n",
    "        if(n>length):\n",
    "            print(\"The n poistion  is not  available\")\n",
    "            return\n",
    "        \n",
    "        temp=self.head\n",
    "        for i in range(0,length-n):\n",
    "            temp=temp.next\n",
    "            print(temp.data)\n",
    "        \n",
    "l=LinkedList()\n",
    "l.push(2)\n",
    "l.push(3)\n",
    "l.push(4)\n",
    "l.push(5)\n",
    "l.printlist()\n",
    "n=int(input(\"Enter the Nth Position:\"))\n",
    "l.NthNodefromLast(n)\n",
    "    "
   ]
  },
  {
   "cell_type": "code",
   "execution_count": null,
   "id": "4422a03d",
   "metadata": {},
   "outputs": [],
   "source": []
  }
 ],
 "metadata": {
  "kernelspec": {
   "display_name": "Python 3",
   "language": "python",
   "name": "python3"
  },
  "language_info": {
   "codemirror_mode": {
    "name": "ipython",
    "version": 3
   },
   "file_extension": ".py",
   "mimetype": "text/x-python",
   "name": "python",
   "nbconvert_exporter": "python",
   "pygments_lexer": "ipython3",
   "version": "3.8.8"
  }
 },
 "nbformat": 4,
 "nbformat_minor": 5
}
