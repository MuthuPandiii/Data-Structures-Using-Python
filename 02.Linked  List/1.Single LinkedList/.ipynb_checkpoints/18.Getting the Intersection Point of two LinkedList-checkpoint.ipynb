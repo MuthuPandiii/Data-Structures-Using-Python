{
 "cells": [
  {
   "cell_type": "markdown",
   "id": "0932cc9b",
   "metadata": {},
   "source": [
    "# Two Pointers Method"
   ]
  },
  {
   "cell_type": "code",
   "execution_count": 28,
   "id": "343bf8d9",
   "metadata": {},
   "outputs": [
    {
     "name": "stdout",
     "output_type": "stream",
     "text": [
      "The Common Node: 50\n"
     ]
    }
   ],
   "source": [
    "class Node:\n",
    "    def __init__(self,data):\n",
    "        self.data=data\n",
    "        self.next=None\n",
    "    \n",
    "def print_list(head):\n",
    "    temp=head\n",
    "    while temp:\n",
    "        print(temp.data)\n",
    "        temp=temp.next\n",
    "        \n",
    "def intersection_point(head1,head2):\n",
    "    c1=get_count(head1)\n",
    "    c2=get_count(head2)\n",
    "    if c1>c2:\n",
    "        d=c1-c2\n",
    "        return get_intersection_point(d,head1,head2)\n",
    "    else:\n",
    "        d=c2-c1\n",
    "        return get_intersection_point(d,head2,head1)\n",
    "\n",
    "def get_count(node):\n",
    "    current=node\n",
    "    count=0\n",
    "    while current:\n",
    "        count+=1\n",
    "        current=current.next\n",
    "    return count\n",
    "\n",
    "def get_intersection_point(d,head1,head2):\n",
    "    \n",
    "    current1=head1\n",
    "    current2=head2\n",
    "    \n",
    "    for i in range(d):\n",
    "        current1=current1.next\n",
    "    \n",
    "    while current1 and current2:\n",
    "        if current1==current2:\n",
    "            return current1.data\n",
    "\n",
    "        current1=current1.next\n",
    "        current2=current2.next\n",
    "\n",
    "common=Node(50)\n",
    "        \n",
    "head1=Node(10)\n",
    "head1.next=Node(20)\n",
    "head1.next.next=Node(30)\n",
    "head1.next.next.next=Node(40)\n",
    "head1.next.next.next.next=common\n",
    "\n",
    "head2=Node(100)\n",
    "head2.next=Node(90)\n",
    "head2.next.next=common\n",
    "head2.next.next.next=Node(60)\n",
    "head2.next.next.next.next=Node(70)\n",
    "print(\"The Common Node:\",intersection_point(head1,head2))\n",
    "#print(intersection_point(head1,head2))\n",
    "#print(c)"
   ]
  },
  {
   "cell_type": "code",
   "execution_count": null,
   "id": "44765463",
   "metadata": {},
   "outputs": [],
   "source": []
  }
 ],
 "metadata": {
  "kernelspec": {
   "display_name": "Python 3",
   "language": "python",
   "name": "python3"
  },
  "language_info": {
   "codemirror_mode": {
    "name": "ipython",
    "version": 3
   },
   "file_extension": ".py",
   "mimetype": "text/x-python",
   "name": "python",
   "nbconvert_exporter": "python",
   "pygments_lexer": "ipython3",
   "version": "3.8.8"
  }
 },
 "nbformat": 4,
 "nbformat_minor": 5
}
