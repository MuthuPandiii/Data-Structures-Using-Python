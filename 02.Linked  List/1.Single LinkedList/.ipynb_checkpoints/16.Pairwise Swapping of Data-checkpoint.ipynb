{
 "cells": [
  {
   "cell_type": "markdown",
   "id": "ba43c696",
   "metadata": {},
   "source": [
    "# Normal Method"
   ]
  },
  {
   "cell_type": "code",
   "execution_count": 9,
   "id": "86db1ccb",
   "metadata": {},
   "outputs": [
    {
     "name": "stdout",
     "output_type": "stream",
     "text": [
      "5\n",
      "4\n",
      "3\n",
      "2\n",
      "1\n",
      "After Pairwise Swapping\n",
      "4\n",
      "5\n",
      "2\n",
      "3\n",
      "1\n"
     ]
    }
   ],
   "source": [
    "class Node:\n",
    "    def __init__(self,data):\n",
    "        self.data=data\n",
    "        self.next=None\n",
    "    \n",
    "class LinkedList:\n",
    "    def __init__(self):\n",
    "        self.head=None\n",
    "        \n",
    "    def append(self,new_data):\n",
    "        if self.head is None:\n",
    "            self.head=Node(new_data)\n",
    "            return\n",
    "        temp=self.head\n",
    "        while temp.next:\n",
    "            temp=temp.next\n",
    "        temp.next=Node(new_data)\n",
    "    \n",
    "    def print_list(self):\n",
    "        temp=self.head\n",
    "        while temp:\n",
    "            print(temp.data)\n",
    "            temp=temp.next\n",
    "    \n",
    "    def pairwise_swap(self):\n",
    "        temp=self.head\n",
    "        while temp and temp.next:\n",
    "            if  temp.data!=temp.next.data:\n",
    "                temp.data,temp.next.data=temp.next.data,temp.data\n",
    "            temp=temp.next.next\n",
    "            \n",
    "l=LinkedList()\n",
    "l.append(5)\n",
    "l.append(4)\n",
    "l.append(3)\n",
    "l.append(2)\n",
    "l.append(1)\n",
    "l.print_list()\n",
    "l.pairwise_swap()\n",
    "print(\"After Pairwise Swapping\")\n",
    "l.print_list()"
   ]
  },
  {
   "cell_type": "code",
   "execution_count": null,
   "id": "6f0db4cd",
   "metadata": {},
   "outputs": [],
   "source": []
  },
  {
   "cell_type": "markdown",
   "id": "30cb27d1",
   "metadata": {},
   "source": [
    "# Recursive Approach"
   ]
  },
  {
   "cell_type": "code",
   "execution_count": 15,
   "id": "ac05ea0c",
   "metadata": {},
   "outputs": [
    {
     "name": "stdout",
     "output_type": "stream",
     "text": [
      "5\n",
      "4\n",
      "3\n",
      "2\n",
      "1\n",
      "After Pairwise Swapping\n",
      "4\n",
      "5\n",
      "2\n",
      "3\n",
      "1\n"
     ]
    }
   ],
   "source": [
    "class Node:\n",
    "    def __init__(self,data):\n",
    "        self.data=data\n",
    "        self.next=None\n",
    "    \n",
    "class LinkedList:\n",
    "    def __init__(self):\n",
    "        self.head=None\n",
    "        \n",
    "    def append(self,new_data):\n",
    "        if self.head is None:\n",
    "            self.head=Node(new_data)\n",
    "            return\n",
    "        temp=self.head\n",
    "        while temp.next:\n",
    "            temp=temp.next\n",
    "        temp.next=Node(new_data)\n",
    "    \n",
    "    def print_list(self):\n",
    "        temp=self.head\n",
    "        while temp:\n",
    "            print(temp.data)\n",
    "            temp=temp.next\n",
    "    \n",
    "    def pairwise_swap(self,temp):\n",
    "        if temp and temp.next:\n",
    "            temp.data,temp.next.data=temp.next.data,temp.data\n",
    "            pairwise_swap(temp.next.next)\n",
    "            \n",
    "l=LinkedList()\n",
    "l.append(5)\n",
    "l.append(4)\n",
    "l.append(3)\n",
    "l.append(2)\n",
    "l.append(1)\n",
    "l.print_list()\n",
    "pairwise_swap(l.head)\n",
    "print(\"After Pairwise Swapping\")\n",
    "l.print_list()"
   ]
  },
  {
   "cell_type": "code",
   "execution_count": null,
   "id": "aa652d63",
   "metadata": {},
   "outputs": [],
   "source": []
  }
 ],
 "metadata": {
  "kernelspec": {
   "display_name": "Python 3",
   "language": "python",
   "name": "python3"
  },
  "language_info": {
   "codemirror_mode": {
    "name": "ipython",
    "version": 3
   },
   "file_extension": ".py",
   "mimetype": "text/x-python",
   "name": "python",
   "nbconvert_exporter": "python",
   "pygments_lexer": "ipython3",
   "version": "3.8.8"
  }
 },
 "nbformat": 4,
 "nbformat_minor": 5
}
