{
 "cells": [
  {
   "cell_type": "markdown",
   "id": "acdbd28d",
   "metadata": {},
   "source": [
    "# At the front(Push)"
   ]
  },
  {
   "cell_type": "code",
   "execution_count": 1,
   "id": "c769ef5a",
   "metadata": {},
   "outputs": [
    {
     "name": "stdout",
     "output_type": "stream",
     "text": [
      "1\n",
      "2\n",
      "3\n",
      "\n",
      "After Pushing\n",
      "8\n",
      "1\n",
      "2\n",
      "3\n"
     ]
    }
   ],
   "source": [
    "class  Node:\n",
    "    def __init__(self,data):\n",
    "        self.data=data\n",
    "        self.next=None\n",
    "    \n",
    "class Linked_List:\n",
    "    \n",
    "    def __init__(self):\n",
    "        self.head=None\n",
    "        \n",
    "    def printList(self):\n",
    "        temp=self.head\n",
    "        while(temp):\n",
    "            print(temp.data)\n",
    "            temp=temp.next\n",
    "            \n",
    "    def push(self,new_data):\n",
    "        new_node=Node(new_data)\n",
    "        new_node.next=self.head\n",
    "        self.head=new_node\n",
    "        \n",
    "if __name__=='__main__':\n",
    "    l=Linked_List()\n",
    "    l.head=Node(1)\n",
    "    second=Node(2)\n",
    "    third=Node(3)\n",
    "    \n",
    "    l.head.next=second\n",
    "    second.next=third\n",
    "    \n",
    "    l.printList()\n",
    "    \n",
    "    print(\"\\nAfter Pushing\")\n",
    "    \n",
    "    l.push(8)\n",
    "    \n",
    "    l.printList()"
   ]
  },
  {
   "cell_type": "markdown",
   "id": "07fc91f6",
   "metadata": {},
   "source": [
    "# At the Middle"
   ]
  },
  {
   "cell_type": "code",
   "execution_count": 2,
   "id": "36975cee",
   "metadata": {},
   "outputs": [
    {
     "name": "stdout",
     "output_type": "stream",
     "text": [
      "1\n",
      "2\n",
      "3\n",
      "\n",
      "After Pushing\n",
      "1\n",
      "8\n",
      "2\n",
      "3\n"
     ]
    }
   ],
   "source": [
    "class  Node:\n",
    "    def __init__(self,data):\n",
    "        self.data=data\n",
    "        self.next=None\n",
    "    \n",
    "class Linked_List:\n",
    "    \n",
    "    def __init__(self):\n",
    "        self.head=None\n",
    "        \n",
    "    def printList(self):\n",
    "        temp=self.head\n",
    "        while(temp):\n",
    "            print(temp.data)\n",
    "            temp=temp.next\n",
    "            \n",
    "    def insert_after(self,prev_node,new_data):\n",
    "        \n",
    "        if prev_node is None:\n",
    "            print(\"The preveious Node cannnot be  Null\")\n",
    "            return\n",
    "        \n",
    "        new_node=Node(new_data)\n",
    "        new_node.next=prev_node.next\n",
    "        prev_node.next=new_node\n",
    "        \n",
    "if __name__=='__main__':\n",
    "    l=Linked_List()\n",
    "    l.head=Node(1)\n",
    "    second=Node(2)\n",
    "    third=Node(3)\n",
    "    \n",
    "    l.head.next=second\n",
    "    second.next=third\n",
    "    \n",
    "    l.printList()\n",
    "    \n",
    "    print(\"\\nAfter Pushing\")\n",
    "    \n",
    "    l.insert_after(l.head,8)\n",
    "    \n",
    "    l.printList()"
   ]
  },
  {
   "cell_type": "markdown",
   "id": "d1edc1bd",
   "metadata": {},
   "source": [
    "# At the end(Append)"
   ]
  },
  {
   "cell_type": "code",
   "execution_count": 32,
   "id": "9603aa88",
   "metadata": {},
   "outputs": [
    {
     "name": "stdout",
     "output_type": "stream",
     "text": [
      "1\n",
      "2\n",
      "3\n",
      "\n",
      "After Pushing\n",
      "1\n",
      "2\n",
      "3\n",
      "9\n"
     ]
    }
   ],
   "source": [
    "class  Node:\n",
    "    def __init__(self,data):\n",
    "        self.data=data\n",
    "        self.next=None\n",
    "    \n",
    "class Linked_List:\n",
    "    \n",
    "    def __init__(self):\n",
    "        self.head=None\n",
    "        \n",
    "    def printList(self):\n",
    "        temp=self.head\n",
    "        while(temp):\n",
    "            print(temp.data)\n",
    "            temp=temp.next\n",
    "            \n",
    "    def append(self,new_data):\n",
    "        new_node=Node(new_data)\n",
    "        if self.head is None:\n",
    "            self.head=new_node\n",
    "            return \n",
    "        \n",
    "        last=self.head\n",
    "        while(last.next):\n",
    "            last=last.next\n",
    "        \n",
    "        last.next=new_node\n",
    "        \n",
    "    \n",
    "if __name__=='__main__':\n",
    "    l=Linked_List()\n",
    "    l.head=Node(1)\n",
    "    second=Node(2)\n",
    "    third=Node(3)\n",
    "    \n",
    "    l.head.next=second\n",
    "    second.next=third\n",
    "    \n",
    "    l.printList()\n",
    "    \n",
    "    print(\"\\nAfter Pushing\")\n",
    "    \n",
    "    l.append(9)\n",
    "    \n",
    "    l.printList()"
   ]
  },
  {
   "cell_type": "code",
   "execution_count": null,
   "id": "95a16592-dd25-40e1-86d2-9270a3529c6d",
   "metadata": {},
   "outputs": [],
   "source": []
  }
 ],
 "metadata": {
  "kernelspec": {
   "display_name": "Python 3",
   "language": "python",
   "name": "python3"
  },
  "language_info": {
   "codemirror_mode": {
    "name": "ipython",
    "version": 3
   },
   "file_extension": ".py",
   "mimetype": "text/x-python",
   "name": "python",
   "nbconvert_exporter": "python",
   "pygments_lexer": "ipython3",
   "version": "3.8.8"
  }
 },
 "nbformat": 4,
 "nbformat_minor": 5
}
