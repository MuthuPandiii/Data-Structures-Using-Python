{
 "cells": [
  {
   "cell_type": "code",
   "execution_count": 8,
   "id": "8577ba3f",
   "metadata": {},
   "outputs": [],
   "source": [
    "class SinglyLinkedListNode:\n",
    "    def __init__(self, node_data):\n",
    "        self.data = node_data\n",
    "        self.next = None\n",
    "        \n",
    "class SinglyLinkedList:\n",
    "    def __init__(self):\n",
    "        self.head = None\n",
    "        self.tail = None\n",
    "\n",
    "    def insert_node(self, node_data):\n",
    "        node = SinglyLinkedListNode(node_data)\n",
    "\n",
    "        if not self.head:\n",
    "            self.head = node\n",
    "        else:\n",
    "            self.tail.next = node\n",
    "\n",
    "\n",
    "        self.tail = node"
   ]
  },
  {
   "cell_type": "code",
   "execution_count": 9,
   "id": "5b194ade",
   "metadata": {},
   "outputs": [],
   "source": [
    "def print_singly_linked_list(node):\n",
    "    while node:\n",
    "        print(str(node.data),end=' ')\n",
    "\n",
    "        node = node.next"
   ]
  },
  {
   "cell_type": "code",
   "execution_count": 15,
   "id": "441c6a09",
   "metadata": {},
   "outputs": [],
   "source": [
    "def reverse(llist):\n",
    "    temp = llist\n",
    "    data = []\n",
    "    while temp:\n",
    "        data.append(temp.data)\n",
    "        temp = temp.next\n",
    "    llist = SinglyLinkedList()\n",
    "    for i in range(len(data)):\n",
    "        llist.insert_node(data.pop())\n",
    "    return llist"
   ]
  },
  {
   "cell_type": "code",
   "execution_count": 18,
   "id": "ad45ff38",
   "metadata": {},
   "outputs": [
    {
     "name": "stdout",
     "output_type": "stream",
     "text": [
      "1\n",
      "4\n",
      "1\n",
      "2\n",
      "3\n",
      "4\n",
      "1 2 3 4 \n",
      "\n",
      "4 3 2 1 "
     ]
    }
   ],
   "source": [
    "if __name__ == '__main__':\n",
    "\n",
    "    tests = int(input())\n",
    "\n",
    "    for tests_itr in range(tests):\n",
    "        llist_count = int(input())\n",
    "\n",
    "        llist = SinglyLinkedList()\n",
    "\n",
    "        for _ in range(llist_count):\n",
    "            llist_item = int(input())\n",
    "            llist.insert_node(llist_item)\n",
    "\n",
    "        print_singly_linked_list(llist.head)\n",
    "        print(\"\\n\")\n",
    "        llist1 = reverse(llist.head)\n",
    "        print_singly_linked_list(llist1.head)"
   ]
  },
  {
   "cell_type": "code",
   "execution_count": null,
   "id": "87288887",
   "metadata": {},
   "outputs": [],
   "source": []
  }
 ],
 "metadata": {
  "kernelspec": {
   "display_name": "Python 3",
   "language": "python",
   "name": "python3"
  },
  "language_info": {
   "codemirror_mode": {
    "name": "ipython",
    "version": 3
   },
   "file_extension": ".py",
   "mimetype": "text/x-python",
   "name": "python",
   "nbconvert_exporter": "python",
   "pygments_lexer": "ipython3",
   "version": "3.8.8"
  }
 },
 "nbformat": 4,
 "nbformat_minor": 5
}
