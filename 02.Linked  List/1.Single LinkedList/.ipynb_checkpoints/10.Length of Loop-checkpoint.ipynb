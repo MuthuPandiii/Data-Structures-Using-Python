{
 "cells": [
  {
   "cell_type": "markdown",
   "id": "af0eedba",
   "metadata": {},
   "source": [
    "# Flyod's Cycle"
   ]
  },
  {
   "cell_type": "code",
   "execution_count": 24,
   "id": "ba5a96d0",
   "metadata": {},
   "outputs": [
    {
     "name": "stdout",
     "output_type": "stream",
     "text": [
      "Loop  Detected\n",
      "The length of the loop is 2\n"
     ]
    }
   ],
   "source": [
    "class Node:\n",
    "    def __init__(self,data):\n",
    "        self.data=data\n",
    "        self.next=None\n",
    "    \n",
    "class LinkedList:\n",
    "    def __init__(self):\n",
    "        self.head=None\n",
    "        \n",
    "    def push(self,new_data):\n",
    "        new_node=Node(new_data)\n",
    "        while self.head is None:\n",
    "            self.head=new_node\n",
    "            return\n",
    "        new_node.next=self.head\n",
    "        self.head=new_node\n",
    "\n",
    "    def print_list(self):\n",
    "        temp=self.head\n",
    "        s=set()\n",
    "        while temp:\n",
    "            if temp in s:\n",
    "                break\n",
    "            s.add(temp)\n",
    "            print(temp.data)\n",
    "            temp=temp.next\n",
    "    \n",
    "    def detect_loop(self):\n",
    "        slow=self.head\n",
    "        fast=self.head\n",
    "        while slow and fast and fast.next:\n",
    "            slow=slow.next\n",
    "            fast=fast.next.next\n",
    "            if slow==fast:\n",
    "                print(\"Loop  Detected\")\n",
    "                self.length_of_loop(slow)\n",
    "                return\n",
    "        print(\"No Loop Detected\")\n",
    "    \n",
    "    def length_of_loop(self,slow):\n",
    "        ptr1=slow\n",
    "        ptr2=slow\n",
    "        k=1\n",
    "        while ptr2.next!=ptr1:\n",
    "            ptr2=ptr2.next\n",
    "            k+=1\n",
    "        print(f\"The length of the loop is {k}\")\n",
    "                    \n",
    "    \n",
    "l=LinkedList()\n",
    "l.push(9)\n",
    "l.push(8)\n",
    "l.push(7)\n",
    "l.head.next.next.next=l.head.next\n",
    "l.detect_loop()\n",
    "        \n",
    "        "
   ]
  },
  {
   "cell_type": "code",
   "execution_count": null,
   "id": "f0eaf729",
   "metadata": {},
   "outputs": [],
   "source": []
  }
 ],
 "metadata": {
  "kernelspec": {
   "display_name": "Python 3",
   "language": "python",
   "name": "python3"
  },
  "language_info": {
   "codemirror_mode": {
    "name": "ipython",
    "version": 3
   },
   "file_extension": ".py",
   "mimetype": "text/x-python",
   "name": "python",
   "nbconvert_exporter": "python",
   "pygments_lexer": "ipython3",
   "version": "3.8.8"
  }
 },
 "nbformat": 4,
 "nbformat_minor": 5
}
