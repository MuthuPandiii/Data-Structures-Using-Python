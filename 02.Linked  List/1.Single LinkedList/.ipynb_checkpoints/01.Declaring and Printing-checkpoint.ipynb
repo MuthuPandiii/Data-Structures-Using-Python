{
 "cells": [
  {
   "cell_type": "markdown",
   "id": "f4261444",
   "metadata": {},
   "source": [
    "# Printing and  declaring"
   ]
  },
  {
   "cell_type": "code",
   "execution_count": 24,
   "id": "ba97f18a",
   "metadata": {},
   "outputs": [
    {
     "name": "stdout",
     "output_type": "stream",
     "text": [
      "1\n",
      "2\n",
      "3\n"
     ]
    }
   ],
   "source": [
    "class Node:\n",
    "    def __init__(self,data):\n",
    "        self.data=data\n",
    "        self.next=None\n",
    "        \n",
    "class Linked_list:\n",
    "    def  __init__(self):\n",
    "        self.head=None\n",
    "    \n",
    "    def printList(self):\n",
    "        temp=self.head\n",
    "        while(temp):\n",
    "            print(temp.data)\n",
    "            temp=temp.next\n",
    "\n",
    "if __name__==\"__main__\":\n",
    "    l=Linked_list()\n",
    "    l.head=Node(1)\n",
    "    second=Node(2)\n",
    "    third=Node(3)\n",
    "    \n",
    "    l.head.next=second\n",
    "    second.next=third\n",
    "    \n",
    "    l.printList()\n",
    "    "
   ]
  }
 ],
 "metadata": {
  "kernelspec": {
   "display_name": "Python 3",
   "language": "python",
   "name": "python3"
  },
  "language_info": {
   "codemirror_mode": {
    "name": "ipython",
    "version": 3
   },
   "file_extension": ".py",
   "mimetype": "text/x-python",
   "name": "python",
   "nbconvert_exporter": "python",
   "pygments_lexer": "ipython3",
   "version": "3.8.8"
  }
 },
 "nbformat": 4,
 "nbformat_minor": 5
}
