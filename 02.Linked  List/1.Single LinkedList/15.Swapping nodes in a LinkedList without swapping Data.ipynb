{
 "cells": [
  {
   "cell_type": "markdown",
   "id": "56cbf8c7",
   "metadata": {},
   "source": [
    "# Pointers Method"
   ]
  },
  {
   "cell_type": "code",
   "execution_count": 2,
   "id": "115241fa",
   "metadata": {},
   "outputs": [
    {
     "name": "stdout",
     "output_type": "stream",
     "text": [
      "10\n",
      "20\n",
      "30\n",
      "40\n",
      "50\n",
      "After Swapping\n",
      "50\n",
      "20\n",
      "30\n",
      "40\n",
      "10\n"
     ]
    }
   ],
   "source": [
    "class Node:\n",
    "    def __init__(self,data):\n",
    "        self.data=data\n",
    "        self.next=None\n",
    "    \n",
    "class LinkedList:\n",
    "    def __init__(self):\n",
    "        self.head=None\n",
    "    \n",
    "    def append(self,new_data):\n",
    "        if self.head is None:\n",
    "            self.head=Node(new_data)\n",
    "            return\n",
    "        temp=self.head\n",
    "        while temp.next:\n",
    "            temp=temp.next\n",
    "        temp.next=Node(new_data)\n",
    "        \n",
    "    def printlist(self):\n",
    "        temp=self.head\n",
    "        while temp:\n",
    "            print(temp.data)\n",
    "            temp=temp.next\n",
    "        \n",
    "    def swap_nodes(self,x,y):\n",
    "        if x==y:\n",
    "            return\n",
    "            \n",
    "        prev_x=None\n",
    "        current_x=self.head\n",
    "        while current_x.data!=x:\n",
    "            prev_x=current_x\n",
    "            current_x=current_x.next\n",
    "        \n",
    "        prev_y=None\n",
    "        current_y=self.head\n",
    "        while current_y.data!=y:\n",
    "            prev_y=current_y\n",
    "            current_y=current_y.next\n",
    "        \n",
    "        if prev_x==None:           #Checking if X is Head\n",
    "            self.head=current_y\n",
    "        else:\n",
    "            prev_x.next=current_y\n",
    "            \n",
    "        if  prev_y==None:\n",
    "            self.head=current_x\n",
    "        else:\n",
    "            prev_y.next=current_x\n",
    "        \n",
    "        temp=current_x.next\n",
    "        current_x.next=current_y.next\n",
    "        current_y.next=temp\n",
    "        \n",
    "l=LinkedList()\n",
    "l.append(10)\n",
    "l.append(20)\n",
    "l.append(30)\n",
    "l.append(40)\n",
    "l.append(50)\n",
    "l.printlist()\n",
    "l.swap_nodes(10,50)\n",
    "print(\"After Swapping\")\n",
    "l.printlist()"
   ]
  },
  {
   "cell_type": "code",
   "execution_count": null,
   "id": "0085f7a1",
   "metadata": {},
   "outputs": [],
   "source": []
  }
 ],
 "metadata": {
  "kernelspec": {
   "display_name": "Python 3",
   "language": "python",
   "name": "python3"
  },
  "language_info": {
   "codemirror_mode": {
    "name": "ipython",
    "version": 3
   },
   "file_extension": ".py",
   "mimetype": "text/x-python",
   "name": "python",
   "nbconvert_exporter": "python",
   "pygments_lexer": "ipython3",
   "version": "3.8.8"
  }
 },
 "nbformat": 4,
 "nbformat_minor": 5
}
