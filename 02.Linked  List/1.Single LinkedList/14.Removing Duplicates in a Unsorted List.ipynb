{
 "cells": [
  {
   "cell_type": "markdown",
   "id": "c03fc189",
   "metadata": {},
   "source": [
    "# Using Two Loops"
   ]
  },
  {
   "cell_type": "code",
   "execution_count": 1,
   "id": "1eab3965",
   "metadata": {},
   "outputs": [
    {
     "name": "stdout",
     "output_type": "stream",
     "text": [
      "9\n",
      "9\n",
      "7\n",
      "8\n",
      "7\n",
      "After Removing Duplicates\n",
      "9\n",
      "7\n",
      "8\n"
     ]
    }
   ],
   "source": [
    "class Node:\n",
    "    def __init__(self,data):\n",
    "        self.data=data\n",
    "        self.next=None\n",
    "    \n",
    "class LinkedList:\n",
    "    def __init__(self):\n",
    "        self.head=None\n",
    "    \n",
    "    def append(self,new_data):\n",
    "        if self.head is None:\n",
    "            self.head=Node(new_data)\n",
    "            return\n",
    "        temp=self.head\n",
    "        while temp.next:\n",
    "            temp=temp.next\n",
    "        temp.next=Node(new_data)\n",
    "        \n",
    "    def printlist(self):\n",
    "        temp=self.head\n",
    "        while temp:\n",
    "            print(temp.data)\n",
    "            temp=temp.next\n",
    "        \n",
    "    def remove_duplicates(self):\n",
    "        ptr1=self.head\n",
    "        ptr2=None\n",
    "        while ptr1 and ptr1.next:\n",
    "            ptr2=ptr1\n",
    "            while ptr2 and ptr2.next:\n",
    "                if(ptr1.data==ptr2.next.data):\n",
    "                    ptr2.next=ptr2.next.next\n",
    "                else:\n",
    "                    ptr2=ptr2.next\n",
    "            ptr1=ptr1.next\n",
    "        \n",
    "l=LinkedList()\n",
    "l.append(9)\n",
    "l.append(9)\n",
    "l.append(7)\n",
    "l.append(8)\n",
    "l.append(7)\n",
    "l.printlist()\n",
    "l.remove_duplicates()\n",
    "print(\"After Removing Duplicates\")\n",
    "l.printlist()"
   ]
  },
  {
   "cell_type": "markdown",
   "id": "5e76688d",
   "metadata": {},
   "source": [
    "# Using Hash Method"
   ]
  },
  {
   "cell_type": "code",
   "execution_count": 21,
   "id": "88c4b940",
   "metadata": {},
   "outputs": [
    {
     "name": "stdout",
     "output_type": "stream",
     "text": [
      "9\n",
      "9\n",
      "8\n",
      "9\n",
      "19\n",
      "2\n",
      "7\n",
      "9\n",
      "9\n",
      "9\n",
      "After Removing Duplicates\n",
      "9\n",
      "8\n",
      "19\n",
      "2\n",
      "7\n"
     ]
    }
   ],
   "source": [
    "class Node:\n",
    "    def __init__(self,data):\n",
    "        self.data=data\n",
    "        self.next=None\n",
    "    \n",
    "class LinkedList:\n",
    "    def __init__(self):\n",
    "        self.head=None\n",
    "    \n",
    "    def append(self,new_data):\n",
    "        if self.head is None:\n",
    "            self.head=Node(new_data)\n",
    "            return\n",
    "        temp=self.head\n",
    "        while temp.next:\n",
    "            temp=temp.next\n",
    "        temp.next=Node(new_data)\n",
    "        \n",
    "    def printlist(self):\n",
    "        temp=self.head\n",
    "        while temp:\n",
    "            print(temp.data)\n",
    "            temp=temp.next\n",
    "        \n",
    "    def remove_duplicates(self):\n",
    "        s=set()\n",
    "        temp=self.head\n",
    "        s.add(temp.data)\n",
    "        while temp and temp.next:\n",
    "            if temp.next.data in s:\n",
    "                temp.next=temp.next.next\n",
    "            else:\n",
    "                s.add(temp.next.data)\n",
    "                temp=temp.next    \n",
    "        \n",
    "l=LinkedList()\n",
    "l.append(9)\n",
    "l.append(9)\n",
    "l.append(8)\n",
    "l.append(9)\n",
    "l.append(19)\n",
    "l.append(2)\n",
    "l.append(7)\n",
    "l.append(9)\n",
    "l.append(9)\n",
    "l.append(9)\n",
    "l.printlist()\n",
    "l.remove_duplicates()\n",
    "print(\"After Removing Duplicates\")\n",
    "l.printlist()"
   ]
  },
  {
   "cell_type": "code",
   "execution_count": null,
   "id": "84098c95",
   "metadata": {},
   "outputs": [],
   "source": []
  }
 ],
 "metadata": {
  "kernelspec": {
   "display_name": "Python 3",
   "language": "python",
   "name": "python3"
  },
  "language_info": {
   "codemirror_mode": {
    "name": "ipython",
    "version": 3
   },
   "file_extension": ".py",
   "mimetype": "text/x-python",
   "name": "python",
   "nbconvert_exporter": "python",
   "pygments_lexer": "ipython3",
   "version": "3.8.8"
  }
 },
 "nbformat": 4,
 "nbformat_minor": 5
}
