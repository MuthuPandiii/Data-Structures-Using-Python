{
 "cells": [
  {
   "cell_type": "markdown",
   "id": "658beb4c",
   "metadata": {},
   "source": [
    "#  Push and Print"
   ]
  },
  {
   "cell_type": "code",
   "execution_count": 13,
   "id": "fe4b4962",
   "metadata": {},
   "outputs": [
    {
     "name": "stdout",
     "output_type": "stream",
     "text": [
      "3 2 1 "
     ]
    }
   ],
   "source": [
    "class Node:\n",
    "    def __init__(self,data):\n",
    "        self.data=data\n",
    "        self.next=None\n",
    "\n",
    "class CircularLinkedList:\n",
    "    def __init__(self):\n",
    "        self.head=None\n",
    "    \n",
    "    def push(self,new_data):\n",
    "        new_node=Node(new_data)\n",
    "        new_node.next=self.head\n",
    "        temp=self.head\n",
    "        if self.head is not None:\n",
    "            while temp.next!=self.head:\n",
    "                temp=temp.next\n",
    "            temp.next=new_node\n",
    "        else:\n",
    "            new_node.next=new_node\n",
    "        self.head=new_node\n",
    "    \n",
    "    def  print_list(self):\n",
    "        temp=self.head\n",
    "        while temp:\n",
    "            print(temp.data,end=\" \")\n",
    "            temp=temp.next\n",
    "            if  temp==self.head:\n",
    "                break\n",
    "\n",
    "c=CircularLinkedList()\n",
    "c.push(1)\n",
    "c.push(2)\n",
    "c.push(3)\n",
    "c.print_list()"
   ]
  },
  {
   "cell_type": "code",
   "execution_count": null,
   "id": "ea8746c4",
   "metadata": {},
   "outputs": [],
   "source": []
  }
 ],
 "metadata": {
  "kernelspec": {
   "display_name": "Python 3",
   "language": "python",
   "name": "python3"
  },
  "language_info": {
   "codemirror_mode": {
    "name": "ipython",
    "version": 3
   },
   "file_extension": ".py",
   "mimetype": "text/x-python",
   "name": "python",
   "nbconvert_exporter": "python",
   "pygments_lexer": "ipython3",
   "version": "3.8.8"
  }
 },
 "nbformat": 4,
 "nbformat_minor": 5
}
