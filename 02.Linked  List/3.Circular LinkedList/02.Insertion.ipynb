{
 "cells": [
  {
   "cell_type": "markdown",
   "id": "f78240fd",
   "metadata": {},
   "source": [
    "**Why have we taken a pointer that points to the last node instead of the first node?**"
   ]
  },
  {
   "cell_type": "markdown",
   "id": "6f8bf400",
   "metadata": {},
   "source": [
    "For the insertion of a node at the beginning, we need to traverse the whole list. Also, for insertion at the end, the whole list has to be traversed. If instead of start pointer, we take a pointer to the last node, then in both cases there won’t be any need to traverse the whole list. So insertion at the beginning or at the end takes constant time, irrespective of the length of the list."
   ]
  },
  {
   "cell_type": "markdown",
   "id": "220b9674",
   "metadata": {},
   "source": [
    "# Adding  to  an Empty Circular Single List"
   ]
  },
  {
   "cell_type": "code",
   "execution_count": 4,
   "id": "e5289e9f",
   "metadata": {},
   "outputs": [
    {
     "name": "stdout",
     "output_type": "stream",
     "text": [
      "3\n"
     ]
    }
   ],
   "source": [
    "class Node:\n",
    "    def __init__(self,data):\n",
    "        self.data=data\n",
    "        self.next=None\n",
    "    \n",
    "class CircularLinkedList:\n",
    "    def __init__(self):\n",
    "        self.last=None\n",
    "    \n",
    "    def add_at_empty_list(self,data):\n",
    "        if self.last!=None:\n",
    "            return self.last\n",
    "        new_node=Node(data)\n",
    "        self.last=new_node\n",
    "        self.last.next=self.last\n",
    "        \n",
    "        return self.last\n",
    "    \n",
    "    def print_list(self):\n",
    "        if self.last==None:\n",
    "            print(\"The  List is Empty\")\n",
    "            return\n",
    "        temp=self.last.next\n",
    "        while temp:\n",
    "            print(temp.data)\n",
    "            temp=temp.next\n",
    "            if temp==self.last.next:\n",
    "                break\n",
    "        \n",
    "    \n",
    "cl=CircularLinkedList()\n",
    "cl.add_at_empty_list(3)\n",
    "cl.print_list()"
   ]
  },
  {
   "cell_type": "markdown",
   "id": "2193fcd8",
   "metadata": {},
   "source": [
    "# Adding at begining"
   ]
  },
  {
   "cell_type": "code",
   "execution_count": 8,
   "id": "e4e9054e",
   "metadata": {},
   "outputs": [
    {
     "name": "stdout",
     "output_type": "stream",
     "text": [
      "7 8 9 "
     ]
    }
   ],
   "source": [
    "class Node:\n",
    "    def __init__(self,data):\n",
    "        self.data=data\n",
    "        self.next=None\n",
    "    \n",
    "class CircularLinkedList:\n",
    "    def __init__(self):\n",
    "        self.last=None\n",
    "    \n",
    "    def add_at_empty_list(self,data):\n",
    "        if self.last!=None:\n",
    "            return self.last\n",
    "        new_node=Node(data)\n",
    "        self.last=new_node\n",
    "        self.last.next=self.last\n",
    "        \n",
    "        return self.last\n",
    "    \n",
    "    def add_at_begin(self,data):\n",
    "        if self.last==None:\n",
    "            return self.add_at_empty_list(data)\n",
    "        new_node=Node(data)\n",
    "        new_node.next=self.last.next\n",
    "        self.last.next=new_node\n",
    "        \n",
    "        return self.last\n",
    "    \n",
    "    def print_list(self):\n",
    "        if self.last is  None:\n",
    "            print(\"List is Empty\")\n",
    "            return\n",
    "        temp=self.last.next\n",
    "        while temp:\n",
    "            print(temp.data,end=\" \")\n",
    "            temp=temp.next\n",
    "            if temp==self.last.next:\n",
    "                break\n",
    "\n",
    "c=CircularLinkedList()\n",
    "c.add_at_begin(9)\n",
    "c.add_at_begin(8)\n",
    "c.add_at_begin(7)\n",
    "c.print_list()"
   ]
  },
  {
   "cell_type": "markdown",
   "id": "7546d3b0",
   "metadata": {},
   "source": [
    "# Add at end"
   ]
  },
  {
   "cell_type": "code",
   "execution_count": 10,
   "id": "720b4f4d",
   "metadata": {},
   "outputs": [
    {
     "name": "stdout",
     "output_type": "stream",
     "text": [
      "9 8 7 "
     ]
    }
   ],
   "source": [
    "class Node:\n",
    "    def __init__(self,data):\n",
    "        self.data=data\n",
    "        self.next=None\n",
    "    \n",
    "class CircularLinkedList:\n",
    "    def __init__(self):\n",
    "        self.last=None\n",
    "    \n",
    "    def add_at_empty_list(self,data):\n",
    "        if self.last!=None:\n",
    "            return self.last\n",
    "        new_node=Node(data)\n",
    "        self.last=new_node\n",
    "        self.last.next=self.last\n",
    "        \n",
    "        return self.last\n",
    "    \n",
    "    def add_at_end(self,data):\n",
    "        if self.last is None:\n",
    "            return self.add_at_empty_list(data)\n",
    "        new_node=Node(data)\n",
    "        new_node.next=self.last.next\n",
    "        self.last.next=new_node\n",
    "        self.last=new_node\n",
    "        \n",
    "        return self.last\n",
    "    \n",
    "    def print_list(self):\n",
    "        if self.last is  None:\n",
    "            print(\"List is Empty\")\n",
    "            return\n",
    "        temp=self.last.next\n",
    "        while temp:\n",
    "            print(temp.data,end=\" \")\n",
    "            temp=temp.next\n",
    "            if temp==self.last.next:\n",
    "                break\n",
    "\n",
    "c=CircularLinkedList()\n",
    "c.add_at_end(9)\n",
    "c.add_at_end(8)\n",
    "c.add_at_end(7)\n",
    "c.print_list()"
   ]
  },
  {
   "cell_type": "markdown",
   "id": "5548aa20",
   "metadata": {},
   "source": [
    "#  Add After"
   ]
  },
  {
   "cell_type": "code",
   "execution_count": 24,
   "id": "f9365320",
   "metadata": {},
   "outputs": [
    {
     "name": "stdout",
     "output_type": "stream",
     "text": [
      "9 8 3 7 5 \n",
      "\n",
      "2 9 8 3 7 5 "
     ]
    }
   ],
   "source": [
    "class Node:\n",
    "    def __init__(self,data):\n",
    "        self.data=data\n",
    "        self.next=None\n",
    "    \n",
    "class CircularLinkedList:\n",
    "    def __init__(self):\n",
    "        self.last=None\n",
    "    \n",
    "    def add_at_empty_list(self,data):\n",
    "        if self.last!=None:\n",
    "            return self.last\n",
    "        new_node=Node(data)\n",
    "        self.last=new_node\n",
    "        self.last.next=self.last\n",
    "        \n",
    "        return self.last\n",
    "    \n",
    "    def add_at_end(self,data):\n",
    "        if self.last is None:\n",
    "            return self.add_at_empty_list(data)\n",
    "        new_node=Node(data)\n",
    "        new_node.next=self.last.next\n",
    "        self.last.next=new_node\n",
    "        self.last=new_node\n",
    "        \n",
    "        return self.last\n",
    "    \n",
    "    def add_after(self,data,item):\n",
    "        if self.last is None:\n",
    "            return None\n",
    "        new_node=Node(data)\n",
    "        p=self.last.next\n",
    "        while p:\n",
    "            if p.data==item:\n",
    "                new_node.next=p.next\n",
    "                p.next=new_node\n",
    "                if p==self.last:\n",
    "                    self.last=p\n",
    "                    return self.last\n",
    "                else:\n",
    "                    return self.last\n",
    "            p=p.next\n",
    "            if p==self.last.next:\n",
    "                print(\"No item  found in the  List\")\n",
    "                break\n",
    "        \n",
    "    \n",
    "    def print_list(self):\n",
    "        if self.last is  None:\n",
    "            print(\"List is Empty\")\n",
    "            return\n",
    "        temp=self.last.next\n",
    "        while temp:\n",
    "            print(temp.data,end=\" \")\n",
    "            temp=temp.next\n",
    "            if temp==self.last.next:\n",
    "                break\n",
    "\n",
    "c=CircularLinkedList()\n",
    "c.add_at_end(9)\n",
    "c.add_at_end(8)\n",
    "c.add_at_end(7)\n",
    "c.add_at_end(5)\n",
    "c.add_after(3,8)\n",
    "c.print_list()\n",
    "c.add_after(2,5)\n",
    "print(\"\\n\")\n",
    "c.print_list()"
   ]
  },
  {
   "cell_type": "code",
   "execution_count": null,
   "id": "468a6aaf",
   "metadata": {},
   "outputs": [],
   "source": []
  }
 ],
 "metadata": {
  "kernelspec": {
   "display_name": "Python 3",
   "language": "python",
   "name": "python3"
  },
  "language_info": {
   "codemirror_mode": {
    "name": "ipython",
    "version": 3
   },
   "file_extension": ".py",
   "mimetype": "text/x-python",
   "name": "python",
   "nbconvert_exporter": "python",
   "pygments_lexer": "ipython3",
   "version": "3.8.8"
  }
 },
 "nbformat": 4,
 "nbformat_minor": 5
}
