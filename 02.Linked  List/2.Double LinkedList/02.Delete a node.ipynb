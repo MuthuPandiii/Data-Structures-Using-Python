{
 "cells": [
  {
   "cell_type": "markdown",
   "id": "aea9a383",
   "metadata": {},
   "source": [
    "# Delete a Node"
   ]
  },
  {
   "cell_type": "code",
   "execution_count": 6,
   "id": "bd650508",
   "metadata": {},
   "outputs": [
    {
     "name": "stdout",
     "output_type": "stream",
     "text": [
      "List from front to back:\n",
      "\n",
      "9 -> 8 -> 7 -> 6 -> NULL\n",
      "\n",
      "List from back to front:\n",
      "\n",
      "6 -> 7 -> 8 -> 9 -> NULL\n",
      "List from front to back:\n",
      "\n",
      "8 -> 7 -> 6 -> NULL\n",
      "\n",
      "List from back to front:\n",
      "\n",
      "6 -> 7 -> 8 -> NULL\n"
     ]
    }
   ],
   "source": [
    "class Node:\n",
    "    def __init__(self,data):\n",
    "        self.data=data\n",
    "        self.next=None\n",
    "        self.prev=None\n",
    "\n",
    "class Double_LinkedList:\n",
    "    def __init__(self):\n",
    "        self.head=None\n",
    "    \n",
    "    def append(self,new_data):\n",
    "        new_node=Node(new_data)\n",
    "        \n",
    "        new_node.next=None\n",
    "        \n",
    "        if self.head is None:\n",
    "            self.head=new_node\n",
    "            return\n",
    "        \n",
    "        temp=self.head\n",
    "        while temp.next:\n",
    "            temp=temp.next\n",
    "        \n",
    "        temp.next=new_node\n",
    "        new_node.prev=temp\n",
    "    \n",
    "    def  delete(self,node):\n",
    "        \n",
    "        if self.head is None or node is None:\n",
    "            return\n",
    "        \n",
    "        if self.head==node:\n",
    "            self.head=self.head.next\n",
    "        \n",
    "        if node.prev is not None:\n",
    "            node.prev.next=node.next\n",
    "        \n",
    "        if node.next is not None:\n",
    "            node.next.prev=node.prev\n",
    "        \n",
    "        node=Npo\n",
    "            \n",
    "    def print_list(self):\n",
    "        temp=self.head\n",
    "        print(\"List from front to back:\\n\")\n",
    "        while temp:\n",
    "            print(temp.data,\"->\",end=\" \")\n",
    "            last=temp\n",
    "            temp=temp.next\n",
    "        print(\"NULL\")\n",
    "        print(\"\\nList from back to front:\\n\")\n",
    "        while last:\n",
    "            print(last.data,\"->\",end=\" \")\n",
    "            last=last.prev\n",
    "        print(\"NULL\")\n",
    "        \n",
    "dl=Double_LinkedList()\n",
    "dl.append(9)\n",
    "dl.append(8)\n",
    "dl.append(7)\n",
    "dl.append(6)\n",
    "dl.print_list()\n",
    "dl.delete(dl.head)\n",
    "dl.print_list()"
   ]
  },
  {
   "cell_type": "code",
   "execution_count": null,
   "id": "6a73e96f",
   "metadata": {},
   "outputs": [],
   "source": []
  }
 ],
 "metadata": {
  "kernelspec": {
   "display_name": "Python 3",
   "language": "python",
   "name": "python3"
  },
  "language_info": {
   "codemirror_mode": {
    "name": "ipython",
    "version": 3
   },
   "file_extension": ".py",
   "mimetype": "text/x-python",
   "name": "python",
   "nbconvert_exporter": "python",
   "pygments_lexer": "ipython3",
   "version": "3.8.8"
  }
 },
 "nbformat": 4,
 "nbformat_minor": 5
}
