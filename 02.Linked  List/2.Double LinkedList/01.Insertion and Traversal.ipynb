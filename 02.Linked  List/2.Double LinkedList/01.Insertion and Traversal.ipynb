{
 "cells": [
  {
   "cell_type": "markdown",
   "id": "4e5f4b1e",
   "metadata": {},
   "source": [
    "# Double Linked List"
   ]
  },
  {
   "cell_type": "markdown",
   "id": "42b7299d",
   "metadata": {},
   "source": [
    "![Dll](data:image/png;base64,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)"
   ]
  },
  {
   "cell_type": "markdown",
   "id": "419d6084",
   "metadata": {},
   "source": [
    "## 1.Add a node at the front: (A 5 steps process) "
   ]
  },
  {
   "cell_type": "code",
   "execution_count": 5,
   "id": "94a5d2bd",
   "metadata": {},
   "outputs": [
    {
     "name": "stdout",
     "output_type": "stream",
     "text": [
      "List from front to back:\n",
      "\n",
      "7 -> 8 -> 9 -> NULL\n",
      "\n",
      "List from back to front:\n",
      "\n",
      "9 -> 8 -> 7 -> NULL\n"
     ]
    }
   ],
   "source": [
    "class Node:\n",
    "    def __init__(self,data):\n",
    "        self.data=data\n",
    "        self.next=None\n",
    "        self.prev=None\n",
    "\n",
    "class Double_LinkedList:\n",
    "    def __init__(self):\n",
    "        self.head=None\n",
    "    \n",
    "    def push(self,new_data):\n",
    "        new_node=Node(new_data)\n",
    "        \n",
    "        new_node.next=self.head\n",
    "        new_node.prev=None\n",
    "        \n",
    "        if  self.head  is not None:\n",
    "            self.head.prev=new_node\n",
    "        \n",
    "        self.head=new_node\n",
    "        \n",
    "    def print_list(self):\n",
    "        temp=self.head\n",
    "        print(\"List from front to back:\\n\")\n",
    "        while temp:\n",
    "            print(temp.data,\"->\",end=\" \")\n",
    "            last=temp\n",
    "            temp=temp.next\n",
    "        print(\"NULL\")\n",
    "        print(\"\\nList from back to front:\\n\")\n",
    "        while last:\n",
    "            print(last.data,\"->\",end=\" \")\n",
    "            last=last.prev\n",
    "        print(\"NULL\")\n",
    "        \n",
    "dl=Double_LinkedList()\n",
    "dl.push(9)\n",
    "dl.push(8)\n",
    "dl.push(7)\n",
    "dl.print_list()"
   ]
  },
  {
   "cell_type": "markdown",
   "id": "7ec33791",
   "metadata": {},
   "source": [
    "## 2) Add a node after a given node.: (A 7 steps process)"
   ]
  },
  {
   "cell_type": "code",
   "execution_count": 16,
   "id": "2100f789",
   "metadata": {},
   "outputs": [
    {
     "name": "stdout",
     "output_type": "stream",
     "text": [
      "\n",
      "List from top to bottom:\n",
      "\n",
      "7 -> 8 -> 9 -> 10 -> NULL\n",
      "\n",
      "List from bottom to top:\n",
      "\n",
      "10 -> 9 -> 8 -> 7 -> "
     ]
    }
   ],
   "source": [
    "class Node:\n",
    "    def __init__(self,data):\n",
    "        self.data=data\n",
    "        self.next=None\n",
    "        self.prev=None\n",
    "\n",
    "class Double_LinkedList:\n",
    "    def __init__(self):\n",
    "        self.head=None\n",
    "        \n",
    "    def push(self,new_data):\n",
    "        new_node=Node(new_data)\n",
    "        \n",
    "        new_node.next=self.head\n",
    "        new_node.prev=None\n",
    "        \n",
    "        if  self.head  is not None:\n",
    "            self.head.prev=new_node\n",
    "        \n",
    "        self.head=new_node\n",
    "    \n",
    "    def add_after(self,prev_node,data):\n",
    "        if prev_node is None:\n",
    "            print(\"The given location  doesn't exist\")\n",
    "            return\n",
    "        new_node=Node(data)\n",
    "        \n",
    "        new_node.next=prev_node.next\n",
    "        \n",
    "        prev_node.next=new_node\n",
    "        new_node.prev=prev_node\n",
    "        \n",
    "        if new_node.next!=None:\n",
    "            new_node.next.prev=new_node\n",
    "            \n",
    "    def print_list(self):\n",
    "        temp=self.head\n",
    "        print(\"\\nList from top to bottom:\\n\")\n",
    "        while  temp:\n",
    "            print(temp.data,\"->\",end=\" \")\n",
    "            last=temp\n",
    "            temp=temp.next\n",
    "        print(\"NULL\")\n",
    "        \n",
    "        print(\"\\nList from bottom to top:\\n\")\n",
    "        while last:\n",
    "            print(last.data,\"->\",end=\" \")\n",
    "            last=last.prev\n",
    "\n",
    "dl=Double_LinkedList()\n",
    "dl.push(9)\n",
    "dl.push(8)\n",
    "dl.push(7)\n",
    "dl.add_after(dl.head.next.next,10)\n",
    "dl.print_list()"
   ]
  },
  {
   "cell_type": "markdown",
   "id": "c26c044a",
   "metadata": {},
   "source": [
    "## 3) Add a node at the end: (7 steps process) "
   ]
  },
  {
   "cell_type": "code",
   "execution_count": 18,
   "id": "6f488fe9",
   "metadata": {},
   "outputs": [
    {
     "name": "stdout",
     "output_type": "stream",
     "text": [
      "List from front to back:\n",
      "\n",
      "9 -> 8 -> 7 -> NULL\n",
      "\n",
      "List from back to front:\n",
      "\n",
      "7 -> 8 -> 9 -> NULL\n"
     ]
    }
   ],
   "source": [
    "class Node:\n",
    "    def __init__(self,data):\n",
    "        self.data=data\n",
    "        self.next=None\n",
    "        self.prev=None\n",
    "\n",
    "class Double_LinkedList:\n",
    "    def __init__(self):\n",
    "        self.head=None\n",
    "    \n",
    "    def append(self,new_data):\n",
    "        new_node=Node(new_data)\n",
    "        \n",
    "        new_node.next=None\n",
    "        \n",
    "        if self.head is None:\n",
    "            self.head=new_node\n",
    "            return\n",
    "        \n",
    "        temp=self.head\n",
    "        while temp.next:\n",
    "            temp=temp.next\n",
    "        \n",
    "        temp.next=new_node\n",
    "        new_node.prev=temp\n",
    "            \n",
    "    def print_list(self):\n",
    "        temp=self.head\n",
    "        print(\"List from front to back:\\n\")\n",
    "        while temp:\n",
    "            print(temp.data,\"->\",end=\" \")\n",
    "            last=temp\n",
    "            temp=temp.next\n",
    "        print(\"NULL\")\n",
    "        print(\"\\nList from back to front:\\n\")\n",
    "        while last:\n",
    "            print(last.data,\"->\",end=\" \")\n",
    "            last=last.prev\n",
    "        print(\"NULL\")\n",
    "        \n",
    "dl=Double_LinkedList()\n",
    "dl.append(9)\n",
    "dl.append(8)\n",
    "dl.append(7)\n",
    "dl.print_list()"
   ]
  },
  {
   "cell_type": "markdown",
   "id": "e66dd8de",
   "metadata": {},
   "source": [
    "## 4) Add a node before a given node: "
   ]
  },
  {
   "cell_type": "code",
   "execution_count": 30,
   "id": "16c882e9",
   "metadata": {},
   "outputs": [
    {
     "name": "stdout",
     "output_type": "stream",
     "text": [
      "List from front to back:\n",
      "\n",
      "9 -> 8 -> 7 -> NULL\n",
      "\n",
      "List from back to front:\n",
      "\n",
      "7 -> 8 -> 9 -> NULL\n",
      "List from front to back:\n",
      "\n",
      "9 -> 8 -> 10 -> 7 -> NULL\n",
      "\n",
      "List from back to front:\n",
      "\n",
      "7 -> 10 -> 8 -> 9 -> NULL\n"
     ]
    }
   ],
   "source": [
    "class Node:\n",
    "    def __init__(self,data):\n",
    "        self.data=data\n",
    "        self.next=None\n",
    "        self.prev=None\n",
    "\n",
    "class Double_LinkedList:\n",
    "    def __init__(self):\n",
    "        self.head=None\n",
    "    \n",
    "    def append(self,new_data):\n",
    "        new_node=Node(new_data)\n",
    "        \n",
    "        new_node.next=None\n",
    "        \n",
    "        if self.head is None:\n",
    "            self.head=new_node\n",
    "            return\n",
    "        \n",
    "        temp=self.head\n",
    "        while temp.next:\n",
    "            temp=temp.next\n",
    "        \n",
    "        temp.next=new_node\n",
    "        new_node.prev=temp\n",
    "        \n",
    "    def add_at_prev(self,next_node,new_data):\n",
    "        if next_node is None:\n",
    "            print(\"\\n\\nThe node cannot be added before NULL\")\n",
    "            return\n",
    "        new_node=Node(new_data)\n",
    "        \n",
    "        prev_node=next_node.prev\n",
    "        \n",
    "        new_node.next=next_node\n",
    "        new_node.prev=prev_node\n",
    "        next_node.prev=new_node\n",
    "        prev_node.next=new_node\n",
    "        \n",
    "    def print_list(self):\n",
    "        temp=self.head\n",
    "        print(\"List from front to back:\\n\")\n",
    "        while temp:\n",
    "            print(temp.data,\"->\",end=\" \")\n",
    "            last=temp\n",
    "            temp=temp.next\n",
    "        print(\"NULL\")\n",
    "        print(\"\\nList from back to front:\\n\")\n",
    "        while last:\n",
    "            print(last.data,\"->\",end=\" \")\n",
    "            last=last.prev\n",
    "        print(\"NULL\")\n",
    "        \n",
    "dl=Double_LinkedList()\n",
    "dl.append(9)\n",
    "dl.append(8)\n",
    "dl.append(7)\n",
    "dl.print_list()\n",
    "dl.add_at_prev(dl.head.next.next,10)\n",
    "dl.print_list()"
   ]
  },
  {
   "cell_type": "code",
   "execution_count": null,
   "id": "ebf2d1aa",
   "metadata": {},
   "outputs": [],
   "source": []
  }
 ],
 "metadata": {
  "kernelspec": {
   "display_name": "Python 3",
   "language": "python",
   "name": "python3"
  },
  "language_info": {
   "codemirror_mode": {
    "name": "ipython",
    "version": 3
   },
   "file_extension": ".py",
   "mimetype": "text/x-python",
   "name": "python",
   "nbconvert_exporter": "python",
   "pygments_lexer": "ipython3",
   "version": "3.8.8"
  }
 },
 "nbformat": 4,
 "nbformat_minor": 5
}
