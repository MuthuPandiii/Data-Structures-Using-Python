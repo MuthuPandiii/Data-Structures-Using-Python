{
 "cells": [
  {
   "cell_type": "markdown",
   "id": "651ee235",
   "metadata": {},
   "source": [
    "### By Making Enqueue  Costly"
   ]
  },
  {
   "cell_type": "code",
   "execution_count": 8,
   "id": "58bc1d51",
   "metadata": {},
   "outputs": [],
   "source": [
    "class Queue:\n",
    "    def __init__(self):\n",
    "        self.stack1=[]\n",
    "        self.stack2=[]\n",
    "    \n",
    "    def Enqueue(self,new_data):\n",
    "        if not self.stack1:\n",
    "            self.stack1.append(new_data)\n",
    "            print(\"\\nThe  element Enqueued is : \",new_data)\n",
    "            return\n",
    "        \n",
    "        while self.stack1:\n",
    "            self.stack2.append(self.stack1.pop())\n",
    "        self.stack1.append(new_data)\n",
    "        while self.stack2:\n",
    "            self.stack1.append(self.stack2.pop())\n",
    "        print(\"\\nThe  element Enqueued is : \",new_data)\n",
    "        \n",
    "    def Dequeue(self):\n",
    "        x=self.stack1.pop()\n",
    "        print(\"\\nThe Element Dequeued is: \",x)\n",
    "        "
   ]
  },
  {
   "cell_type": "code",
   "execution_count": 9,
   "id": "3e6fa6d4",
   "metadata": {},
   "outputs": [
    {
     "name": "stdout",
     "output_type": "stream",
     "text": [
      "\n",
      "The  element Enqueued is :  8\n",
      "\n",
      "The  element Enqueued is :  9\n",
      "\n",
      "The  element Enqueued is :  10\n",
      "\n",
      "The Element Dequeued is:  8\n",
      "\n",
      "The Element Dequeued is:  9\n"
     ]
    }
   ],
   "source": [
    "queue=Queue()\n",
    "\n",
    "queue.Enqueue(8)\n",
    "queue.Enqueue(9)\n",
    "queue.Enqueue(10)\n",
    "\n",
    "queue.Dequeue()\n",
    "queue.Dequeue()"
   ]
  },
  {
   "cell_type": "markdown",
   "id": "32af37ec",
   "metadata": {},
   "source": [
    "## Making  Dequeue Costly"
   ]
  },
  {
   "cell_type": "code",
   "execution_count": 13,
   "id": "cca7daf3",
   "metadata": {},
   "outputs": [],
   "source": [
    "class Queue:\n",
    "    def __init__(self):\n",
    "        self.stack1=[]\n",
    "        self.stack2=[]\n",
    "    \n",
    "    def Enqueue(self,new_data):\n",
    "        self.stack1.append(new_data)\n",
    "        print(\"\\nThe element Enqueued is: \",new_data)\n",
    "    \n",
    "    def Dequeue(self):\n",
    "        if not self.stack1:\n",
    "            print(\"\\nQueue Underflow\")\n",
    "            return\n",
    "        while self.stack1:\n",
    "            self.stack2.append(self.stack1.pop())\n",
    "        x=self.stack2.pop()\n",
    "        if self.stack2:\n",
    "            while self.stack2:\n",
    "                self.stack1.append(self.stack2.pop())\n",
    "        \n",
    "        print(\"\\nThe  element Dequeued is: \",x)\n",
    "        "
   ]
  },
  {
   "cell_type": "code",
   "execution_count": 14,
   "id": "27baf88c",
   "metadata": {},
   "outputs": [
    {
     "name": "stdout",
     "output_type": "stream",
     "text": [
      "\n",
      "The element Enqueued is:  8\n",
      "\n",
      "The element Enqueued is:  9\n",
      "\n",
      "The element Enqueued is:  10\n",
      "\n",
      "The  element Dequeued is:  8\n",
      "\n",
      "The  element Dequeued is:  9\n"
     ]
    }
   ],
   "source": [
    "queue=Queue()\n",
    "\n",
    "queue.Enqueue(8)\n",
    "queue.Enqueue(9)\n",
    "queue.Enqueue(10)\n",
    "\n",
    "queue.Dequeue()\n",
    "queue.Dequeue()"
   ]
  },
  {
   "cell_type": "code",
   "execution_count": null,
   "id": "63e72dea",
   "metadata": {},
   "outputs": [],
   "source": []
  }
 ],
 "metadata": {
  "kernelspec": {
   "display_name": "Python 3",
   "language": "python",
   "name": "python3"
  },
  "language_info": {
   "codemirror_mode": {
    "name": "ipython",
    "version": 3
   },
   "file_extension": ".py",
   "mimetype": "text/x-python",
   "name": "python",
   "nbconvert_exporter": "python",
   "pygments_lexer": "ipython3",
   "version": "3.8.8"
  }
 },
 "nbformat": 4,
 "nbformat_minor": 5
}
