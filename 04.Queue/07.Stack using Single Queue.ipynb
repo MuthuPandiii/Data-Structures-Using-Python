{
 "cells": [
  {
   "cell_type": "markdown",
   "id": "c2f1da4d",
   "metadata": {},
   "source": [
    "**After adding an element dequeue every element before the added element one by one and enqueue it after the added element**"
   ]
  },
  {
   "cell_type": "code",
   "execution_count": 33,
   "id": "778e53b0",
   "metadata": {},
   "outputs": [],
   "source": [
    "from queue import Queue"
   ]
  },
  {
   "cell_type": "code",
   "execution_count": 36,
   "id": "73bcf0f2",
   "metadata": {},
   "outputs": [],
   "source": [
    "class _queue:\n",
    "    def __init__(self):\n",
    "        self.q=Queue(maxsize=0)\n",
    "\n",
    "    def Push(self,x):\n",
    "    \n",
    "        size=self.q.qsize()\n",
    "        self.q.put(x)\n",
    "        \n",
    "        print(\"\\nElement Pushed: \",x)\n",
    "        \n",
    "        for i in range(size):\n",
    "            self.q.put(self.q.get())\n",
    "           \n",
    "    \n",
    "    def Pop(self):\n",
    "        if self.q.qsize()==0:\n",
    "            print(\"\\n\\tEmpty Stack\")\n",
    "            return\n",
    "        x=self.q.get()\n",
    "        print(\"\\nElement Popped : \",x)"
   ]
  },
  {
   "cell_type": "code",
   "execution_count": 41,
   "id": "48585ebb",
   "metadata": {},
   "outputs": [
    {
     "name": "stdout",
     "output_type": "stream",
     "text": [
      "\n",
      "Element Pushed:  9\n",
      "\n",
      "Element Pushed:  8\n",
      "\n",
      "Element Pushed:  7\n",
      "\n",
      "Element Popped :  7\n",
      "\n",
      "Element Popped :  8\n",
      "\n",
      "Element Popped :  9\n",
      "\n",
      "\tEmpty Stack\n"
     ]
    }
   ],
   "source": [
    "q=_queue()\n",
    "\n",
    "q.Push(9)\n",
    "q.Push(8)\n",
    "q.Push(7)\n",
    "\n",
    "q.Pop()\n",
    "q.Pop()\n",
    "q.Pop()\n",
    "q.Pop()"
   ]
  },
  {
   "cell_type": "code",
   "execution_count": null,
   "id": "c06325c4",
   "metadata": {},
   "outputs": [],
   "source": []
  }
 ],
 "metadata": {
  "kernelspec": {
   "display_name": "Python 3",
   "language": "python",
   "name": "python3"
  },
  "language_info": {
   "codemirror_mode": {
    "name": "ipython",
    "version": 3
   },
   "file_extension": ".py",
   "mimetype": "text/x-python",
   "name": "python",
   "nbconvert_exporter": "python",
   "pygments_lexer": "ipython3",
   "version": "3.8.8"
  }
 },
 "nbformat": 4,
 "nbformat_minor": 5
}
