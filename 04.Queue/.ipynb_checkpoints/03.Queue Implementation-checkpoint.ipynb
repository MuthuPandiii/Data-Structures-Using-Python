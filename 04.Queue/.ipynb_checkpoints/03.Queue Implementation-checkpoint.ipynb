{
 "cells": [
  {
   "cell_type": "code",
   "execution_count": 26,
   "id": "0f4d71ce",
   "metadata": {},
   "outputs": [],
   "source": [
    "class Queue:\n",
    "    def __init__(self,capacity):\n",
    "        self.front=self.rear=self.size=0\n",
    "        self.capacity=capacity\n",
    "        self.q=[None]*capacity\n",
    "        \n",
    "        \n",
    "    def isFull(self):\n",
    "        return  self.rear==self.capacity\n",
    "    \n",
    "    def isEmpty(self):\n",
    "        return self.size==0\n",
    "    \n",
    "    def Enqueue(self,new_data):\n",
    "        if self.isFull():\n",
    "            print(\"\\n\\tQueue Overflow\")\n",
    "            return\n",
    "        self.q[self.rear]=new_data\n",
    "        print(\"\\nElement Enqueued : \",new_data)\n",
    "        self.rear+=1\n",
    "        self.size+=1\n",
    "    \n",
    "    def Dequeue(self):\n",
    "        if self.isEmpty():\n",
    "            print(\"\\n\\tQueue Underflow\")\n",
    "            return\n",
    "        x=self.q[self.front]\n",
    "        print(\"\\nElement Dequeued : \",x)\n",
    "        self.front+=1\n",
    "        self.size-=1\n",
    "    \n",
    "        "
   ]
  },
  {
   "cell_type": "code",
   "execution_count": 27,
   "id": "d3339139",
   "metadata": {},
   "outputs": [
    {
     "name": "stdout",
     "output_type": "stream",
     "text": [
      "\n",
      "Element Enqueued :  9\n",
      "\n",
      "Element Enqueued :  10\n",
      "\n",
      "Element Enqueued :  11\n",
      "\n",
      "Element Dequeued :  9\n",
      "\n",
      "Element Dequeued :  10\n",
      "\n",
      "Element Enqueued :  12\n",
      "\n",
      "\tQueue Overflow\n"
     ]
    }
   ],
   "source": [
    "queue=Queue(4)\n",
    "\n",
    "queue.Enqueue(9)\n",
    "queue.Enqueue(10)\n",
    "queue.Enqueue(11)\n",
    "queue.Dequeue()\n",
    "queue.Dequeue()\n",
    "queue.Enqueue(12)\n",
    "queue.Enqueue(13)"
   ]
  },
  {
   "cell_type": "code",
   "execution_count": 11,
   "id": "0afb0e15",
   "metadata": {},
   "outputs": [],
   "source": []
  },
  {
   "cell_type": "code",
   "execution_count": null,
   "id": "95d6b78d",
   "metadata": {},
   "outputs": [],
   "source": []
  }
 ],
 "metadata": {
  "kernelspec": {
   "display_name": "Python 3",
   "language": "python",
   "name": "python3"
  },
  "language_info": {
   "codemirror_mode": {
    "name": "ipython",
    "version": 3
   },
   "file_extension": ".py",
   "mimetype": "text/x-python",
   "name": "python",
   "nbconvert_exporter": "python",
   "pygments_lexer": "ipython3",
   "version": "3.8.8"
  }
 },
 "nbformat": 4,
 "nbformat_minor": 5
}
