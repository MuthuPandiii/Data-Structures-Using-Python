{
 "cells": [
  {
   "cell_type": "markdown",
   "id": "dc94f2bb",
   "metadata": {},
   "source": [
    "## Making Push Operation Costly"
   ]
  },
  {
   "cell_type": "markdown",
   "id": "ff080bc4",
   "metadata": {},
   "source": [
    "#### push(s, x) operation’s step are described below: \n",
    "- Enqueue x to q2\n",
    "- One by one dequeue everything from q1 and enqueue to q2.\n",
    "- Swap the names of q1 and q2\n",
    "\n",
    "#### pop(s) operation’s function are described below: \n",
    "- Dequeue an item from q1 and return it."
   ]
  },
  {
   "cell_type": "code",
   "execution_count": 16,
   "id": "13f75810",
   "metadata": {},
   "outputs": [],
   "source": [
    "from queue import Queue"
   ]
  },
  {
   "cell_type": "code",
   "execution_count": 12,
   "id": "5720bbc6",
   "metadata": {},
   "outputs": [],
   "source": [
    "class Stack:\n",
    "    def __init__(self):\n",
    "        self.q1=Queue()\n",
    "        self.q2=Queue()\n",
    "    \n",
    "    def Push(self,new_data):\n",
    "        self.q2.put(new_data)\n",
    "        \n",
    "        while not self.q1.empty():\n",
    "            self.q2.put(self.q1.get())\n",
    "        \n",
    "        print(\"\\nThe element pushed is : \",new_data)\n",
    "        \n",
    "        temp=self.q1\n",
    "        self.q1=self.q2\n",
    "        self.q2=temp\n",
    "        \n",
    "    def Pop(self):\n",
    "        x=self.q1.get()\n",
    "        print(\"\\nThe element popped is : \",x)\n",
    "        \n",
    "    def top(self):\n",
    "        if  not self.q1:\n",
    "            print(\"\\n\\tEmpty Stack\")\n",
    "            return\n",
    "        print(\"\\n\\tTop element : \",self.q1.queue[0])"
   ]
  },
  {
   "cell_type": "code",
   "execution_count": 13,
   "id": "b73bb573",
   "metadata": {},
   "outputs": [
    {
     "name": "stdout",
     "output_type": "stream",
     "text": [
      "\n",
      "The element pushed is :  7\n",
      "\n",
      "The element pushed is :  8\n",
      "\n",
      "The element pushed is :  9\n",
      "\n",
      "The element popped is :  9\n",
      "\n",
      "\tTop element :  8\n"
     ]
    }
   ],
   "source": [
    "s=Stack()\n",
    "\n",
    "s.Push(7)\n",
    "s.Push(8)\n",
    "s.Push(9)\n",
    "\n",
    "s.Pop()\n",
    "s.top()"
   ]
  },
  {
   "cell_type": "code",
   "execution_count": null,
   "id": "8893469e",
   "metadata": {},
   "outputs": [],
   "source": []
  },
  {
   "cell_type": "code",
   "execution_count": null,
   "id": "c46ee525",
   "metadata": {},
   "outputs": [],
   "source": []
  },
  {
   "cell_type": "markdown",
   "id": "f9915af6",
   "metadata": {},
   "source": [
    "## Making Pop operation Costly"
   ]
  },
  {
   "cell_type": "markdown",
   "id": "55539f5c",
   "metadata": {},
   "source": [
    "#### push(s, x) operation: \n",
    "- Enqueue x to q1 (assuming size of q1 is unlimited).\n",
    "\n",
    "####  pop(s) operation: \n",
    "- One by one dequeue everything except the last element from q1 and enqueue to q2.\n",
    "- Dequeue the last item of q1, the dequeued item is result, store it.\n",
    "- Swap the names of q1 and q2\n",
    "- Return the item stored in step 2"
   ]
  },
  {
   "cell_type": "code",
   "execution_count": 1,
   "id": "4ad5d4da",
   "metadata": {},
   "outputs": [],
   "source": [
    "from queue import Queue\n",
    "\n",
    "class Stack:\n",
    "    def __init__(self):\n",
    "        self.q1=Queue()\n",
    "        self.q2=Queue()\n",
    "    \n",
    "    def Push(self,x):\n",
    "        self.q1.put(x)\n",
    "        print(\"\\nThe element pushed is : \",x)\n",
    "    \n",
    "    def Pop(self):\n",
    "        \n",
    "        if self.q1.empty():\n",
    "            return\n",
    "        \n",
    "        while(self.q1.qsize()!=1):\n",
    "            self.q2.put(self.q1.get())\n",
    "            \n",
    "        x=self.q1.get()\n",
    "        \n",
    "        print(\"\\nThe element popped is : \",x)\n",
    "        \n",
    "        temp=self.q1\n",
    "        self.q1=self.q2\n",
    "        self.q2=temp\n",
    "        "
   ]
  },
  {
   "cell_type": "code",
   "execution_count": 2,
   "id": "37a7edee",
   "metadata": {},
   "outputs": [
    {
     "name": "stdout",
     "output_type": "stream",
     "text": [
      "\n",
      "The element pushed is :  9\n",
      "\n",
      "The element pushed is :  8\n",
      "\n",
      "The element pushed is :  7\n",
      "\n",
      "The element popped is :  7\n",
      "\n",
      "The element popped is :  8\n"
     ]
    }
   ],
   "source": [
    "s=Stack()\n",
    "\n",
    "s.Push(9)\n",
    "s.Push(8)\n",
    "s.Push(7)\n",
    "\n",
    "s.Pop()\n",
    "s.Pop()"
   ]
  },
  {
   "cell_type": "code",
   "execution_count": null,
   "id": "77be2f0a",
   "metadata": {},
   "outputs": [],
   "source": []
  },
  {
   "cell_type": "code",
   "execution_count": null,
   "id": "9b9c251a",
   "metadata": {},
   "outputs": [],
   "source": []
  }
 ],
 "metadata": {
  "kernelspec": {
   "display_name": "Python 3",
   "language": "python",
   "name": "python3"
  },
  "language_info": {
   "codemirror_mode": {
    "name": "ipython",
    "version": 3
   },
   "file_extension": ".py",
   "mimetype": "text/x-python",
   "name": "python",
   "nbconvert_exporter": "python",
   "pygments_lexer": "ipython3",
   "version": "3.8.8"
  }
 },
 "nbformat": 4,
 "nbformat_minor": 5
}
