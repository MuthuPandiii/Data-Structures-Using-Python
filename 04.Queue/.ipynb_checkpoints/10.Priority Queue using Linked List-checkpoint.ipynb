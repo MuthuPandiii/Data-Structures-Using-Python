{
 "cells": [
  {
   "cell_type": "code",
   "execution_count": 41,
   "id": "e8a77264",
   "metadata": {},
   "outputs": [],
   "source": [
    "class Node:\n",
    "    def __init__(self,data,priority):\n",
    "        self.data=data\n",
    "        self.next=None\n",
    "        self.priority=priority\n",
    "    \n",
    "class Priority_Queue:\n",
    "    \n",
    "    def __init__(self):\n",
    "        self.Head=None\n",
    "    \n",
    "    def Push(self,data,priority):\n",
    "        \n",
    "        new_Node=Node(data,priority)\n",
    "        \n",
    "        if self.Head==None:\n",
    "            self.Head=new_Node\n",
    "            print(f\"\\nElement {data} with priority {priority} is Pushed\")\n",
    "            return\n",
    "        else:\n",
    "            if priority<self.Head.priority:\n",
    "                new_Node.next=self.Head\n",
    "                self.Head=new_Node\n",
    "            \n",
    "            else:\n",
    "                temp=self.Head\n",
    "                while temp.next:\n",
    "                    if priority<temp.next.priority:\n",
    "                        break\n",
    "                    temp=temp.next\n",
    "                    \n",
    "                new_Node.next=temp.next\n",
    "                temp.next=new_Node\n",
    "            print(f\"\\nElement {data} with priority {priority} is Pushed\")\n",
    "        \n",
    "    def Pop(self):\n",
    "            \n",
    "        if self.Head==None:\n",
    "            print(\"\\n\\tQueue Underflow\")\n",
    "            return\n",
    "        print(f\"\\nThe element with the Highest Priority {self.Head.data} is popped\")\n",
    "            \n",
    "        self.Head=self.Head.next\n",
    "\n",
    "    def Peek(self):\n",
    "            \n",
    "        if self.Head==None:\n",
    "            print(\"\\n\\tNo element to Peek\")\n",
    "            return\n",
    "        print(\"\\nThe  highest priority element : \",self.Head.data)\n",
    "            \n",
    "    def traverse(self):\n",
    "        temp=self.Head\n",
    "        print(\"\\nThe Priority Queue:\")\n",
    "        while temp:\n",
    "            print(temp.data,end=\" \")\n",
    "            temp=temp.next\n",
    "                "
   ]
  },
  {
   "cell_type": "code",
   "execution_count": 42,
   "id": "fe8a3a04",
   "metadata": {},
   "outputs": [
    {
     "name": "stdout",
     "output_type": "stream",
     "text": [
      "\n",
      "Element 9 with priority 4 is Pushed\n",
      "\n",
      "Element 7 with priority 3 is Pushed\n",
      "\n",
      "Element 5 with priority 2 is Pushed\n",
      "\n",
      "Element 4 with priority 1 is Pushed\n",
      "\n",
      "The Priority Queue:\n",
      "4 5 7 9 \n",
      "The element with the Highest Priority 4 is popped\n",
      "\n",
      "The element with the Highest Priority 5 is popped\n",
      "\n",
      "The  highest priority element :  7\n"
     ]
    }
   ],
   "source": [
    "pq=Priority_Queue()\n",
    "\n",
    "pq.Push(9,4)\n",
    "pq.Push(7,3)\n",
    "pq.Push(5,2)\n",
    "pq.Push(4,1)\n",
    "\n",
    "pq.traverse()\n",
    "\n",
    "pq.Pop()\n",
    "pq.Pop()\n",
    "\n",
    "pq.Peek()"
   ]
  },
  {
   "cell_type": "code",
   "execution_count": null,
   "id": "d54ac140",
   "metadata": {},
   "outputs": [],
   "source": []
  },
  {
   "cell_type": "code",
   "execution_count": null,
   "id": "8f7d80f9",
   "metadata": {},
   "outputs": [],
   "source": []
  }
 ],
 "metadata": {
  "kernelspec": {
   "display_name": "Python 3",
   "language": "python",
   "name": "python3"
  },
  "language_info": {
   "codemirror_mode": {
    "name": "ipython",
    "version": 3
   },
   "file_extension": ".py",
   "mimetype": "text/x-python",
   "name": "python",
   "nbconvert_exporter": "python",
   "pygments_lexer": "ipython3",
   "version": "3.8.8"
  }
 },
 "nbformat": 4,
 "nbformat_minor": 5
}
