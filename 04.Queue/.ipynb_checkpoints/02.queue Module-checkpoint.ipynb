{
 "cells": [
  {
   "cell_type": "markdown",
   "id": "b6835575",
   "metadata": {},
   "source": [
    "**Implementation using queue.Queue\n",
    "Queue is built-in module of Python which is used to implement a queue. queue.Queue(maxsize) initializes a variable to a maximum size of maxsize. A maxsize of zero ‘0’ means a infinite queue. This Queue follows FIFO rule. \n",
    "There are various functions available in this module:** \n",
    " \n",
    "\n",
    "- maxsize – Number of items allowed in the queue.\n",
    "- empty() – Return True if the queue is empty, False otherwise.\n",
    "- full() – Return True if there are maxsize items in the queue. If the queue was initialized with maxsize=0 (the default), then full() never returns True.\n",
    "- get() – Remove and return an item from the queue. If queue is empty, wait until an item is available.\n",
    "- get_nowait() – Return an item if one is immediately available, else raise QueueEmpty.\n",
    "- put(item) – Put an item into the queue. If the queue is full, wait until a free slot is available before adding the item.\n",
    "- put_nowait(item) – Put an item into the queue without blocking. If no free slot is immediately available, raise QueueFull.\n",
    "- qsize() – Return the number of items in the queue."
   ]
  },
  {
   "cell_type": "code",
   "execution_count": 1,
   "id": "10b1774d",
   "metadata": {},
   "outputs": [],
   "source": [
    "from queue import Queue"
   ]
  },
  {
   "cell_type": "code",
   "execution_count": 12,
   "id": "3f2d9fb7",
   "metadata": {},
   "outputs": [],
   "source": [
    "queue1=Queue(maxsize=0)"
   ]
  },
  {
   "cell_type": "code",
   "execution_count": 13,
   "id": "7d1ceae9",
   "metadata": {},
   "outputs": [
    {
     "name": "stdout",
     "output_type": "stream",
     "text": [
      "0\n"
     ]
    }
   ],
   "source": [
    "print(queue1.qsize())"
   ]
  },
  {
   "cell_type": "code",
   "execution_count": 17,
   "id": "6d7f98fa",
   "metadata": {},
   "outputs": [],
   "source": [
    "queue1.put(8)\n",
    "queue1.put(9)\n",
    "queue1.put(10)"
   ]
  },
  {
   "cell_type": "code",
   "execution_count": 18,
   "id": "a073d8fd",
   "metadata": {},
   "outputs": [
    {
     "data": {
      "text/plain": [
       "8"
      ]
     },
     "execution_count": 18,
     "metadata": {},
     "output_type": "execute_result"
    }
   ],
   "source": [
    "queue1.get()"
   ]
  },
  {
   "cell_type": "code",
   "execution_count": 19,
   "id": "688ac5a1",
   "metadata": {},
   "outputs": [
    {
     "data": {
      "text/plain": [
       "False"
      ]
     },
     "execution_count": 19,
     "metadata": {},
     "output_type": "execute_result"
    }
   ],
   "source": [
    "queue1.full()"
   ]
  },
  {
   "cell_type": "code",
   "execution_count": 20,
   "id": "de687cbe",
   "metadata": {},
   "outputs": [
    {
     "data": {
      "text/plain": [
       "False"
      ]
     },
     "execution_count": 20,
     "metadata": {},
     "output_type": "execute_result"
    }
   ],
   "source": [
    "queue1.empty()"
   ]
  },
  {
   "cell_type": "code",
   "execution_count": null,
   "id": "0715db09",
   "metadata": {},
   "outputs": [],
   "source": []
  }
 ],
 "metadata": {
  "kernelspec": {
   "display_name": "Python 3",
   "language": "python",
   "name": "python3"
  },
  "language_info": {
   "codemirror_mode": {
    "name": "ipython",
    "version": 3
   },
   "file_extension": ".py",
   "mimetype": "text/x-python",
   "name": "python",
   "nbconvert_exporter": "python",
   "pygments_lexer": "ipython3",
   "version": "3.8.8"
  }
 },
 "nbformat": 4,
 "nbformat_minor": 5
}
