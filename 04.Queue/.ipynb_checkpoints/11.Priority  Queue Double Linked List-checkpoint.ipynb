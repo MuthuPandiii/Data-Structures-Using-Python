{
 "cells": [
  {
   "cell_type": "code",
   "execution_count": 23,
   "id": "7e50b04e",
   "metadata": {},
   "outputs": [],
   "source": [
    "import gc"
   ]
  },
  {
   "cell_type": "code",
   "execution_count": 34,
   "id": "7826338d",
   "metadata": {},
   "outputs": [],
   "source": [
    "class Node:\n",
    "    def __init__(self,data,priority):\n",
    "        self.data=data\n",
    "        self.priority=priority\n",
    "        self.next=None\n",
    "        self.prev=None\n",
    "    \n",
    "class Priority_Queue:\n",
    "    \n",
    "    def __init__(self):\n",
    "        self.Head=None\n",
    "    \n",
    "    def  Push(self,data,priority):\n",
    "        \n",
    "        new_Node=Node(data,priority)\n",
    "        \n",
    "        print(f\"\\nThe element {data} with priority  {priority} is Pushed\")\n",
    "        \n",
    "        if self.Head==None:\n",
    "            self.Head=new_Node\n",
    "            return\n",
    "        else:\n",
    "            if priority<self.Head.priority:\n",
    "                new_Node.next=self.Head\n",
    "                self.Head.prev=new_Node\n",
    "                self.Head=new_Node\n",
    "            \n",
    "            else:\n",
    "                \n",
    "                temp=self.Head\n",
    "                \n",
    "                while temp.next:\n",
    "                    if priority<temp.next.priority:\n",
    "                        break\n",
    "                    temp=temp.next\n",
    "                \n",
    "                if  temp.next==None:\n",
    "                    temp.next=new_Node\n",
    "                    new_Node.prev=temp\n",
    "                    return\n",
    "                \n",
    "                new_Node.next=temp.next\n",
    "                temp.next.prev=new_Node\n",
    "                new_Node.prev=temp\n",
    "                temp.next=new_Node\n",
    "        \n",
    "    def Pop(self):\n",
    "        if self.Head==None:\n",
    "            print(\"\\n\\tQueue Underflow\")\n",
    "            return\n",
    "        temp=self.Head\n",
    "        print(f\"\\nThe element {temp.data} is  Popped\")\n",
    "        self.Head=temp.next\n",
    "        \n",
    "    def Traverse(self):\n",
    "        temp=self.Head\n",
    "        print(\"\\nQueue from front to rear :\")\n",
    "        while temp:\n",
    "            print(temp.data,end=\" \")\n",
    "            temp=temp.next"
   ]
  },
  {
   "cell_type": "code",
   "execution_count": 35,
   "id": "ec4dfae9",
   "metadata": {},
   "outputs": [
    {
     "name": "stdout",
     "output_type": "stream",
     "text": [
      "\n",
      "The element 9 with priority  4 is Pushed\n",
      "\n",
      "The element 6 with priority  3 is Pushed\n",
      "\n",
      "The element 5 with priority  2 is Pushed\n",
      "\n",
      "Queue from front to rear :\n",
      "5 6 9 \n",
      "The element 5 is  Popped\n",
      "\n",
      "The element 6 is  Popped\n",
      "\n",
      "Queue from front to rear :\n",
      "9 "
     ]
    }
   ],
   "source": [
    "pq=Priority_Queue()\n",
    "\n",
    "pq.Push(9,4)\n",
    "pq.Push(6,3)\n",
    "pq.Push(5,2)\n",
    "\n",
    "pq.Traverse()\n",
    "\n",
    "pq.Pop()\n",
    "pq.Pop()\n",
    "\n",
    "pq.Traverse()"
   ]
  },
  {
   "cell_type": "code",
   "execution_count": null,
   "id": "79a32237",
   "metadata": {},
   "outputs": [],
   "source": []
  }
 ],
 "metadata": {
  "kernelspec": {
   "display_name": "Python 3",
   "language": "python",
   "name": "python3"
  },
  "language_info": {
   "codemirror_mode": {
    "name": "ipython",
    "version": 3
   },
   "file_extension": ".py",
   "mimetype": "text/x-python",
   "name": "python",
   "nbconvert_exporter": "python",
   "pygments_lexer": "ipython3",
   "version": "3.8.8"
  }
 },
 "nbformat": 4,
 "nbformat_minor": 5
}
