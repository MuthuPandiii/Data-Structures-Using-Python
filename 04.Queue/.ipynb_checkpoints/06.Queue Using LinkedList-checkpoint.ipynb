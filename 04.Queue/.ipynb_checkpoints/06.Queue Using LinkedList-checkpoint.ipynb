{
 "cells": [
  {
   "cell_type": "code",
   "execution_count": 5,
   "id": "bfbba723",
   "metadata": {},
   "outputs": [],
   "source": [
    "class Node:\n",
    "    def __init__(self,data):\n",
    "        self.data=data\n",
    "        self.next=None\n",
    "    \n",
    "class Queue:\n",
    "    \n",
    "    def __init__(self):\n",
    "        self.front=self.rear=None\n",
    "    \n",
    "    def isEmpty(self):\n",
    "        return  self.front==None\n",
    "    \n",
    "    def Enqueue(self,x):\n",
    "        \n",
    "        temp=Node(x)\n",
    "        \n",
    "        if self.rear==None:\n",
    "            self.rear=self.front=temp\n",
    "            print(\"\\nElement  Enqueued : \",x)\n",
    "            return\n",
    "        self.rear.next=temp\n",
    "        self.rear=temp\n",
    "        print(\"\\nElement  Enqueued : \",x)\n",
    "    \n",
    "    def Dequeue(self):\n",
    "        if self.isEmpty():\n",
    "            print(\"\\n\\tNo element to Dequeue\")\n",
    "            return\n",
    "        \n",
    "        temp=self.front\n",
    "        self.front=temp.next\n",
    "        print(\"\\nElement Dequeued : \",temp.data)\n",
    "        \n",
    "        if self.front==None:\n",
    "            self.rear=None\n",
    "        "
   ]
  },
  {
   "cell_type": "code",
   "execution_count": 7,
   "id": "24465e2e",
   "metadata": {},
   "outputs": [
    {
     "name": "stdout",
     "output_type": "stream",
     "text": [
      "\n",
      "Element  Enqueued :  9\n",
      "\n",
      "Element  Enqueued :  10\n",
      "\n",
      "Element  Enqueued :  11\n",
      "\n",
      "Element Dequeued :  9\n",
      "\n",
      "Element Dequeued :  10\n",
      "\n",
      "Element Dequeued :  11\n",
      "\n",
      "\tNo element to Dequeue\n"
     ]
    }
   ],
   "source": [
    "queue=Queue()\n",
    "\n",
    "queue.Enqueue(9)\n",
    "queue.Enqueue(10)\n",
    "queue.Enqueue(11)\n",
    "\n",
    "queue.Dequeue()\n",
    "queue.Dequeue()\n",
    "queue.Dequeue()\n",
    "queue.Dequeue()"
   ]
  },
  {
   "cell_type": "code",
   "execution_count": null,
   "id": "d19d1da5",
   "metadata": {},
   "outputs": [],
   "source": []
  }
 ],
 "metadata": {
  "kernelspec": {
   "display_name": "Python 3",
   "language": "python",
   "name": "python3"
  },
  "language_info": {
   "codemirror_mode": {
    "name": "ipython",
    "version": 3
   },
   "file_extension": ".py",
   "mimetype": "text/x-python",
   "name": "python",
   "nbconvert_exporter": "python",
   "pygments_lexer": "ipython3",
   "version": "3.8.8"
  }
 },
 "nbformat": 4,
 "nbformat_minor": 5
}
