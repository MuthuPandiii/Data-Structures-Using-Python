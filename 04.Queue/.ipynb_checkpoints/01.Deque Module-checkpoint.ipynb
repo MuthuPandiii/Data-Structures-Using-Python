{
 "cells": [
  {
   "cell_type": "markdown",
   "id": "f766e7d9",
   "metadata": {},
   "source": [
    "**Deque (Doubly Ended Queue) in Python is implemented using the module “collections“. Deque is preferred over list in the cases where we need quicker append and pop operations from both the ends of container, as deque provides an O(1) time complexity for append and pop operations as compared to list which provides O(n) time complexity.**?"
   ]
  },
  {
   "cell_type": "code",
   "execution_count": 1,
   "id": "a6d61367",
   "metadata": {},
   "outputs": [],
   "source": [
    "from collections import deque"
   ]
  },
  {
   "cell_type": "code",
   "execution_count": 2,
   "id": "e2a0de43",
   "metadata": {},
   "outputs": [],
   "source": [
    "queue=deque([\"Hii\",\"Heelo\",\"Wru\"])"
   ]
  },
  {
   "cell_type": "code",
   "execution_count": 3,
   "id": "1b60f5cd",
   "metadata": {},
   "outputs": [
    {
     "name": "stdout",
     "output_type": "stream",
     "text": [
      "deque(['Hii', 'Heelo', 'Wru'])\n"
     ]
    }
   ],
   "source": [
    "print(queue)"
   ]
  },
  {
   "cell_type": "markdown",
   "id": "87f06406",
   "metadata": {},
   "source": [
    "##### Let’s see various Operations on deque : \n",
    "\n",
    "- append() :- This function is used to insert the value in its argument to the right end of deque.\n",
    "- appendleft() :- This function is used to insert the value in its argument to the left end of deque.\n",
    "- pop() :- This function is used to delete an argument from the right end of deque.\n",
    "- popleft() :- This function is used to delete an argument from the left end of deque. "
   ]
  },
  {
   "cell_type": "code",
   "execution_count": 4,
   "id": "a17e65b3",
   "metadata": {},
   "outputs": [],
   "source": [
    "queue=deque([1,2,3,4,5,6])"
   ]
  },
  {
   "cell_type": "code",
   "execution_count": 5,
   "id": "b6e42dea",
   "metadata": {},
   "outputs": [],
   "source": [
    "queue.append([10,11])"
   ]
  },
  {
   "cell_type": "code",
   "execution_count": 7,
   "id": "0180abec",
   "metadata": {},
   "outputs": [
    {
     "name": "stdout",
     "output_type": "stream",
     "text": [
      "deque([1, 2, 3, 4, 5, 6, [10, 11]])\n"
     ]
    }
   ],
   "source": [
    "print(queue)"
   ]
  },
  {
   "cell_type": "code",
   "execution_count": 9,
   "id": "fe9c7afb",
   "metadata": {},
   "outputs": [],
   "source": [
    "queue.append(10)"
   ]
  },
  {
   "cell_type": "code",
   "execution_count": 10,
   "id": "e216442b",
   "metadata": {},
   "outputs": [
    {
     "data": {
      "text/plain": [
       "deque([1, 2, 3, 4, 5, 6, [10, 11], 10])"
      ]
     },
     "execution_count": 10,
     "metadata": {},
     "output_type": "execute_result"
    }
   ],
   "source": [
    "queue"
   ]
  },
  {
   "cell_type": "code",
   "execution_count": 11,
   "id": "b4f04e04",
   "metadata": {},
   "outputs": [],
   "source": [
    "queue.append((12,13))"
   ]
  },
  {
   "cell_type": "code",
   "execution_count": 12,
   "id": "65396a4d",
   "metadata": {},
   "outputs": [
    {
     "data": {
      "text/plain": [
       "deque([1, 2, 3, 4, 5, 6, [10, 11], 10, (12, 13)])"
      ]
     },
     "execution_count": 12,
     "metadata": {},
     "output_type": "execute_result"
    }
   ],
   "source": [
    "\n",
    "queue"
   ]
  },
  {
   "cell_type": "code",
   "execution_count": 26,
   "id": "b613a115",
   "metadata": {},
   "outputs": [],
   "source": [
    "deque1=deque([1,2,3])"
   ]
  },
  {
   "cell_type": "code",
   "execution_count": 27,
   "id": "980f762c",
   "metadata": {},
   "outputs": [
    {
     "data": {
      "text/plain": [
       "deque([1, 2, 3])"
      ]
     },
     "execution_count": 27,
     "metadata": {},
     "output_type": "execute_result"
    }
   ],
   "source": [
    "deque1"
   ]
  },
  {
   "cell_type": "code",
   "execution_count": 28,
   "id": "34882f94",
   "metadata": {},
   "outputs": [],
   "source": [
    "deque1.append(4)"
   ]
  },
  {
   "cell_type": "code",
   "execution_count": 29,
   "id": "f3c79bdd",
   "metadata": {},
   "outputs": [
    {
     "data": {
      "text/plain": [
       "deque([1, 2, 3, 4])"
      ]
     },
     "execution_count": 29,
     "metadata": {},
     "output_type": "execute_result"
    }
   ],
   "source": [
    "deque1"
   ]
  },
  {
   "cell_type": "code",
   "execution_count": 30,
   "id": "5aaeaf7c",
   "metadata": {},
   "outputs": [],
   "source": [
    "deque1.appendleft(0)"
   ]
  },
  {
   "cell_type": "code",
   "execution_count": 31,
   "id": "8284cf35",
   "metadata": {},
   "outputs": [
    {
     "data": {
      "text/plain": [
       "deque([0, 1, 2, 3, 4])"
      ]
     },
     "execution_count": 31,
     "metadata": {},
     "output_type": "execute_result"
    }
   ],
   "source": [
    "deque1"
   ]
  },
  {
   "cell_type": "code",
   "execution_count": 32,
   "id": "14bee493",
   "metadata": {},
   "outputs": [
    {
     "data": {
      "text/plain": [
       "deque([0, 1, 2, 3])"
      ]
     },
     "execution_count": 32,
     "metadata": {},
     "output_type": "execute_result"
    }
   ],
   "source": [
    "deque1.pop()\n",
    "deque1"
   ]
  },
  {
   "cell_type": "code",
   "execution_count": 35,
   "id": "ae4b4acc",
   "metadata": {},
   "outputs": [
    {
     "data": {
      "text/plain": [
       "deque([2, 3])"
      ]
     },
     "execution_count": 35,
     "metadata": {},
     "output_type": "execute_result"
    }
   ],
   "source": [
    "deque1.popleft()\n",
    "\n",
    "deque1"
   ]
  },
  {
   "cell_type": "markdown",
   "id": "e465248a",
   "metadata": {},
   "source": [
    "- index(ele, beg, end) :- This function returns the first index of the value mentioned in arguments, starting searching from beg till end index.\n",
    "- insert(i, a) :- This function inserts the value mentioned in arguments(a) at index(i) specified in arguments.\n",
    "- remove() :- This function removes the first occurrence of value mentioned in arguments. \n",
    "- count() :- This function counts the number of occurrences of value mentioned in arguments. "
   ]
  },
  {
   "cell_type": "code",
   "execution_count": 36,
   "id": "bf18c826",
   "metadata": {},
   "outputs": [],
   "source": [
    "deque2=deque([1,2,3,4,4,4,5,6,6,7,1,2])"
   ]
  },
  {
   "cell_type": "code",
   "execution_count": 37,
   "id": "ab0e7625",
   "metadata": {},
   "outputs": [
    {
     "data": {
      "text/plain": [
       "deque([1, 2, 3, 4, 4, 4, 5, 6, 6, 7, 1, 2])"
      ]
     },
     "execution_count": 37,
     "metadata": {},
     "output_type": "execute_result"
    }
   ],
   "source": [
    "deque2"
   ]
  },
  {
   "cell_type": "code",
   "execution_count": 39,
   "id": "113c0e7c",
   "metadata": {},
   "outputs": [
    {
     "data": {
      "text/plain": [
       "deque([1, 2, 3, 4, 5, 6, 6, 7, 1, 2])"
      ]
     },
     "execution_count": 39,
     "metadata": {},
     "output_type": "execute_result"
    }
   ],
   "source": [
    "deque2.remove(4)\n",
    "deque2"
   ]
  },
  {
   "cell_type": "code",
   "execution_count": 40,
   "id": "d781e726",
   "metadata": {},
   "outputs": [
    {
     "data": {
      "text/plain": [
       "deque([2, 1, 7, 6, 6, 5, 4, 3, 2, 1])"
      ]
     },
     "execution_count": 40,
     "metadata": {},
     "output_type": "execute_result"
    }
   ],
   "source": [
    "deque2.reverse()\n",
    "deque2"
   ]
  },
  {
   "cell_type": "code",
   "execution_count": 41,
   "id": "31eca3ea",
   "metadata": {},
   "outputs": [
    {
     "data": {
      "text/plain": [
       "2"
      ]
     },
     "execution_count": 41,
     "metadata": {},
     "output_type": "execute_result"
    }
   ],
   "source": [
    "deque2.count(6)"
   ]
  },
  {
   "cell_type": "code",
   "execution_count": 42,
   "id": "712ba8c2",
   "metadata": {},
   "outputs": [
    {
     "ename": "ValueError",
     "evalue": "6 is not in deque",
     "output_type": "error",
     "traceback": [
      "\u001b[1;31m---------------------------------------------------------------------------\u001b[0m",
      "\u001b[1;31mValueError\u001b[0m                                Traceback (most recent call last)",
      "\u001b[1;32m<ipython-input-42-01eb07a1062f>\u001b[0m in \u001b[0;36m<module>\u001b[1;34m\u001b[0m\n\u001b[1;32m----> 1\u001b[1;33m \u001b[0mdeque2\u001b[0m\u001b[1;33m.\u001b[0m\u001b[0mindex\u001b[0m\u001b[1;33m(\u001b[0m\u001b[1;36m6\u001b[0m\u001b[1;33m,\u001b[0m\u001b[1;36m5\u001b[0m\u001b[1;33m,\u001b[0m\u001b[1;36m7\u001b[0m\u001b[1;33m)\u001b[0m\u001b[1;33m\u001b[0m\u001b[1;33m\u001b[0m\u001b[0m\n\u001b[0m",
      "\u001b[1;31mValueError\u001b[0m: 6 is not in deque"
     ]
    }
   ],
   "source": [
    "deque2.index(6,5,7)"
   ]
  },
  {
   "cell_type": "code",
   "execution_count": 43,
   "id": "039e3527",
   "metadata": {},
   "outputs": [
    {
     "data": {
      "text/plain": [
       "3"
      ]
     },
     "execution_count": 43,
     "metadata": {},
     "output_type": "execute_result"
    }
   ],
   "source": [
    "deque2.index(6,2,5)"
   ]
  },
  {
   "cell_type": "code",
   "execution_count": 46,
   "id": "54ab3ac5",
   "metadata": {},
   "outputs": [
    {
     "data": {
      "text/plain": [
       "deque([2, 1, 7, 6, 6, 5, 4, 99, 9, 9, 3, 2, 1])"
      ]
     },
     "execution_count": 46,
     "metadata": {},
     "output_type": "execute_result"
    }
   ],
   "source": [
    "deque2.insert(7,99)\n",
    "deque2"
   ]
  },
  {
   "cell_type": "markdown",
   "id": "513ae00b",
   "metadata": {},
   "source": [
    "- extend(iterable) :- This function is used to add multiple values at the right end of deque. The argument passed is an iterable.\n",
    " \n",
    "- extendleft(iterable) :- This function is used to add multiple values at the left end of deque. The argument passed is an iterable. Order is reversed as a result of left appends.\n",
    " \n",
    "- reverse() :- This function is used to reverse order of deque elements.\n",
    " \n",
    "- rotate() :- This function rotates the deque by the number specified in arguments. If the number specified is negative, rotation occurs to left. Else rotation is to right.  "
   ]
  },
  {
   "cell_type": "code",
   "execution_count": 73,
   "id": "3b0fe802",
   "metadata": {},
   "outputs": [],
   "source": [
    "queue3=deque([1,2,3])"
   ]
  },
  {
   "cell_type": "code",
   "execution_count": 74,
   "id": "1cef3f9d",
   "metadata": {},
   "outputs": [
    {
     "data": {
      "text/plain": [
       "deque([1, 2, 3])"
      ]
     },
     "execution_count": 74,
     "metadata": {},
     "output_type": "execute_result"
    }
   ],
   "source": [
    "queue3"
   ]
  },
  {
   "cell_type": "code",
   "execution_count": 75,
   "id": "7b0cc37b",
   "metadata": {},
   "outputs": [],
   "source": [
    "queue3.extend([4,5,6])"
   ]
  },
  {
   "cell_type": "code",
   "execution_count": 76,
   "id": "2eb5e29a",
   "metadata": {},
   "outputs": [
    {
     "data": {
      "text/plain": [
       "deque([1, 2, 3, 4, 5, 6])"
      ]
     },
     "execution_count": 76,
     "metadata": {},
     "output_type": "execute_result"
    }
   ],
   "source": [
    "queue3"
   ]
  },
  {
   "cell_type": "code",
   "execution_count": 77,
   "id": "1cc00bc1",
   "metadata": {},
   "outputs": [
    {
     "data": {
      "text/plain": [
       "deque([0, 9, 8, 1, 2, 3, 4, 5, 6])"
      ]
     },
     "execution_count": 77,
     "metadata": {},
     "output_type": "execute_result"
    }
   ],
   "source": [
    "queue3.extendleft([8,9,0])\n",
    "queue3"
   ]
  },
  {
   "cell_type": "code",
   "execution_count": 78,
   "id": "74795854",
   "metadata": {},
   "outputs": [
    {
     "data": {
      "text/plain": [
       "deque([6, 5, 4, 3, 2, 1, 8, 9, 0])"
      ]
     },
     "execution_count": 78,
     "metadata": {},
     "output_type": "execute_result"
    }
   ],
   "source": [
    "queue3.reverse()\n",
    "queue3"
   ]
  },
  {
   "cell_type": "code",
   "execution_count": 80,
   "id": "a72088b0",
   "metadata": {},
   "outputs": [
    {
     "data": {
      "text/plain": [
       "deque([3, 2, 1, 8, 9, 0, 6, 5, 4])"
      ]
     },
     "execution_count": 80,
     "metadata": {},
     "output_type": "execute_result"
    }
   ],
   "source": [
    "queue3.rotate(3)\n",
    "queue3"
   ]
  },
  {
   "cell_type": "code",
   "execution_count": 82,
   "id": "895b11b9",
   "metadata": {},
   "outputs": [
    {
     "data": {
      "text/plain": [
       "deque([6, 5, 4, 3, 2, 1, 8, 9, 0])"
      ]
     },
     "execution_count": 82,
     "metadata": {},
     "output_type": "execute_result"
    }
   ],
   "source": [
    "queue3.rotate(-3)\n",
    "queue3"
   ]
  },
  {
   "cell_type": "code",
   "execution_count": null,
   "id": "2139655f",
   "metadata": {},
   "outputs": [],
   "source": []
  }
 ],
 "metadata": {
  "kernelspec": {
   "display_name": "Python 3",
   "language": "python",
   "name": "python3"
  },
  "language_info": {
   "codemirror_mode": {
    "name": "ipython",
    "version": 3
   },
   "file_extension": ".py",
   "mimetype": "text/x-python",
   "name": "python",
   "nbconvert_exporter": "python",
   "pygments_lexer": "ipython3",
   "version": "3.8.8"
  }
 },
 "nbformat": 4,
 "nbformat_minor": 5
}
