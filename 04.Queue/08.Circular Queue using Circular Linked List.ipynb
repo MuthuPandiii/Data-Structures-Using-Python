{
 "cells": [
  {
   "cell_type": "code",
   "execution_count": 19,
   "id": "d6e417cc",
   "metadata": {},
   "outputs": [],
   "source": [
    "class Node:\n",
    "    def __init__(self,data):\n",
    "        self.data=data\n",
    "        self.next=None\n",
    "        \n",
    "class Circular_Queue:\n",
    "    \n",
    "    def __init__(self):\n",
    "        self.front=None\n",
    "        self.rear=None\n",
    "        \n",
    "    def Enqueue(self,x):\n",
    "        \n",
    "        temp=Node(x)\n",
    "        \n",
    "        if self.rear==None:\n",
    "            self.front=self.rear=temp\n",
    "        else:\n",
    "            self.rear.next=temp\n",
    "            self.rear=temp\n",
    "        \n",
    "        print(\"\\nElement Enqueued  : \",x)\n",
    "        self.rear.next=self.front\n",
    "    \n",
    "    def Dequeue(self):\n",
    "        \n",
    "        if self.front==None:\n",
    "            print(\"\\n\\tEmpty Queue\")\n",
    "            return\n",
    "        \n",
    "        temp=self.front\n",
    "        print(\"\\nElement Dequeued : \",temp.data)\n",
    "        \n",
    "        if self.front==self.rear:\n",
    "            self.front=self.rear=None\n",
    "            return\n",
    "        \n",
    "        self.front=temp.next\n",
    "        self.rear.next=self.front\n",
    "    \n",
    "    def front_element(self):\n",
    "        if self.front:\n",
    "            print(\"\\n\\tFront Element : \",self.front.data)\n",
    "            return\n",
    "        print(\"\\n\\tQueue Underflow\")\n",
    "        \n",
    "    def rear_element(self):\n",
    "        if self.rear:\n",
    "            print(\"\\n\\tRear Element : \",self.rear.data)\n",
    "            return\n",
    "        print(\"\\n\\tQueue Underflow\")\n",
    "        "
   ]
  },
  {
   "cell_type": "code",
   "execution_count": 20,
   "id": "141a100d",
   "metadata": {},
   "outputs": [
    {
     "name": "stdout",
     "output_type": "stream",
     "text": [
      "\n",
      "Element Enqueued  :  2\n",
      "\n",
      "Element Enqueued  :  3\n",
      "\n",
      "Element Enqueued  :  4\n",
      "\n",
      "Element Dequeued :  2\n",
      "\n",
      "Element Dequeued :  3\n",
      "\n",
      "\tFront Element :  4\n",
      "\n",
      "\tRear Element :  4\n",
      "\n",
      "Element Dequeued :  4\n",
      "\n",
      "\tQueue Underflow\n",
      "\n",
      "\tQueue Underflow\n"
     ]
    }
   ],
   "source": [
    "cq=Circular_Queue()\n",
    "\n",
    "cq.Enqueue(2)\n",
    "cq.Enqueue(3)\n",
    "cq.Enqueue(4)\n",
    "\n",
    "cq.Dequeue()\n",
    "cq.Dequeue()\n",
    "\n",
    "cq.front_element()\n",
    "cq.rear_element()\n",
    "\n",
    "cq.Dequeue()\n",
    "\n",
    "cq.front_element()\n",
    "cq.rear_element()"
   ]
  },
  {
   "cell_type": "code",
   "execution_count": null,
   "id": "a5f3698f",
   "metadata": {},
   "outputs": [],
   "source": []
  }
 ],
 "metadata": {
  "kernelspec": {
   "display_name": "Python 3",
   "language": "python",
   "name": "python3"
  },
  "language_info": {
   "codemirror_mode": {
    "name": "ipython",
    "version": 3
   },
   "file_extension": ".py",
   "mimetype": "text/x-python",
   "name": "python",
   "nbconvert_exporter": "python",
   "pygments_lexer": "ipython3",
   "version": "3.8.8"
  }
 },
 "nbformat": 4,
 "nbformat_minor": 5
}
