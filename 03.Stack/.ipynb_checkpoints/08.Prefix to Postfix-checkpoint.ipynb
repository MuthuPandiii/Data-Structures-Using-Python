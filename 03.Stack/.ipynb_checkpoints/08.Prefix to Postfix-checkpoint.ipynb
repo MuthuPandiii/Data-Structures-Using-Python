{
 "cells": [
  {
   "cell_type": "markdown",
   "id": "fc6e9243",
   "metadata": {},
   "source": [
    "## Prefix to  Postfix"
   ]
  },
  {
   "cell_type": "markdown",
   "id": "901e392a",
   "metadata": {},
   "source": [
    "**exp=a+b+operator**"
   ]
  },
  {
   "cell_type": "code",
   "execution_count": 13,
   "id": "8c8c093c",
   "metadata": {},
   "outputs": [],
   "source": [
    "def is_Operand(i):\n",
    "    return i.isalnum()\n",
    "\n",
    "def Prefix_to_Postfix(exp):\n",
    "    stack=[]\n",
    "    i=len(exp)-1\n",
    "    \n",
    "    while i>=0:\n",
    "        if is_Operand(exp[i]):\n",
    "            stack.append(exp[i])\n",
    "            i-=1\n",
    "        else:\n",
    "            a=stack.pop()\n",
    "            b=stack.pop()\n",
    "            str= a + b + exp[i]\n",
    "            stack.append(str)\n",
    "            i-=1\n",
    "    \n",
    "    print(\"Prefix:\\t\",exp,\"\\nPostfix:\",end=\" \")\n",
    "    print(\"\".join(stack))"
   ]
  },
  {
   "cell_type": "code",
   "execution_count": 14,
   "id": "9ee894bf",
   "metadata": {},
   "outputs": [
    {
     "name": "stdout",
     "output_type": "stream",
     "text": [
      "Prefix:\t *-A/BC-/AKL \n",
      "Postfix: ABC/-AK/L-*\n"
     ]
    }
   ],
   "source": [
    "Prefix=\"*-A/BC-/AKL\"\n",
    "\n",
    "Prefix_to_Postfix(Prefix)"
   ]
  },
  {
   "cell_type": "code",
   "execution_count": null,
   "id": "eb010c57",
   "metadata": {},
   "outputs": [],
   "source": []
  },
  {
   "cell_type": "code",
   "execution_count": null,
   "id": "d91d78e0",
   "metadata": {},
   "outputs": [],
   "source": []
  }
 ],
 "metadata": {
  "kernelspec": {
   "display_name": "Python 3",
   "language": "python",
   "name": "python3"
  },
  "language_info": {
   "codemirror_mode": {
    "name": "ipython",
    "version": 3
   },
   "file_extension": ".py",
   "mimetype": "text/x-python",
   "name": "python",
   "nbconvert_exporter": "python",
   "pygments_lexer": "ipython3",
   "version": "3.8.8"
  }
 },
 "nbformat": 4,
 "nbformat_minor": 5
}
