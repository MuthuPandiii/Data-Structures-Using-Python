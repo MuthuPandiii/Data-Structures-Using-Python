{
 "cells": [
  {
   "cell_type": "code",
   "execution_count": 4,
   "id": "7ba4e940",
   "metadata": {},
   "outputs": [],
   "source": [
    "def is_Operand(x):\n",
    "    return x.isalpha()\n",
    "\n",
    "def Postfix_to_Infix(exp):\n",
    "    stack=[]\n",
    "    n=len(exp)-1\n",
    "    i=0\n",
    "    while i<=n:\n",
    "        if is_Operand(exp[i]):\n",
    "            stack.append(exp[i])\n",
    "            i+=1\n",
    "        else:\n",
    "            a=stack.pop()\n",
    "            b=stack.pop()\n",
    "            str=\"(\" + b + exp[i] + a + \")\"\n",
    "            stack.append(str)\n",
    "            i+=1\n",
    "\n",
    "    print(\"\".join(stack))\n",
    "            \n",
    "        \n",
    "            \n",
    "        "
   ]
  },
  {
   "cell_type": "code",
   "execution_count": 5,
   "id": "3778400f",
   "metadata": {},
   "outputs": [
    {
     "name": "stdout",
     "output_type": "stream",
     "text": [
      "((a*b)+c)\n"
     ]
    }
   ],
   "source": [
    "exp=\"ab*c+\"\n",
    "Postfix_to_Infix(exp)"
   ]
  },
  {
   "cell_type": "code",
   "execution_count": null,
   "id": "43a420fe",
   "metadata": {},
   "outputs": [],
   "source": []
  }
 ],
 "metadata": {
  "kernelspec": {
   "display_name": "Python 3",
   "language": "python",
   "name": "python3"
  },
  "language_info": {
   "codemirror_mode": {
    "name": "ipython",
    "version": 3
   },
   "file_extension": ".py",
   "mimetype": "text/x-python",
   "name": "python",
   "nbconvert_exporter": "python",
   "pygments_lexer": "ipython3",
   "version": "3.8.8"
  }
 },
 "nbformat": 4,
 "nbformat_minor": 5
}
