{
 "cells": [
  {
   "cell_type": "code",
   "execution_count": 17,
   "id": "f80d8faf",
   "metadata": {},
   "outputs": [
    {
     "name": "stdout",
     "output_type": "stream",
     "text": [
      "7 9 8 \n",
      "Size: 3\n",
      "\n",
      "\n",
      "9 8 \n",
      "Size: 2\n",
      "\n",
      " Is  Empty: False\n"
     ]
    },
    {
     "ename": "Exception",
     "evalue": "\nNothing to print",
     "output_type": "error",
     "traceback": [
      "\u001b[1;31m---------------------------------------------------------------------------\u001b[0m",
      "\u001b[1;31mException\u001b[0m                                 Traceback (most recent call last)",
      "\u001b[1;32m<ipython-input-17-84457832e5f5>\u001b[0m in \u001b[0;36m<module>\u001b[1;34m\u001b[0m\n\u001b[0;32m     56\u001b[0m \u001b[0mS\u001b[0m\u001b[1;33m.\u001b[0m\u001b[0mpop\u001b[0m\u001b[1;33m(\u001b[0m\u001b[1;33m)\u001b[0m\u001b[1;33m\u001b[0m\u001b[1;33m\u001b[0m\u001b[0m\n\u001b[0;32m     57\u001b[0m \u001b[0mS\u001b[0m\u001b[1;33m.\u001b[0m\u001b[0mpop\u001b[0m\u001b[1;33m(\u001b[0m\u001b[1;33m)\u001b[0m\u001b[1;33m\u001b[0m\u001b[1;33m\u001b[0m\u001b[0m\n\u001b[1;32m---> 58\u001b[1;33m \u001b[0mS\u001b[0m\u001b[1;33m.\u001b[0m\u001b[0mprint_stack\u001b[0m\u001b[1;33m(\u001b[0m\u001b[1;33m)\u001b[0m\u001b[1;33m\u001b[0m\u001b[1;33m\u001b[0m\u001b[0m\n\u001b[0m",
      "\u001b[1;32m<ipython-input-17-84457832e5f5>\u001b[0m in \u001b[0;36mprint_stack\u001b[1;34m(self)\u001b[0m\n\u001b[0;32m     34\u001b[0m     \u001b[1;32mdef\u001b[0m \u001b[0mprint_stack\u001b[0m\u001b[1;33m(\u001b[0m\u001b[0mself\u001b[0m\u001b[1;33m)\u001b[0m\u001b[1;33m:\u001b[0m\u001b[1;33m\u001b[0m\u001b[1;33m\u001b[0m\u001b[0m\n\u001b[0;32m     35\u001b[0m         \u001b[1;32mif\u001b[0m \u001b[0mself\u001b[0m\u001b[1;33m.\u001b[0m\u001b[0mIsEmpty\u001b[0m\u001b[1;33m(\u001b[0m\u001b[1;33m)\u001b[0m\u001b[1;33m:\u001b[0m\u001b[1;33m\u001b[0m\u001b[1;33m\u001b[0m\u001b[0m\n\u001b[1;32m---> 36\u001b[1;33m             \u001b[1;32mraise\u001b[0m \u001b[0mException\u001b[0m\u001b[1;33m(\u001b[0m\u001b[1;34m\"\\nNothing to print\"\u001b[0m\u001b[1;33m)\u001b[0m\u001b[1;33m\u001b[0m\u001b[1;33m\u001b[0m\u001b[0m\n\u001b[0m\u001b[0;32m     37\u001b[0m         \u001b[0mtemp\u001b[0m\u001b[1;33m=\u001b[0m\u001b[0mself\u001b[0m\u001b[1;33m.\u001b[0m\u001b[0mhead\u001b[0m\u001b[1;33m.\u001b[0m\u001b[0mnext\u001b[0m\u001b[1;33m\u001b[0m\u001b[1;33m\u001b[0m\u001b[0m\n\u001b[0;32m     38\u001b[0m         \u001b[1;32mwhile\u001b[0m \u001b[0mtemp\u001b[0m\u001b[1;33m:\u001b[0m\u001b[1;33m\u001b[0m\u001b[1;33m\u001b[0m\u001b[0m\n",
      "\u001b[1;31mException\u001b[0m: \nNothing to print"
     ]
    }
   ],
   "source": [
    "class Node:\n",
    "    def __init__(self,data):\n",
    "        self.data=data\n",
    "        self.next=None\n",
    "\n",
    "class Stack:\n",
    "    \n",
    "    def __init__(self):\n",
    "        self.head=Node(\"Head\")\n",
    "        self.size=0\n",
    "        \n",
    "    def size(self):\n",
    "        return self.size\n",
    "    \n",
    "    def IsEmpty(self):\n",
    "        return self.size==0\n",
    "    \n",
    "    def push(self,new_data):\n",
    "        new_node=Node(new_data)\n",
    "        \n",
    "        new_node.next=self.head.next\n",
    "        self.head.next=new_node\n",
    "        \n",
    "        self.size+=1\n",
    "    \n",
    "    def pop(self):\n",
    "        if self.IsEmpty():\n",
    "            raise Exception(\"\\nCan't pop from an empty Stack\")\n",
    "        temp=self.head.next\n",
    "        self.head.next=temp.next\n",
    "        self.size-=1\n",
    "    \n",
    "        \n",
    "    def print_stack(self):\n",
    "        if self.IsEmpty():\n",
    "            raise Exception(\"\\nNothing to print\")\n",
    "        temp=self.head.next\n",
    "        while temp:\n",
    "            print(temp.data,end=\" \")\n",
    "            temp=temp.next\n",
    "            \n",
    "\n",
    "S=Stack()\n",
    "S.push(8)\n",
    "S.push(9)\n",
    "S.push(7)\n",
    "S.print_stack()\n",
    "print(\"\\nSize:\",S.size)\n",
    "S.pop()\n",
    "print(\"\\n\")\n",
    "S.print_stack()\n",
    "print(\"\\nSize:\",S.size)\n",
    "\n",
    "print(\"\\n Is  Empty:\",S.IsEmpty())\n",
    "\n",
    "S.pop()\n",
    "S.pop()\n",
    "S.print_stack()"
   ]
  },
  {
   "cell_type": "code",
   "execution_count": null,
   "id": "cb3436af",
   "metadata": {},
   "outputs": [],
   "source": []
  }
 ],
 "metadata": {
  "kernelspec": {
   "display_name": "Python 3",
   "language": "python",
   "name": "python3"
  },
  "language_info": {
   "codemirror_mode": {
    "name": "ipython",
    "version": 3
   },
   "file_extension": ".py",
   "mimetype": "text/x-python",
   "name": "python",
   "nbconvert_exporter": "python",
   "pygments_lexer": "ipython3",
   "version": "3.8.8"
  }
 },
 "nbformat": 4,
 "nbformat_minor": 5
}
