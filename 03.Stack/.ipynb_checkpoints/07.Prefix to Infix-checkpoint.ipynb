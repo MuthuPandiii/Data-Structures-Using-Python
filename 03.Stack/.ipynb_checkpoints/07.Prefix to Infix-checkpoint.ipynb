{
 "cells": [
  {
   "cell_type": "code",
   "execution_count": 20,
   "id": "5a9b3e91",
   "metadata": {},
   "outputs": [],
   "source": [
    "class Conversion:\n",
    "    def __init__(self):\n",
    "        self.stack=[]\n",
    "        \n",
    "        \n",
    "    def is_Operand(self,i):\n",
    "        return i.isalpha()\n",
    "    \n",
    "    def Prefix_to_Infix(self,exp):\n",
    "        i=len(exp)-1\n",
    "        while i>=0:\n",
    "            if self.is_Operand(exp[i]):\n",
    "                self.stack.append(exp[i])\n",
    "                i-=1\n",
    "            else:\n",
    "                a=self.stack.pop()\n",
    "                b=self.stack.pop()\n",
    "                str=\"(\"  +  a + exp[i] +  b +\")\"\n",
    "                self.stack.append(str)\n",
    "                i-=1\n",
    "        print(\"\".join(self.stack))\n",
    "        \n",
    "            "
   ]
  },
  {
   "cell_type": "code",
   "execution_count": 21,
   "id": "050148ab",
   "metadata": {},
   "outputs": [],
   "source": [
    "prefix_to_infix=Conversion()"
   ]
  },
  {
   "cell_type": "code",
   "execution_count": 22,
   "id": "2e9c0db6",
   "metadata": {},
   "outputs": [],
   "source": [
    "exp=\"*A/BC-/AKL\""
   ]
  },
  {
   "cell_type": "code",
   "execution_count": 23,
   "id": "af09e0aa",
   "metadata": {},
   "outputs": [
    {
     "name": "stdout",
     "output_type": "stream",
     "text": [
      "((A/K)-L)(A*(B/C))\n"
     ]
    }
   ],
   "source": [
    "prefix_to_infix.Prefix_to_Infix(exp)"
   ]
  },
  {
   "cell_type": "code",
   "execution_count": null,
   "id": "6d0da2e1",
   "metadata": {},
   "outputs": [],
   "source": []
  }
 ],
 "metadata": {
  "kernelspec": {
   "display_name": "Python 3",
   "language": "python",
   "name": "python3"
  },
  "language_info": {
   "codemirror_mode": {
    "name": "ipython",
    "version": 3
   },
   "file_extension": ".py",
   "mimetype": "text/x-python",
   "name": "python",
   "nbconvert_exporter": "python",
   "pygments_lexer": "ipython3",
   "version": "3.8.8"
  }
 },
 "nbformat": 4,
 "nbformat_minor": 5
}
