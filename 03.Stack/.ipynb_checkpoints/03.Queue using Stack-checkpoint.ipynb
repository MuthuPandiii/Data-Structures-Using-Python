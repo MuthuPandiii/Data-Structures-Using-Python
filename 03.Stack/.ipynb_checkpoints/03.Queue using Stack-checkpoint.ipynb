{
 "cells": [
  {
   "cell_type": "markdown",
   "id": "2bd54b42",
   "metadata": {},
   "source": [
    "##  Method 1"
   ]
  },
  {
   "cell_type": "markdown",
   "id": "d9769247",
   "metadata": {},
   "source": [
    "**enQueue(q, x):**\n",
    "\n",
    "- While stack1 is not empty, push everything from stack1 to stack2.\n",
    "- Push x to stack1 (assuming size of stacks is unlimited).\n",
    "- Push everything back to stack1.\n",
    "- Here time complexity will be O(n\n",
    "\n",
    "**deQueue(q):** \n",
    "\n",
    "- If stack1 is empty then error\n",
    "- Pop an item from stack1 and return it\n",
    "- Here time complexity will be O(1)"
   ]
  },
  {
   "cell_type": "code",
   "execution_count": 34,
   "id": "a06b6735",
   "metadata": {},
   "outputs": [],
   "source": [
    "class Queue:\n",
    "    def __init__(self):\n",
    "        self.s1=[]\n",
    "        self.s2=[]\n",
    "    \n",
    "    def Enque(self,x):\n",
    "        if len(self.s1)==0:\n",
    "            self.s1.append(x)\n",
    "            return\n",
    "        while self.s1:\n",
    "            s=self.s1.pop()\n",
    "            self.s2.append(s)\n",
    "        self.s1.append(x)\n",
    "        while self.s2:\n",
    "            s=self.s2.pop()\n",
    "            self.s1.append(s)\n",
    "    \n",
    "    def Deque(self):\n",
    "        if len(self.s1)==0:\n",
    "            return\n",
    "        x=self.s1.pop()\n",
    "        return x       "
   ]
  },
  {
   "cell_type": "code",
   "execution_count": 35,
   "id": "e7715050",
   "metadata": {},
   "outputs": [
    {
     "name": "stdout",
     "output_type": "stream",
     "text": [
      "3\n",
      "4\n",
      "9\n",
      "None\n"
     ]
    }
   ],
   "source": [
    "S=Queue()\n",
    "\n",
    "S.Enque(3)\n",
    "S.Enque(4)\n",
    "S.Enque(9)\n",
    "\n",
    "print(S.Deque())\n",
    "print(S.Deque())\n",
    "print(S.Deque())\n",
    "print(S.Deque())"
   ]
  },
  {
   "cell_type": "code",
   "execution_count": null,
   "id": "a87ce369",
   "metadata": {},
   "outputs": [],
   "source": []
  },
  {
   "cell_type": "markdown",
   "id": "7103104a",
   "metadata": {},
   "source": [
    "## Method 2"
   ]
  },
  {
   "cell_type": "markdown",
   "id": "fab2effe",
   "metadata": {},
   "source": [
    "**enQueue(q,  x)**\n",
    "- Push x to stack1 (assuming size of stacks is unlimited).\n",
    "- Here time complexity will be O(1)\n",
    "\n",
    "**deQueue(q)**\n",
    "- If both stacks are empty then error.\n",
    "- If stack2 is empty\n",
    "- While stack1 is not empty, push everything from stack1 to stack2.\n",
    "- Pop the element from stack2 and return it.\n",
    "- Here time complexity will be O(n)"
   ]
  },
  {
   "cell_type": "code",
   "execution_count": 40,
   "id": "64e5d8d7",
   "metadata": {},
   "outputs": [],
   "source": [
    "class Queue:\n",
    "    def __init__(self):\n",
    "        self.s1=[]\n",
    "        self.s2=[]\n",
    "    \n",
    "    def Enque(self,x):\n",
    "        self.s1.append(x)\n",
    "    \n",
    "    def Deque(self):\n",
    "        \n",
    "        if len(self.s1)==0:\n",
    "            return\n",
    "        \n",
    "        while self.s1:\n",
    "            self.s2.append(self.s1[-1])\n",
    "            self.s1.pop()\n",
    "        \n",
    "        x=self.s2.pop()\n",
    "        \n",
    "        while self.s2:\n",
    "            self.s1.append(self.s2[-1])\n",
    "            self.s2.pop()\n",
    "        \n",
    "        return x\n",
    "        \n",
    "        \n",
    "        "
   ]
  },
  {
   "cell_type": "code",
   "execution_count": 43,
   "id": "3b0c6d13",
   "metadata": {},
   "outputs": [
    {
     "name": "stdout",
     "output_type": "stream",
     "text": [
      "3\n",
      "4\n",
      "5\n"
     ]
    }
   ],
   "source": [
    "S=Queue()\n",
    "S.Enque(3)\n",
    "S.Enque(4)\n",
    "S.Enque(5)\n",
    "\n",
    "print(S.Deque())\n",
    "print(S.Deque())\n",
    "print(S.Deque())"
   ]
  },
  {
   "cell_type": "code",
   "execution_count": null,
   "id": "258ff215",
   "metadata": {},
   "outputs": [],
   "source": []
  }
 ],
 "metadata": {
  "kernelspec": {
   "display_name": "Python 3",
   "language": "python",
   "name": "python3"
  },
  "language_info": {
   "codemirror_mode": {
    "name": "ipython",
    "version": 3
   },
   "file_extension": ".py",
   "mimetype": "text/x-python",
   "name": "python",
   "nbconvert_exporter": "python",
   "pygments_lexer": "ipython3",
   "version": "3.8.8"
  }
 },
 "nbformat": 4,
 "nbformat_minor": 5
}
