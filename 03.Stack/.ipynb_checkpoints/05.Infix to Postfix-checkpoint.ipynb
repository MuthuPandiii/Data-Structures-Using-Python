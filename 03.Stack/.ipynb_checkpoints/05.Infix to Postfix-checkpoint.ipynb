{
 "cells": [
  {
   "cell_type": "markdown",
   "id": "3b417d69",
   "metadata": {},
   "source": [
    "## Infix to Postfix"
   ]
  },
  {
   "cell_type": "markdown",
   "id": "50041fcc",
   "metadata": {},
   "source": [
    "-  Check if it is a operator.If  yes then push it in the output.    \n",
    "-  If it is a opeartor check if it is greater than the top one in the stack.If yes then push it in the output else pop all the opeartors in  the stack and push the incoming operator."
   ]
  },
  {
   "cell_type": "code",
   "execution_count": 3,
   "id": "55d6db56",
   "metadata": {},
   "outputs": [],
   "source": [
    "class Conversion:\n",
    "    def __init__(self):\n",
    "        self.top=-1\n",
    "        self.array=[]\n",
    "        self.postfix=[]\n",
    "        self.precedence={\"+\":1,\"-\":1,\"*\":2,\"/\":2,\"^\":3}\n",
    "        \n",
    "    def isEmpty(self):\n",
    "        return self.top==-1\n",
    "    \n",
    "    def peek(self):\n",
    "        return self.array[-1]\n",
    "    \n",
    "    def push(self,x):\n",
    "        self.top+=1\n",
    "        self.array.append(x)\n",
    "    \n",
    "    def pop(self):\n",
    "        if not self.isEmpty():\n",
    "            self.top-=1\n",
    "            return self.array.pop()\n",
    "        \n",
    "    def is_Operand(self,op):\n",
    "        return op.isalpha()\n",
    "    \n",
    "    def not_Greater(self,i):\n",
    "        try:\n",
    "            a=self.precedence[i]\n",
    "            b=self.precedence[self.peek()]\n",
    "            return a<=b \n",
    "        except KeyError:\n",
    "            return False\n",
    "        \n",
    "    def Infix_to_Postfix(self,exp):\n",
    "        for i in exp:\n",
    "            if self.is_Operand(i):\n",
    "                self.postfix.append(i)\n",
    "                \n",
    "            elif i==\"(\":\n",
    "                self.push(i)\n",
    "            \n",
    "            elif i==\")\":\n",
    "                while((not self.isEmpty()) and self.peek()!=\"(\"):\n",
    "                    a=self.pop()\n",
    "                    self.postfix.append(a)\n",
    "#                 if(not self.isEmpty() and self.peek()!='('):\n",
    "#                     return -1\n",
    "    \n",
    "                self.pop()\n",
    "            \n",
    "            else:\n",
    "                while(not self.isEmpty() and self.not_Greater(i)):\n",
    "                    self.postfix.append(self.pop())\n",
    "                self.push(i)\n",
    "        while not self.isEmpty():\n",
    "            self.postfix.append(self.pop())\n",
    "        \n",
    "        print(\"\".join(self.postfix))\n",
    "                    \n",
    "            \n",
    "                \n",
    "            "
   ]
  },
  {
   "cell_type": "code",
   "execution_count": 59,
   "id": "7258afd8",
   "metadata": {},
   "outputs": [],
   "source": [
    "exp=\"a+b*(c^d-e)^(f+g*h)-i\"\n",
    "infix_to_postfix=Conversion()"
   ]
  },
  {
   "cell_type": "code",
   "execution_count": 60,
   "id": "7f24cc6e",
   "metadata": {},
   "outputs": [
    {
     "name": "stdout",
     "output_type": "stream",
     "text": [
      "abcd^e-fgh*+^*+i-\n"
     ]
    }
   ],
   "source": [
    "infix_to_postfix.Infix_to_Postfix(exp)"
   ]
  },
  {
   "cell_type": "code",
   "execution_count": 5,
   "id": "6b602955",
   "metadata": {},
   "outputs": [
    {
     "name": "stdout",
     "output_type": "stream",
     "text": [
      "((a+b)*(c-d))/d \n",
      "\n",
      "ab+cd-*d/\n"
     ]
    }
   ],
   "source": [
    "infix_to_postfix=Conversion()\n",
    "exp1=\"((a+b)*(c-d))/d\"\n",
    "print(exp1,\"\\n\")\n",
    "infix_to_postfix.Infix_to_Postfix(exp1)"
   ]
  },
  {
   "cell_type": "code",
   "execution_count": null,
   "id": "770fa18d",
   "metadata": {},
   "outputs": [],
   "source": []
  }
 ],
 "metadata": {
  "kernelspec": {
   "display_name": "Python 3",
   "language": "python",
   "name": "python3"
  },
  "language_info": {
   "codemirror_mode": {
    "name": "ipython",
    "version": 3
   },
   "file_extension": ".py",
   "mimetype": "text/x-python",
   "name": "python",
   "nbconvert_exporter": "python",
   "pygments_lexer": "ipython3",
   "version": "3.8.8"
  }
 },
 "nbformat": 4,
 "nbformat_minor": 5
}
