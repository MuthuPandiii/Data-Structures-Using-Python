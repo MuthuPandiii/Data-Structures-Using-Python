{
 "cells": [
  {
   "cell_type": "markdown",
   "id": "a87e58ab",
   "metadata": {},
   "source": [
    "## Postfix to Prefix"
   ]
  },
  {
   "cell_type": "markdown",
   "id": "f673ccfa",
   "metadata": {},
   "source": [
    "**exp=operator+b+a**"
   ]
  },
  {
   "cell_type": "code",
   "execution_count": 11,
   "id": "5a9dfe81",
   "metadata": {},
   "outputs": [],
   "source": [
    "def is_Operand(i):\n",
    "    return i.isalnum()\n",
    "\n",
    "def Postfix_to_Prefix(exp):\n",
    "    stack=[]\n",
    "    for i in exp:\n",
    "        if is_Operand(i):\n",
    "            stack.append(i)\n",
    "        else:\n",
    "            a=stack.pop()\n",
    "            b=stack.pop()\n",
    "            str=i + b + a\n",
    "            stack.append(str)\n",
    "    \n",
    "    print(\"Postfix:\",exp,\"\\nPrefix :\",end=\" \")\n",
    "    print(\"\".join(stack))"
   ]
  },
  {
   "cell_type": "code",
   "execution_count": 12,
   "id": "99007fd7",
   "metadata": {},
   "outputs": [
    {
     "name": "stdout",
     "output_type": "stream",
     "text": [
      "Postfix: AB+CD- \n",
      "Prefix : +AB-CD\n"
     ]
    }
   ],
   "source": [
    "exp=\"AB+CD-\"\n",
    "Postfix_to_Prefix(exp)"
   ]
  },
  {
   "cell_type": "code",
   "execution_count": null,
   "id": "c7cf3545",
   "metadata": {},
   "outputs": [],
   "source": []
  }
 ],
 "metadata": {
  "kernelspec": {
   "display_name": "Python 3",
   "language": "python",
   "name": "python3"
  },
  "language_info": {
   "codemirror_mode": {
    "name": "ipython",
    "version": 3
   },
   "file_extension": ".py",
   "mimetype": "text/x-python",
   "name": "python",
   "nbconvert_exporter": "python",
   "pygments_lexer": "ipython3",
   "version": "3.8.8"
  }
 },
 "nbformat": 4,
 "nbformat_minor": 5
}
