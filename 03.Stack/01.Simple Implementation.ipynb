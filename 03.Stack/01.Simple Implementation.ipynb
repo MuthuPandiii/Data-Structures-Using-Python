{
 "cells": [
  {
   "cell_type": "markdown",
   "id": "1dd9e779",
   "metadata": {},
   "source": [
    "**Implementation\n",
    "There are various ways from which a stack can be implemented in Python. This article covers the implementation of a stack using data structures and modules from the Python library. \n",
    "Stack in Python can be implemented using the following ways:**\n",
    "\n",
    "- list\n",
    "- Collections.deque\n",
    "- queue.LifoQueue"
   ]
  },
  {
   "cell_type": "markdown",
   "id": "cb6894d8",
   "metadata": {},
   "source": [
    "### Using List"
   ]
  },
  {
   "cell_type": "code",
   "execution_count": 3,
   "id": "c8cf0a51",
   "metadata": {},
   "outputs": [
    {
     "name": "stdout",
     "output_type": "stream",
     "text": [
      "['a', 'b', 'c']\n",
      "['a', 'b']\n"
     ]
    }
   ],
   "source": [
    "stack=[]\n",
    "\n",
    "stack.append(\"a\")\n",
    "\n",
    "stack.append(\"b\")\n",
    "\n",
    "stack.append(\"c\")\n",
    "\n",
    "print(stack)\n",
    "\n",
    "stack.pop()\n",
    "\n",
    "print(stack)\n"
   ]
  },
  {
   "cell_type": "markdown",
   "id": "f6256bb4",
   "metadata": {},
   "source": [
    "## Implementation using collections.deque:\n",
    "\n",
    "**Python stack can be implemented using the deque class from the collections module. Deque is preferred over the list in the cases where we need quicker append and pop operations from both the ends of the container, as deque provides an O(1) time complexity for append and pop operations as compared to list which provides O(n) time complexity.**\n",
    "\n",
    "The same methods on deque as seen in the list are used, append() and pop()."
   ]
  },
  {
   "cell_type": "code",
   "execution_count": 7,
   "id": "0a29c7cc",
   "metadata": {},
   "outputs": [
    {
     "name": "stdout",
     "output_type": "stream",
     "text": [
      "deque(['A', 'B', 'C'])\n",
      "\n",
      "\n",
      "C\n",
      "B\n",
      "A\n",
      "\n",
      "\n",
      "deque([])\n"
     ]
    }
   ],
   "source": [
    "from collections import deque\n",
    "\n",
    "stack=deque()\n",
    "\n",
    "stack.append(\"A\")\n",
    "stack.append(\"B\")\n",
    "stack.append(\"C\")\n",
    "\n",
    "print(stack)\n",
    "\n",
    "print(\"\\n\")\n",
    "\n",
    "print(stack.pop())\n",
    "print(stack.pop())\n",
    "print(stack.pop())\n",
    "\n",
    "print(\"\\n\")\n",
    "print(stack)"
   ]
  },
  {
   "cell_type": "markdown",
   "id": "890c6a95",
   "metadata": {},
   "source": [
    "## Implementation using queue module\n",
    "\n",
    "**Queue module also has a LIFO Queue, which is basically a Stack. Data is inserted into Queue using the put() function and get() takes data out from the Queue.**\n",
    "\n",
    "There are various functions available in this module: \n",
    "\n",
    "- maxsize – Number of items allowed in the queue.\n",
    "\n",
    "- empty() – Return True if the queue is empty, False otherwise.\n",
    "\n",
    "- full() – Return True if there are maxsize items in the queue. If the queue was initialized with maxsize=0 (the default), then full() never returns True.\n",
    "\n",
    "- get() – Remove and return an item from the queue. If the queue is empty, wait until an item is available.\n",
    "\n",
    "- get_nowait() – Return an item if one is immediately available, else raise QueueEmpty.\n",
    "\n",
    "- put(item) – Put an item into the queue. If the queue is full, wait until a free slot is available before adding the item.\n",
    "\n",
    "- put_nowait(item) – Put an item into the queue without blocking.\n",
    "\n",
    "-  qsize() – Return the number of items in the queue. If no free slot is immediately available, raise QueueFull."
   ]
  },
  {
   "cell_type": "code",
   "execution_count": 1,
   "id": "e1c8b676",
   "metadata": {},
   "outputs": [],
   "source": [
    "from queue import LifoQueue"
   ]
  },
  {
   "cell_type": "code",
   "execution_count": 2,
   "id": "c73ef4bd",
   "metadata": {},
   "outputs": [],
   "source": [
    "stack=LifoQueue()\n",
    "\n",
    "stack.put(\"a\")\n",
    "stack.put(\"b\")\n",
    "stack.put(\"c\")\n",
    "\n",
    "print(stack)\n",
    "\n",
    "print(stack.get())"
   ]
  },
  {
   "cell_type": "code",
   "execution_count": 8,
   "id": "52d4ab93",
   "metadata": {},
   "outputs": [
    {
     "name": "stdout",
     "output_type": "stream",
     "text": [
      "\n",
      "Is full: False\n",
      "\n",
      "Is empty: False\n",
      "\n",
      "Size:\t 3\n"
     ]
    }
   ],
   "source": [
    "stack=LifoQueue(maxsize=4)\n",
    "\n",
    "stack.put(\"a\")\n",
    "stack.put(\"b\")\n",
    "stack.put(\"c\")\n",
    "?\n",
    "\n",
    "print(\"\\nIs full:\",stack.full())\n",
    "print(\"\\nIs empty:\",stack.empty())\n",
    "print(\"\\nSize:\\t\",stack.qsize())\n",
    "\n"
   ]
  },
  {
   "cell_type": "code",
   "execution_count": null,
   "id": "377f379d",
   "metadata": {},
   "outputs": [],
   "source": []
  }
 ],
 "metadata": {
  "kernelspec": {
   "display_name": "Python 3",
   "language": "python",
   "name": "python3"
  },
  "language_info": {
   "codemirror_mode": {
    "name": "ipython",
    "version": 3
   },
   "file_extension": ".py",
   "mimetype": "text/x-python",
   "name": "python",
   "nbconvert_exporter": "python",
   "pygments_lexer": "ipython3",
   "version": "3.8.8"
  }
 },
 "nbformat": 4,
 "nbformat_minor": 5
}
