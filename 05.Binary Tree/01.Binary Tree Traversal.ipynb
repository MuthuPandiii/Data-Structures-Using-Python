{
 "cells": [
  {
   "cell_type": "markdown",
   "id": "f7433723",
   "metadata": {},
   "source": [
    "# Simple Implementation"
   ]
  },
  {
   "cell_type": "code",
   "execution_count": 21,
   "id": "ff9e1170",
   "metadata": {},
   "outputs": [],
   "source": [
    "class Node:\n",
    "    def __init__(self,key):\n",
    "        self.left=None\n",
    "        self.right=None\n",
    "        self.value=key"
   ]
  },
  {
   "cell_type": "code",
   "execution_count": 22,
   "id": "3ed87038",
   "metadata": {},
   "outputs": [],
   "source": [
    "root=Node(1)"
   ]
  },
  {
   "cell_type": "code",
   "execution_count": 23,
   "id": "9d212ccd",
   "metadata": {},
   "outputs": [],
   "source": [
    "root.left=Node(2)"
   ]
  },
  {
   "cell_type": "code",
   "execution_count": 24,
   "id": "0fa3c73c",
   "metadata": {},
   "outputs": [],
   "source": [
    "root.right=Node(3)"
   ]
  },
  {
   "cell_type": "markdown",
   "id": "fb838130",
   "metadata": {},
   "source": [
    "## TRAVERSAL"
   ]
  },
  {
   "cell_type": "markdown",
   "id": "86ebb6f9",
   "metadata": {},
   "source": [
    "* PreOrder  Traversal\n",
    "* InOrder   Traversal\n",
    "* PostOrder Traversal"
   ]
  },
  {
   "cell_type": "markdown",
   "id": "81ede814",
   "metadata": {},
   "source": [
    "## **PreOrder Traversal**"
   ]
  },
  {
   "cell_type": "markdown",
   "id": "46fb3dcf-ff07-4257-8506-253a2dd7778d",
   "metadata": {},
   "source": [
    " "
   ]
  },
  {
   "cell_type": "markdown",
   "id": "1e5e456e",
   "metadata": {},
   "source": [
    "# Root>>left>>Right"
   ]
  },
  {
   "cell_type": "code",
   "execution_count": 25,
   "id": "75cf002e",
   "metadata": {},
   "outputs": [],
   "source": [
    "def PreOrder_Traversal(root):\n",
    "    if root==None:\n",
    "        return\n",
    "    print(root.value,end=\"  \")\n",
    "    PreOrder_Traversal(root.left)\n",
    "    PreOrder_Traversal(root.right)"
   ]
  },
  {
   "cell_type": "code",
   "execution_count": 26,
   "id": "221ffb63",
   "metadata": {},
   "outputs": [
    {
     "name": "stdout",
     "output_type": "stream",
     "text": [
      "1  2  3  "
     ]
    }
   ],
   "source": [
    "PreOrder_Traversal(root)"
   ]
  },
  {
   "cell_type": "markdown",
   "id": "6f1ee4da-2dcd-48b0-a809-a5e15a72cf92",
   "metadata": {},
   "source": [
    "# Inorder Traversal "
   ]
  },
  {
   "cell_type": "code",
   "execution_count": 27,
   "id": "ae27c8b0",
   "metadata": {},
   "outputs": [],
   "source": [
    "def InOrder_Traversal(root):\n",
    "    if root==None:\n",
    "        return\n",
    "    InOrder_Traversal(root.left)\n",
    "    print(root.value,end=\"  \")\n",
    "    InOrder_Traversal(root.right)"
   ]
  },
  {
   "cell_type": "code",
   "execution_count": 28,
   "id": "a85b5884",
   "metadata": {},
   "outputs": [
    {
     "name": "stdout",
     "output_type": "stream",
     "text": [
      "2  1  3  "
     ]
    }
   ],
   "source": [
    "InOrder_Traversal(root)"
   ]
  },
  {
   "cell_type": "markdown",
   "id": "9c4b6052-8d6d-4103-88f9-14ffe3f877e2",
   "metadata": {},
   "source": [
    "# PostOrder Traversal"
   ]
  },
  {
   "cell_type": "code",
   "execution_count": 29,
   "id": "728285c1",
   "metadata": {},
   "outputs": [],
   "source": [
    "def PostOrder_Traversal(root):\n",
    "    if root==None:\n",
    "        return\n",
    "    PostOrder_Traversal(root.left)\n",
    "    PostOrder_Traversal(root.right)\n",
    "    print(root.value,end=\"  \")"
   ]
  },
  {
   "cell_type": "code",
   "execution_count": 30,
   "id": "6d9ff49b",
   "metadata": {},
   "outputs": [
    {
     "name": "stdout",
     "output_type": "stream",
     "text": [
      "2  3  1  "
     ]
    }
   ],
   "source": [
    "PostOrder_Traversal(root)"
   ]
  },
  {
   "cell_type": "markdown",
   "id": "e79d9582",
   "metadata": {},
   "source": [
    "## Inorder Traversal without Recursion"
   ]
  },
  {
   "cell_type": "code",
   "execution_count": 31,
   "id": "b65b8196",
   "metadata": {},
   "outputs": [],
   "source": [
    "class Node:\n",
    "    def __init__(self,data):\n",
    "        self.data=data\n",
    "        self.left=None\n",
    "        self.right=None\n",
    "\n",
    "root=Node(\"A\")\n",
    "root.left=Node(\"B\")\n",
    "root.right=Node(\"C\")\n",
    "root.left.left=Node(\"D\")\n",
    "root.left.right=Node(\"E\")\n",
    "root.right.left=Node(\"F\")\n",
    "root.right.right=Node(\"G\")\n",
    "root.left.right.left=Node(\"H\")\n",
    "root.left.right.right=Node(\"I\")"
   ]
  },
  {
   "cell_type": "code",
   "execution_count": 32,
   "id": "fae858ff",
   "metadata": {},
   "outputs": [],
   "source": [
    "def Inorder_without_Recursion(root):\n",
    "    \n",
    "    current=root\n",
    "    s=[]\n",
    "    \n",
    "    while True:\n",
    "        if current != None:\n",
    "            s.append(current)\n",
    "            current=current.left\n",
    "        \n",
    "        elif(s):\n",
    "            current=s.pop()\n",
    "            print(current.data,end=\" \")\n",
    "            current=current.right\n",
    "        else:\n",
    "            break\n",
    "            "
   ]
  },
  {
   "cell_type": "code",
   "execution_count": 33,
   "id": "951266b6",
   "metadata": {},
   "outputs": [
    {
     "name": "stdout",
     "output_type": "stream",
     "text": [
      "D B H E I A F C G "
     ]
    }
   ],
   "source": [
    "Inorder_without_Recursion(root)"
   ]
  }
 ],
 "metadata": {
  "kernelspec": {
   "display_name": "Python 3.9.5 64-bit",
   "language": "python",
   "name": "python3"
  },
  "language_info": {
   "codemirror_mode": {
    "name": "ipython",
    "version": 3
   },
   "file_extension": ".py",
   "mimetype": "text/x-python",
   "name": "python",
   "nbconvert_exporter": "python",
   "pygments_lexer": "ipython3",
   "version": "3.9.5"
  },
  "vscode": {
   "interpreter": {
    "hash": "f6246b25e200e4c5124e3e61789ac81350562f0761bbcf92ad9e48654207659c"
   }
  }
 },
 "nbformat": 4,
 "nbformat_minor": 5
}
