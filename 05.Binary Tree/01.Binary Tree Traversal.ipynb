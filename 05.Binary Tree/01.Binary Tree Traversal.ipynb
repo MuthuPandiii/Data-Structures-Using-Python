{
 "cells": [
  {
   "cell_type": "markdown",
   "id": "f7433723",
   "metadata": {},
   "source": [
    "# Simple Implementation"
   ]
  },
  {
   "cell_type": "code",
   "execution_count": 6,
   "id": "ff9e1170",
   "metadata": {},
   "outputs": [],
   "source": [
    "class Node:\n",
    "    def __init__(self,key):\n",
    "        self.left=None\n",
    "        self.right=None\n",
    "        self.val=key"
   ]
  },
  {
   "cell_type": "code",
   "execution_count": 7,
   "id": "3ed87038",
   "metadata": {},
   "outputs": [],
   "source": [
    "root=Node(1)"
   ]
  },
  {
   "cell_type": "code",
   "execution_count": 8,
   "id": "9d212ccd",
   "metadata": {},
   "outputs": [],
   "source": [
    "root.left=Node(2)"
   ]
  },
  {
   "cell_type": "code",
   "execution_count": 9,
   "id": "0fa3c73c",
   "metadata": {},
   "outputs": [],
   "source": [
    "root.right=Node(3)"
   ]
  },
  {
   "cell_type": "markdown",
   "id": "fb838130",
   "metadata": {},
   "source": [
    "## TRAVERSAL"
   ]
  },
  {
   "cell_type": "markdown",
   "id": "86ebb6f9",
   "metadata": {},
   "source": [
    "* PreOrder  Traversal\n",
    "* InOrder   Traversal\n",
    "* PostOrder Traversal"
   ]
  },
  {
   "cell_type": "markdown",
   "id": "81ede814",
   "metadata": {},
   "source": [
    "## **PreOrder Traversal**"
   ]
  },
  {
   "cell_type": "code",
   "execution_count": null,
   "id": "a851b9fa",
   "metadata": {},
   "outputs": [],
   "source": []
  },
  {
   "cell_type": "markdown",
   "id": "1e5e456e",
   "metadata": {},
   "source": [
    "# Root>>left>>Right"
   ]
  },
  {
   "cell_type": "code",
   "execution_count": 8,
   "id": "75cf002e",
   "metadata": {},
   "outputs": [],
   "source": [
    "def PreOrder_Traversal(root):\n",
    "    if root==None:\n",
    "        return\n",
    "    print(root.value,end=\"  \")\n",
    "    PreOrder_Traversal(root.left)\n",
    "    PreOrder_Traversal(root.right)"
   ]
  },
  {
   "cell_type": "code",
   "execution_count": 9,
   "id": "221ffb63",
   "metadata": {},
   "outputs": [
    {
     "name": "stdout",
     "output_type": "stream",
     "text": [
      "A  B  D  E  C  F  G  "
     ]
    }
   ],
   "source": [
    "PreOrder_Traversal(root)"
   ]
  },
  {
   "cell_type": "code",
   "execution_count": 10,
   "id": "ae27c8b0",
   "metadata": {},
   "outputs": [],
   "source": [
    "def InOrder_Traversal(root):\n",
    "    if root==None:\n",
    "        return\n",
    "    InOrder_Traversal(root.left)\n",
    "    print(root.value,end=\"  \")\n",
    "    InOrder_Traversal(root.right)"
   ]
  },
  {
   "cell_type": "code",
   "execution_count": 11,
   "id": "a85b5884",
   "metadata": {},
   "outputs": [
    {
     "name": "stdout",
     "output_type": "stream",
     "text": [
      "D  B  E  A  F  C  G  "
     ]
    }
   ],
   "source": [
    "InOrder_Traversal(root)"
   ]
  },
  {
   "cell_type": "code",
   "execution_count": 12,
   "id": "728285c1",
   "metadata": {},
   "outputs": [],
   "source": [
    "def PostOrder_Traversal(root):\n",
    "    if root==None:\n",
    "        return\n",
    "    PostOrder_Traversal(root.left)\n",
    "    PostOrder_Traversal(root.right)\n",
    "    print(root.value,end=\"  \")"
   ]
  },
  {
   "cell_type": "code",
   "execution_count": 13,
   "id": "6d9ff49b",
   "metadata": {},
   "outputs": [
    {
     "name": "stdout",
     "output_type": "stream",
     "text": [
      "D  E  B  F  G  C  A  "
     ]
    }
   ],
   "source": [
    "PostOrder_Traversal(root)"
   ]
  },
  {
   "cell_type": "code",
   "execution_count": null,
   "id": "15d903d7",
   "metadata": {},
   "outputs": [],
   "source": []
  },
  {
   "cell_type": "markdown",
   "id": "e79d9582",
   "metadata": {},
   "source": [
    "## Inorder Traversal without Recursion"
   ]
  },
  {
   "cell_type": "code",
   "execution_count": 1,
   "id": "b65b8196",
   "metadata": {},
   "outputs": [],
   "source": [
    "class Node:\n",
    "    def __init__(self,data):\n",
    "        self.data=data\n",
    "        self.left=None\n",
    "        self.right=None\n",
    "\n",
    "root=Node(\"A\")\n",
    "root.left=Node(\"B\")\n",
    "root.right=Node(\"C\")\n",
    "root.left.left=Node(\"D\")\n",
    "root.left.right=Node(\"E\")\n",
    "root.right.left=Node(\"F\")\n",
    "root.right.right=Node(\"G\")\n",
    "root.left.right.left=Node(\"H\")\n",
    "root.left.right.right=Node(\"I\")"
   ]
  },
  {
   "cell_type": "code",
   "execution_count": 2,
   "id": "fae858ff",
   "metadata": {},
   "outputs": [],
   "source": [
    "def Inorder_without_Recursion(root):\n",
    "    \n",
    "    current=root\n",
    "    s=[]\n",
    "    \n",
    "    while True:\n",
    "        if current != None:\n",
    "            s.append(current)\n",
    "            current=current.left\n",
    "        \n",
    "        elif(s):\n",
    "            current=s.pop()\n",
    "            print(current.data,end=\" \")\n",
    "            current=current.right\n",
    "        else:\n",
    "            break\n",
    "            "
   ]
  },
  {
   "cell_type": "code",
   "execution_count": 3,
   "id": "951266b6",
   "metadata": {},
   "outputs": [
    {
     "name": "stdout",
     "output_type": "stream",
     "text": [
      "D B H E I A F C G "
     ]
    }
   ],
   "source": [
    "Inorder_without_Recursion(root)"
   ]
  },
  {
   "cell_type": "code",
   "execution_count": null,
   "id": "60470757",
   "metadata": {},
   "outputs": [],
   "source": []
  }
 ],
 "metadata": {
  "kernelspec": {
   "display_name": "Python 3",
   "language": "python",
   "name": "python3"
  },
  "language_info": {
   "codemirror_mode": {
    "name": "ipython",
    "version": 3
   },
   "file_extension": ".py",
   "mimetype": "text/x-python",
   "name": "python",
   "nbconvert_exporter": "python",
   "pygments_lexer": "ipython3",
   "version": "3.8.8"
  }
 },
 "nbformat": 4,
 "nbformat_minor": 5
}
