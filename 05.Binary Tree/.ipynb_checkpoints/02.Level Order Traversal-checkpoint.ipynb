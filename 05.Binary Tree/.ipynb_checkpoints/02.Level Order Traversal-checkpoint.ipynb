{
 "cells": [
  {
   "cell_type": "code",
   "execution_count": 2,
   "id": "616e8319-bb0e-448b-86a6-8341221f8645",
   "metadata": {},
   "outputs": [],
   "source": [
    "class Binary_Tree_Node:\n",
    "    def __init__(self,data):\n",
    "        self.data = data\n",
    "        self.left = None\n",
    "        self.right = None"
   ]
  },
  {
   "cell_type": "code",
   "execution_count": 13,
   "id": "d254ac15-bbfb-4559-945e-75f3ad4a2b14",
   "metadata": {},
   "outputs": [],
   "source": [
    "class Binary_Tree:\n",
    "    def __init__(self):\n",
    "        self.root = None\n",
    "        \n",
    "    def LeveL_Order_Traversal(self,root):\n",
    "        \n",
    "        temp = root\n",
    "        \n",
    "        q = []\n",
    "        q.append(temp)\n",
    "        \n",
    "        while q:\n",
    "            temp = q.pop(0)\n",
    "            \n",
    "            print(temp.data)\n",
    "            \n",
    "            if temp.left:\n",
    "                q.append(temp.left)\n",
    "                \n",
    "            if temp.right:\n",
    "                q.append(temp.right)"
   ]
  },
  {
   "cell_type": "code",
   "execution_count": 14,
   "id": "48809c56-833e-4b09-871b-6af7ad8b7cdb",
   "metadata": {},
   "outputs": [],
   "source": [
    "root = Binary_Tree_Node(1)"
   ]
  },
  {
   "cell_type": "code",
   "execution_count": 15,
   "id": "b546a554-54b7-4784-899f-dc2f4029135c",
   "metadata": {},
   "outputs": [],
   "source": [
    "root.left = Binary_Tree_Node(2)\n",
    "root.right = Binary_Tree_Node(3)\n",
    "root.left.left = Binary_Tree_Node(4)\n",
    "root.left.right = Binary_Tree_Node(5)\n",
    "root.right.left = Binary_Tree_Node(6)\n",
    "root.right.right = Binary_Tree_Node(7)"
   ]
  },
  {
   "cell_type": "code",
   "execution_count": 16,
   "id": "76ecee99-37d7-49ae-b925-e4aa915603aa",
   "metadata": {},
   "outputs": [],
   "source": [
    "bt = Binary_Tree()"
   ]
  },
  {
   "cell_type": "code",
   "execution_count": 17,
   "id": "ee93ced4-c940-4ec5-b3c9-e18a8fc59408",
   "metadata": {},
   "outputs": [
    {
     "name": "stdout",
     "output_type": "stream",
     "text": [
      "1\n",
      "2\n",
      "3\n",
      "4\n",
      "5\n",
      "6\n",
      "7\n"
     ]
    }
   ],
   "source": [
    "bt.LeveL_Order_Traversal(root)"
   ]
  },
  {
   "cell_type": "code",
   "execution_count": null,
   "id": "4a61f97e-2776-4214-afae-2a61ae8ebef9",
   "metadata": {},
   "outputs": [],
   "source": []
  }
 ],
 "metadata": {
  "kernelspec": {
   "display_name": "Python 3",
   "language": "python",
   "name": "python3"
  },
  "language_info": {
   "codemirror_mode": {
    "name": "ipython",
    "version": 3
   },
   "file_extension": ".py",
   "mimetype": "text/x-python",
   "name": "python",
   "nbconvert_exporter": "python",
   "pygments_lexer": "ipython3",
   "version": "3.8.8"
  }
 },
 "nbformat": 4,
 "nbformat_minor": 5
}
