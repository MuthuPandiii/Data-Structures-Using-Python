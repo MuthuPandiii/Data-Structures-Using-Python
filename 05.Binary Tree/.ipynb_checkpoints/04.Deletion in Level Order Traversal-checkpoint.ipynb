{
 "cells": [
  {
   "cell_type": "markdown",
   "id": "89e6c7b5-7521-4211-a9df-74c2828f23e1",
   "metadata": {},
   "source": [
    "## Deletion in Level Order Traversal"
   ]
  },
  {
   "cell_type": "code",
   "execution_count": 5,
   "id": "25fe2d94-ca14-4585-ad55-26ab5a310ec4",
   "metadata": {},
   "outputs": [],
   "source": [
    "class Binary_Tree_Node:\n",
    "    def __init__(self,data):\n",
    "        self.data = data\n",
    "        self.left = None\n",
    "        self.right = None"
   ]
  },
  {
   "cell_type": "code",
   "execution_count": 32,
   "id": "a402325f-6a6e-42b2-9bae-a385a3b60d84",
   "metadata": {},
   "outputs": [],
   "source": [
    "class Binary_Tree:\n",
    "    def __init__(self):\n",
    "        self.root = None\n",
    "        \n",
    "    def Level_Order_Traversal(self,root):\n",
    "        q = []\n",
    "        q.append(root)\n",
    "        \n",
    "        while q:\n",
    "            temp = q.pop(0)\n",
    "            print(temp.data)\n",
    "            \n",
    "            if temp.left:\n",
    "                q.append(temp.left)\n",
    "            if temp.right:\n",
    "                q.append(temp.right)\n",
    "    \n",
    "    def Level_Order_Deletion(self,root,key):\n",
    "        \n",
    "        if root == None:\n",
    "            return None\n",
    "        \n",
    "        if root.left == None and root.right == None:\n",
    "            if root.data == key:\n",
    "                return None\n",
    "            else:\n",
    "                return root\n",
    "            \n",
    "        key_Node = None\n",
    "        last = None\n",
    "        \n",
    "        q = []\n",
    "        q.append(root)\n",
    "        \n",
    "        while q:\n",
    "            temp = q.pop(0)\n",
    "            \n",
    "            if temp.data == key:\n",
    "                key_Node = temp\n",
    "                \n",
    "            if temp.left:\n",
    "                last = temp\n",
    "                q.append(temp.left)\n",
    "                \n",
    "            if temp.right:\n",
    "                last = temp\n",
    "                q.append(temp.right)\n",
    "            \n",
    "        print(f'temp : {temp.data} ; last : {last.data}')\n",
    "        if key_Node != None:\n",
    "            key_Node.data = temp.data\n",
    "            \n",
    "            if last.right == temp:\n",
    "                last.right = None\n",
    "            else:\n",
    "                last.left = None\n",
    "        \n",
    "        return root"
   ]
  },
  {
   "cell_type": "code",
   "execution_count": 33,
   "id": "b6d95125-15e5-4b55-8758-4ab351193911",
   "metadata": {},
   "outputs": [],
   "source": [
    "root = Binary_Tree_Node(1)\n",
    "root.left = Binary_Tree_Node(2)\n",
    "root.right = Binary_Tree_Node(3)\n",
    "root.left.left = Binary_Tree_Node(4)\n",
    "root.left.right  = Binary_Tree_Node(5)\n",
    "root.right.left = Binary_Tree_Node(6)\n",
    "root.right.right = Binary_Tree_Node(7)"
   ]
  },
  {
   "cell_type": "code",
   "execution_count": 34,
   "id": "a39106bc-8807-42b8-bf5d-61aa35d9f5da",
   "metadata": {},
   "outputs": [],
   "source": [
    "bt = Binary_Tree()"
   ]
  },
  {
   "cell_type": "code",
   "execution_count": 35,
   "id": "84ff0b74-3db4-4b32-ba13-d2c560b780a9",
   "metadata": {},
   "outputs": [
    {
     "name": "stdout",
     "output_type": "stream",
     "text": [
      "1\n",
      "2\n",
      "3\n",
      "4\n",
      "5\n",
      "6\n",
      "7\n"
     ]
    }
   ],
   "source": [
    "bt.Level_Order_Traversal(root)"
   ]
  },
  {
   "cell_type": "code",
   "execution_count": 36,
   "id": "f2b3f94d-0898-465a-9725-581484437351",
   "metadata": {},
   "outputs": [
    {
     "name": "stdout",
     "output_type": "stream",
     "text": [
      "temp : 7 ; last : 3\n"
     ]
    }
   ],
   "source": [
    "root = bt.Level_Order_Deletion(root,2)"
   ]
  },
  {
   "cell_type": "code",
   "execution_count": 37,
   "id": "d75e75b5-ccbf-4bf9-ae43-1d8c6f5be1a6",
   "metadata": {},
   "outputs": [
    {
     "name": "stdout",
     "output_type": "stream",
     "text": [
      "1\n",
      "7\n",
      "3\n",
      "4\n",
      "5\n",
      "6\n"
     ]
    }
   ],
   "source": [
    "bt.Level_Order_Traversal(root)"
   ]
  },
  {
   "cell_type": "code",
   "execution_count": null,
   "id": "60d12af8-be26-47a3-85da-b8be18ce5877",
   "metadata": {},
   "outputs": [],
   "source": []
  }
 ],
 "metadata": {
  "kernelspec": {
   "display_name": "Python 3",
   "language": "python",
   "name": "python3"
  },
  "language_info": {
   "codemirror_mode": {
    "name": "ipython",
    "version": 3
   },
   "file_extension": ".py",
   "mimetype": "text/x-python",
   "name": "python",
   "nbconvert_exporter": "python",
   "pygments_lexer": "ipython3",
   "version": "3.9.5"
  }
 },
 "nbformat": 4,
 "nbformat_minor": 5
}
