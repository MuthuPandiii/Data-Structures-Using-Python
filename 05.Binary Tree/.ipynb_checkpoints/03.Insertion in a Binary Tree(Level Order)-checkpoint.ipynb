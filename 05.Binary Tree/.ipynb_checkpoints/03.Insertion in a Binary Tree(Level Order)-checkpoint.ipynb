{
 "cells": [
  {
   "cell_type": "code",
   "execution_count": 12,
   "id": "e0f175eb",
   "metadata": {},
   "outputs": [],
   "source": [
    "class Tree_Node:\n",
    "    def __init__(self,data):\n",
    "        self.data=data\n",
    "        self.left=None\n",
    "        self.right=None\n",
    "\n",
    "class Binary_Tree:\n",
    "    \n",
    "    def __init__(self):\n",
    "        self.root=None\n",
    "    \n",
    "    def Insert(self,temp,key):\n",
    "        \n",
    "        node=Tree_Node(key)\n",
    "        \n",
    "        if temp==None:\n",
    "            self.root=node\n",
    "            return\n",
    "        \n",
    "        q=[]\n",
    "        q.append(temp)\n",
    "        \n",
    "        while  q:\n",
    "            current=q.pop(0)\n",
    "            \n",
    "            if current.left==None:\n",
    "                current.left=node\n",
    "                break\n",
    "            else:\n",
    "                q.append(current.left)\n",
    "            \n",
    "            if current.right==None:\n",
    "                current.right=node\n",
    "                break\n",
    "            else:\n",
    "                q.append(current.right)\n",
    "                \n",
    "def InOrder(root):\n",
    "    \n",
    "    if root==None:\n",
    "        return\n",
    "        \n",
    "    InOrder(root.left)\n",
    "    print(root.data,end=\" \")\n",
    "    InOrder(root.right)\n",
    "        \n",
    "            "
   ]
  },
  {
   "cell_type": "code",
   "execution_count": 13,
   "id": "fa448825",
   "metadata": {},
   "outputs": [
    {
     "name": "stdout",
     "output_type": "stream",
     "text": [
      "3 7 9 6 1 5 8 4 "
     ]
    }
   ],
   "source": [
    "bt=Binary_Tree()\n",
    "\n",
    "root=Tree_Node(1)\n",
    "bt.Insert(root,9)\n",
    "bt.Insert(root,8)\n",
    "bt.Insert(root,7)\n",
    "bt.Insert(root,6)\n",
    "bt.Insert(root,5)\n",
    "bt.Insert(root,4)\n",
    "bt.Insert(root,3)\n",
    "\n",
    "InOrder(root)\n"
   ]
  },
  {
   "cell_type": "code",
   "execution_count": null,
   "id": "a151523d-672c-4bb0-b8a9-d5b6be396200",
   "metadata": {},
   "outputs": [],
   "source": []
  },
  {
   "cell_type": "code",
   "execution_count": null,
   "id": "95dde673-5150-4618-9c58-436dfdc56de3",
   "metadata": {},
   "outputs": [],
   "source": []
  }
 ],
 "metadata": {
  "kernelspec": {
   "display_name": "Python 3",
   "language": "python",
   "name": "python3"
  },
  "language_info": {
   "codemirror_mode": {
    "name": "ipython",
    "version": 3
   },
   "file_extension": ".py",
   "mimetype": "text/x-python",
   "name": "python",
   "nbconvert_exporter": "python",
   "pygments_lexer": "ipython3",
   "version": "3.8.8"
  }
 },
 "nbformat": 4,
 "nbformat_minor": 5
}
